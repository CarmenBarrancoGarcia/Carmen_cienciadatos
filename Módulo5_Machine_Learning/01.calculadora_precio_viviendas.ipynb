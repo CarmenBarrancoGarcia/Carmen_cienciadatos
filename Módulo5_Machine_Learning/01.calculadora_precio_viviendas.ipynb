{
 "cells": [
  {
   "cell_type": "markdown",
   "id": "8aa598d3",
   "metadata": {
    "tags": []
   },
   "source": [
    "## Ejercicio - Regresión Viviendas Barcelona\n",
    "\n",
    "- Utilizando el dataset de publicaciones de venta de viviendas en Barcelona _**viviendas_barcelona.parquet**_, entrena un modelo de regresión lineal múltiple que sea capaz de calcular el precio de venta:\n",
    "\n",
    "    - Antes de crear el modelo y entrenarlo, haz un **EDA** de los datos.\n",
    "        - ¿Qué columnas pueden ser las más importantes?\n",
    "        - ¿Como se distribuyen los precios?\n",
    "        - ¿Qué columnas sería factible limpiar?\n",
    "        - ¿Qué significan los **np.nan**?\n",
    "     \n",
    "    - Cuando entiendas bien los datos con los que estás tratando, puedes proceder a realizar un preprocesamiento:\n",
    "        - Elimina duplicados.\n",
    "        - Elimina columnas innecesarias\n",
    "        - Trata los valores perdidos **np.nan**.\n",
    "        - Maneja los outliers como consideres.\n",
    "        - Realiza transformaciones a los datos que consideres necesarias.\n",
    "        - Codifica los datos categóricos para que el modelo los entienda (pásalos a números).\n",
    "        - Considera normalizar los datos antes de utilizarlos para el entreno.\n",
    "        \n",
    "    - Entrena el modelo con un subconjunto de 70-80% del dataset.\n",
    "      \n",
    "    - Utiliza los datos restantes para comprobar cómo de bueno es el modelo:\n",
    "        - Calcula **R2**, **MAE** y **MSE**.\n",
    "        \n",
    "- Importa las librerías que vayas a necesitar."
   ]
  },
  {
   "cell_type": "code",
   "execution_count": 148,
   "id": "14ec06f8",
   "metadata": {},
   "outputs": [
    {
     "name": "stdout",
     "output_type": "stream",
     "text": [
      "Requirement already satisfied: pyarrow in c:\\users\\carme\\appdata\\local\\programs\\python\\python313\\lib\\site-packages (19.0.0)\n",
      "Note: you may need to restart the kernel to use updated packages.\n"
     ]
    },
    {
     "name": "stderr",
     "output_type": "stream",
     "text": [
      "\n",
      "[notice] A new release of pip is available: 24.3.1 -> 25.0\n",
      "[notice] To update, run: python.exe -m pip install --upgrade pip\n"
     ]
    }
   ],
   "source": [
    "%pip install pyarrow"
   ]
  },
  {
   "cell_type": "code",
   "execution_count": 149,
   "id": "9b372f35",
   "metadata": {},
   "outputs": [],
   "source": [
    "import pandas as pd\n",
    "import numpy as np \n",
    "import seaborn as sns\n",
    "import matplotlib.pyplot as plt\n",
    "\n",
    "# Modelo\n",
    "from sklearn.linear_model import LinearRegression\n",
    "\n",
    "# Herramientas de preprocesamiento\n",
    "from sklearn.preprocessing import MinMaxScaler, LabelEncoder, TargetEncoder, OneHotEncoder\n",
    "\n",
    "# Split\n",
    "from sklearn.model_selection import train_test_split\n",
    "\n",
    "# Métricas\n",
    "from sklearn.metrics import r2_score, mean_absolute_error, mean_squared_error\n",
    "\n",
    "df = pd.read_parquet(\"../DATA/viviendas_barcelona.parquet\")"
   ]
  },
  {
   "cell_type": "code",
   "execution_count": 150,
   "id": "42affea8",
   "metadata": {},
   "outputs": [],
   "source": [
    "df.drop(['id_1', 'id_2','updated','timestamp','province', 'location', 'Referencia','Consumo','Se aceptan mascotas' ], axis=1, inplace=True)"
   ]
  },
  {
   "cell_type": "code",
   "execution_count": 151,
   "id": "6b6714df",
   "metadata": {},
   "outputs": [
    {
     "name": "stdout",
     "output_type": "stream",
     "text": [
      "      price                                              title        lat  \\\n",
      "0   52000.0            Piso en venta en Avenida Casetes, nº 33  41.348350   \n",
      "1  315000.0    Casa adosada en venta en Vilafranca del Penedes  41.276503   \n",
      "2  650000.0  Casa unifamiliar en venta en Sant Sadurní d'Anoia  41.426682   \n",
      "3  315000.0       Casa en venta en Carrer de Sant Pere Molanta  41.318658   \n",
      "4  209900.0  Chalet en venta en Calle Carrer Serral Llarg, ...  41.369700   \n",
      "\n",
      "        lng                                  agency Superficie construida  \\\n",
      "0  1.701970       Inmuebles de Aliseda Inmobiliaria                 88 m²   \n",
      "1  1.652229  Inmuebles de Engel & Völkers Barcelona                179 m²   \n",
      "2  1.792630               Inmuebles de SAFTI ESPAÑA                253 m²   \n",
      "3  1.754891        Inmuebles de ALARCON PROPIEDADES                198 m²   \n",
      "4  1.876770              Inmuebles de FINCAS MARINA                494 m²   \n",
      "\n",
      "                           Emisiones             Clasificación Baños  \\\n",
      "0                      A B C D E F G    Pendiente de completar     1   \n",
      "1                               None               No indicado     2   \n",
      "2    63 Kg CO2/m2 año  A B C D E F G                Disponible     2   \n",
      "3    72 Kg CO2/m2 año  A B C D E F G                Disponible     2   \n",
      "4                      A B C D E F G                Disponible     2   \n",
      "\n",
      "  Habitaciones           Antigüedad Garaje  Terraza Ascensor  Tipo de casa  \\\n",
      "0            3                 None   None     None     None          None   \n",
      "1            4                 None      1  Terraza     None       Adosada   \n",
      "2            5                 None      2  Terraza     None   Unifamiliar   \n",
      "3            3   Entre 30 y 50 años      1  Terraza     None          None   \n",
      "4            3                 None   None  Terraza     None          None   \n",
      "\n",
      "  Superficie útil  \n",
      "0            None  \n",
      "1            None  \n",
      "2          220 m²  \n",
      "3          100 m²  \n",
      "4          398 m²  \n"
     ]
    }
   ],
   "source": [
    "print(df.head())"
   ]
  },
  {
   "cell_type": "code",
   "execution_count": 152,
   "id": "efae2d78",
   "metadata": {},
   "outputs": [],
   "source": [
    "# Superficie\n",
    "df[[\"Superficie construida\", \"Superficie útil\"]].head(40) #  para ver los datos\n",
    "\n",
    "def extraer_superficie_num(superficie):\n",
    "    try: \n",
    "        return int(superficie.split()[0].replace(\".\",\" \"))\n",
    "    except:\n",
    "        return np.nan\n",
    "\n",
    "\n",
    "df[\"Superficie construida\"] = df[\"Superficie construida\"].apply(extraer_superficie_num)\n",
    "df[\"Superficie construida\"] = df[\"Superficie construida\"].fillna(df[\"Superficie construida\"].median()).astype(np.int16)"
   ]
  },
  {
   "cell_type": "code",
   "execution_count": 153,
   "id": "6aa46d4d",
   "metadata": {},
   "outputs": [],
   "source": [
    "# Convertir a numérico la columna Superficie útil y rellenar sus nulos\n",
    "df[\"Superficie útil\"] = df[\"Superficie útil\"].apply(extraer_superficie_num)\n",
    "\n",
    "def fill_superficie_util(fila):\n",
    "    if pd.isnull(fila[\"Superficie útil\"]):\n",
    "        return fila[\"Superficie construida\"] * 0.85\n",
    "    else:\n",
    "        return fila[\"Superficie útil\"]\n",
    "# Opción 1 a nivel de todo el dataframe\n",
    "# Opción 2 usar filtro\n",
    "\n",
    "df[\"Superficie útil\"] = df.apply(fill_superficie_util, axis=1)"
   ]
  },
  {
   "cell_type": "code",
   "execution_count": 154,
   "id": "7017cfcb",
   "metadata": {},
   "outputs": [
    {
     "name": "stderr",
     "output_type": "stream",
     "text": [
      "c:\\Users\\carme\\AppData\\Local\\Programs\\Python\\Python313\\Lib\\site-packages\\numpy\\lib\\_nanfunctions_impl.py:1215: RuntimeWarning: Mean of empty slice\n",
      "  return np.nanmean(a, axis, out=out, keepdims=keepdims)\n"
     ]
    }
   ],
   "source": [
    "# Emisiones\n",
    "def extraer_emisiones_num(emision):\n",
    "    try:\n",
    "        return float(emision.strip().split()[0].replace(\",\", \".\"))\n",
    "    except:\n",
    "        return np.nan\n",
    "\n",
    "df[\"Emisiones\"] = df[[\"Emisiones\"]].apply(extraer_emisiones_num)\n",
    "median = df[\"Emisiones\"].median()\n",
    "df[\"Emisiones\"] = df[\"Emisiones\"].fillna(median).round(2).astype(float)"
   ]
  },
  {
   "cell_type": "code",
   "execution_count": 155,
   "id": "60cd5769",
   "metadata": {},
   "outputs": [],
   "source": [
    "# AGENCIA\n",
    "# Estrategia 1: crear una columna agency_size que represente en número de propiedades en verta para esa agency\n",
    "# Estrategia 2: crear una columna el percentil de tamaño de agencia en base al número de propiedades en venta\n",
    "# Estrategia 3: discretizarla en grupos: propietario individual, agencia pequeña, agencia mediana, agencia grande\n",
    "# Estrategia 4: precio medio de las casas de la agencia\n",
    "\n",
    "df[\"agency\"] = df[\"agency\"].fillna(\"Other\")\n",
    "df[\"agency_size\"] = df[\"agency\"].map(df[\"agency\"].value_counts())"
   ]
  },
  {
   "cell_type": "code",
   "execution_count": 156,
   "id": "9d3c2795",
   "metadata": {},
   "outputs": [
    {
     "data": {
      "text/html": [
       "<div>\n",
       "<style scoped>\n",
       "    .dataframe tbody tr th:only-of-type {\n",
       "        vertical-align: middle;\n",
       "    }\n",
       "\n",
       "    .dataframe tbody tr th {\n",
       "        vertical-align: top;\n",
       "    }\n",
       "\n",
       "    .dataframe thead th {\n",
       "        text-align: right;\n",
       "    }\n",
       "</style>\n",
       "<table border=\"1\" class=\"dataframe\">\n",
       "  <thead>\n",
       "    <tr style=\"text-align: right;\">\n",
       "      <th></th>\n",
       "      <th>agency</th>\n",
       "      <th>agency_size</th>\n",
       "    </tr>\n",
       "  </thead>\n",
       "  <tbody>\n",
       "    <tr>\n",
       "      <th>0</th>\n",
       "      <td>Inmuebles de Aliseda Inmobiliaria</td>\n",
       "      <td>493</td>\n",
       "    </tr>\n",
       "    <tr>\n",
       "      <th>1</th>\n",
       "      <td>Inmuebles de Engel &amp; Völkers Barcelona</td>\n",
       "      <td>2187</td>\n",
       "    </tr>\n",
       "    <tr>\n",
       "      <th>2</th>\n",
       "      <td>Inmuebles de SAFTI ESPAÑA</td>\n",
       "      <td>95</td>\n",
       "    </tr>\n",
       "    <tr>\n",
       "      <th>3</th>\n",
       "      <td>Inmuebles de ALARCON PROPIEDADES</td>\n",
       "      <td>30</td>\n",
       "    </tr>\n",
       "    <tr>\n",
       "      <th>4</th>\n",
       "      <td>Inmuebles de FINCAS MARINA</td>\n",
       "      <td>31</td>\n",
       "    </tr>\n",
       "    <tr>\n",
       "      <th>...</th>\n",
       "      <td>...</td>\n",
       "      <td>...</td>\n",
       "    </tr>\n",
       "    <tr>\n",
       "      <th>27474</th>\n",
       "      <td>Inmuebles de Engel &amp; Völkers Barcelona</td>\n",
       "      <td>2187</td>\n",
       "    </tr>\n",
       "    <tr>\n",
       "      <th>27475</th>\n",
       "      <td>Inmuebles de ESPAI HABITAT</td>\n",
       "      <td>28</td>\n",
       "    </tr>\n",
       "    <tr>\n",
       "      <th>27476</th>\n",
       "      <td>Inmuebles de Engel &amp; Völkers Barcelona</td>\n",
       "      <td>2187</td>\n",
       "    </tr>\n",
       "    <tr>\n",
       "      <th>27477</th>\n",
       "      <td>Inmuebles de AGC FINQUES</td>\n",
       "      <td>17</td>\n",
       "    </tr>\n",
       "    <tr>\n",
       "      <th>27478</th>\n",
       "      <td>Inmuebles de IMMOATIC.</td>\n",
       "      <td>13</td>\n",
       "    </tr>\n",
       "  </tbody>\n",
       "</table>\n",
       "<p>27479 rows × 2 columns</p>\n",
       "</div>"
      ],
      "text/plain": [
       "                                       agency  agency_size\n",
       "0           Inmuebles de Aliseda Inmobiliaria          493\n",
       "1      Inmuebles de Engel & Völkers Barcelona         2187\n",
       "2                   Inmuebles de SAFTI ESPAÑA           95\n",
       "3            Inmuebles de ALARCON PROPIEDADES           30\n",
       "4                  Inmuebles de FINCAS MARINA           31\n",
       "...                                       ...          ...\n",
       "27474  Inmuebles de Engel & Völkers Barcelona         2187\n",
       "27475              Inmuebles de ESPAI HABITAT           28\n",
       "27476  Inmuebles de Engel & Völkers Barcelona         2187\n",
       "27477                Inmuebles de AGC FINQUES           17\n",
       "27478                  Inmuebles de IMMOATIC.           13\n",
       "\n",
       "[27479 rows x 2 columns]"
      ]
     },
     "execution_count": 156,
     "metadata": {},
     "output_type": "execute_result"
    }
   ],
   "source": [
    "pd.reset_option(\"display.max_rows\")\n",
    "df[[\"agency\", \"agency_size\"]]"
   ]
  },
  {
   "cell_type": "code",
   "execution_count": 157,
   "id": "a1cf09dd",
   "metadata": {},
   "outputs": [],
   "source": [
    "# ascensor_cat: con ascensor, sin ascensor, otros\n",
    "df['Ascensor'].unique()\n",
    "\n",
    "def categorizar_ascensor(valor):\n",
    "    if pd.isnull(valor):\n",
    "        return 0\n",
    "    \n",
    "    valor = valor.strip().lower()\n",
    "    mapa_ascensor = {\n",
    "        None: 0,\n",
    "        'ascensor': 1,\n",
    "        'con ascensor': 1,\n",
    "        'del pis al pk': 1,\n",
    "        '2': 1,\n",
    "        'comedor y habitación': 1,\n",
    "        '2 ascensores en finca': 1,\n",
    "        'en proceso': 1,\n",
    "        'no': 0,\n",
    "        'ascensor disponible para acceder al terrado a tend': 1,\n",
    "        '2 ascensores': 1,\n",
    "        '4 personas 300kgs': 1,\n",
    "        'comunica con el parking': 1,\n",
    "        'en perfecto estado': 1,\n",
    "        'solo para los que viven en la 3 planta.': 1,\n",
    "        '1 o 2 personas': 1,\n",
    "        'amplio para silla de ruedas': 1,\n",
    "        'entre rellano': 1,\n",
    "        '4 personas 320kgs': 1,\n",
    "        '3 ( hay 3 escaleras)': 1,\n",
    "        'si amplio': 1,\n",
    "        'si, escalera b': 1,\n",
    "        '2 ascensores ( escalera a)': 1,\n",
    "        '3 personas 300kgs': 1,\n",
    "        '4 ascensores': 1,\n",
    "        '4': 1,\n",
    "        'dos ascensores': 1,\n",
    "        '3 ascensores en la finca': 1,\n",
    "        'en proyecto': 1,\n",
    "        'la caja de gero termo-acustico para reducir ruidos': 1,\n",
    "        'emplio': 1,\n",
    "        'pre-instalación': 1,\n",
    "        'si': 1,\n",
    "        'privado sólo para los áticos.': 0,\n",
    "        'conecta parking, viviendas y trasteros': 1,\n",
    "        'por uno cada siete vecinos': 1,\n",
    "        'de uso exclusivo para los áticos': 0,\n",
    "        'finca con ascensor': 1,\n",
    "        'interior': 1,\n",
    "        'no, solo es un primero': 0,\n",
    "        'no hay ascensor': 0,\n",
    "        'dos': 1,\n",
    "        '4 por rellano': 1,\n",
    "        'dos por planta': 1,\n",
    "        'de 4 por planta': 1,\n",
    "        'proyecto de ascensor aprobado': 1,\n",
    "        'true': 1,\n",
    "        'hasta el parquing': 1,\n",
    "        'ascensor renovado moderno': 1,\n",
    "        'nuevo': 1,\n",
    "        'al ser planta baja, no hace uso de él.': 0,\n",
    "        'solo 3 vecinos': 0,\n",
    "        'directo a la vivienda': 1,\n",
    "        '2 ascensores en la finca': 1,\n",
    "        'reformado': 1\n",
    "    }\n",
    "    return mapa_ascensor.get(valor, 0)\n",
    "    \n",
    "    \n",
    "df['Ascensor'] = df['Ascensor'].apply(categorizar_ascensor).astype(np.int8)"
   ]
  },
  {
   "cell_type": "code",
   "execution_count": 158,
   "id": "e55ab60b",
   "metadata": {},
   "outputs": [],
   "source": [
    "# df[\"Terraza\"].unique()\n",
    "\n",
    "def binarizar_terraza(valor):\n",
    "    try:\n",
    "        if pd.isnull(valor) or valor is None or len(valor) == 0 or valor.strip().lower().contains(\"no\"):\n",
    "            return False\n",
    "        else:\n",
    "            return True\n",
    "    except:\n",
    "        return False\n",
    "    \n",
    "df[\"Terraza\"] = df[\"Terraza\"].apply(binarizar_terraza)"
   ]
  },
  {
   "cell_type": "code",
   "execution_count": 159,
   "id": "200b0cc6",
   "metadata": {},
   "outputs": [
    {
     "data": {
      "text/plain": [
       "Terraza\n",
       "False    27479\n",
       "Name: count, dtype: int64"
      ]
     },
     "execution_count": 159,
     "metadata": {},
     "output_type": "execute_result"
    }
   ],
   "source": [
    "df[\"Terraza\"].value_counts()"
   ]
  },
  {
   "cell_type": "code",
   "execution_count": 160,
   "id": "207d820e",
   "metadata": {},
   "outputs": [],
   "source": [
    "# Baños\n",
    "\n",
    "def categorizar_bathroom(valor):\n",
    "    if pd.isnull(valor):\n",
    "        return 0\n",
    "    \n",
    "    valor = int(valor)\n",
    "    if valor <= 0:\n",
    "        return 0\n",
    "    if valor >= 9:\n",
    "        return 9\n",
    "    else:\n",
    "        return valor\n",
    "    \n",
    "df[\"Baños\"] = df[\"Baños\"].apply(categorizar_bathroom).astype(np.int8)"
   ]
  },
  {
   "cell_type": "code",
   "execution_count": 161,
   "id": "9ee52991",
   "metadata": {},
   "outputs": [],
   "source": [
    "# Habitaciones\n",
    "\n",
    "def categorizar_habitaciones(valor):\n",
    "    if pd.isnull(valor):\n",
    "        return 0\n",
    "    \n",
    "    valor = int(valor)\n",
    "    \n",
    "    if valor <= 0:\n",
    "        return 0\n",
    "    if valor >= 11:\n",
    "        return 11\n",
    "    else:\n",
    "        return valor\n",
    "    \n",
    "df[\"Habitaciones\"] =df[\"Habitaciones\"].apply(categorizar_bathroom)"
   ]
  },
  {
   "cell_type": "code",
   "execution_count": 162,
   "id": "6d07d0f8",
   "metadata": {},
   "outputs": [],
   "source": [
    "# Quitamos los que tienen precio null\n",
    "df_to_pred = df[df[\"price\"].isna()]\n",
    "df = df[~df[\"price\"].isna()]"
   ]
  },
  {
   "cell_type": "code",
   "execution_count": 163,
   "id": "56e5c217",
   "metadata": {},
   "outputs": [],
   "source": [
    "df_to_eda = df[[\"Habitaciones\", \"Baños\", \"Terraza\", \"Ascensor\", \"lat\", \"lng\",\n",
    "    \"agency_size\", \"Superficie construida\", \"Superficie útil\",\n",
    "    \"Emisiones\", \"price\"\n",
    "]]"
   ]
  },
  {
   "cell_type": "code",
   "execution_count": 164,
   "id": "0f1e07c3",
   "metadata": {},
   "outputs": [],
   "source": [
    "df_to_eda = df_to_eda.dropna()"
   ]
  },
  {
   "cell_type": "code",
   "execution_count": 165,
   "id": "17ec29db",
   "metadata": {},
   "outputs": [],
   "source": [
    "# openstreemaps\n",
    "# Nominatim\n",
    "# utilizar APIs para recuperar las coordenadas faltantes\n",
    "# Google Maps API de Google Cloud Plataform"
   ]
  },
  {
   "cell_type": "code",
   "execution_count": 166,
   "id": "ba068362",
   "metadata": {},
   "outputs": [
    {
     "data": {
      "text/plain": [
       "Habitaciones               int64\n",
       "Baños                       int8\n",
       "Terraza                     bool\n",
       "Ascensor                    int8\n",
       "lat                      float64\n",
       "lng                      float64\n",
       "agency_size                int64\n",
       "Superficie construida      int16\n",
       "Superficie útil          float64\n",
       "Emisiones                float64\n",
       "price                    float64\n",
       "dtype: object"
      ]
     },
     "execution_count": 166,
     "metadata": {},
     "output_type": "execute_result"
    }
   ],
   "source": [
    "df_to_eda.dtypes"
   ]
  },
  {
   "cell_type": "code",
   "execution_count": 167,
   "id": "ee088a42",
   "metadata": {},
   "outputs": [
    {
     "name": "stderr",
     "output_type": "stream",
     "text": [
      "c:\\Users\\carme\\AppData\\Local\\Programs\\Python\\Python313\\Lib\\site-packages\\seaborn\\matrix.py:202: RuntimeWarning: All-NaN slice encountered\n",
      "  vmin = np.nanmin(calc_data)\n",
      "c:\\Users\\carme\\AppData\\Local\\Programs\\Python\\Python313\\Lib\\site-packages\\seaborn\\matrix.py:207: RuntimeWarning: All-NaN slice encountered\n",
      "  vmax = np.nanmax(calc_data)\n"
     ]
    },
    {
     "data": {
      "text/plain": [
       "<Axes: >"
      ]
     },
     "execution_count": 167,
     "metadata": {},
     "output_type": "execute_result"
    },
    {
     "data": {
      "image/png": "[encoded data removed]",
      "text/plain": [
       "<Figure size 1000x800 with 2 Axes>"
      ]
     },
     "metadata": {},
     "output_type": "display_data"
    }
   ],
   "source": [
    "# Heatmpap de corr\n",
    "plt.figure(figsize=(10, 8))\n",
    "sns.heatmap(df_to_eda.corr().round(2), annot=True, cmap=\"viridis\")"
   ]
  },
  {
   "cell_type": "code",
   "execution_count": 168,
   "id": "5417631c",
   "metadata": {},
   "outputs": [],
   "source": [
    "# sns.pairplot(df_to_eda.sample(100))\n",
    "df_to_model = df[[\n",
    "    \"Habitaciones\", \"Baños\", \"Terraza\", \n",
    "    \"agency_size\", \"price\"\n",
    "]]"
   ]
  },
  {
   "cell_type": "code",
   "execution_count": 170,
   "id": "f3bdc866",
   "metadata": {},
   "outputs": [],
   "source": [
    "X = df_to_model.drop(\"price\", axis=1)\n",
    "y = df_to_model[\"price\"]    "
   ]
  },
  {
   "cell_type": "code",
   "execution_count": 172,
   "id": "1d4e7872",
   "metadata": {},
   "outputs": [],
   "source": [
    "X_train, X_test, y_train, y_test = train_test_split(X, y, test_size=0.30,random_state=42)"
   ]
  },
  {
   "cell_type": "code",
   "execution_count": 173,
   "id": "d83f548d",
   "metadata": {},
   "outputs": [],
   "source": [
    "df_resultados = pd.DataFrame(columns=['Modelo', 'R2', 'MAE', 'RMSE', 'MAPE'])"
   ]
  },
  {
   "cell_type": "code",
   "execution_count": 174,
   "id": "fc15f4ec",
   "metadata": {},
   "outputs": [],
   "source": [
    "from sklearn.ensemble import RandomForestRegressor\n",
    "from sklearn.metrics import mean_absolute_percentage_error, root_mean_squared_error\n",
    "from sklearn.neighbors import KNeighborsRegressor\n",
    "from sklearn.svm import SVR\n",
    "from sklearn.tree import DecisionTreeRegressor\n",
    "\n",
    "\n",
    "models = {\n",
    "    'RLM': LinearRegression(),\n",
    "    'KNN k = 3': KNeighborsRegressor(n_neighbors=3),\n",
    "    'KNN k = 5': KNeighborsRegressor(n_neighbors=5),\n",
    "    'KNN k = 7': KNeighborsRegressor(n_neighbors=7),\n",
    "    'KNN k = 9': KNeighborsRegressor(n_neighbors=9),\n",
    "    'DT depth = 5': DecisionTreeRegressor(max_depth=5),\n",
    "    'DT depth = no': DecisionTreeRegressor(),\n",
    "    'RF 100': RandomForestRegressor(),\n",
    "    'RF 150': RandomForestRegressor(n_estimators=150),\n",
    "    'SVR 1': SVR(C=1),\n",
    "    'SVR 10': SVR(C=10),\n",
    "    'SVR 1000': SVR(C=1000)\n",
    "}\n",
    "\n",
    "for name, model in models.items():\n",
    "    model.fit(X_train, y_train)\n",
    "    \n",
    "    y_pred = model.predict(X_test)\n",
    "\n",
    "    r2 = r2_score(y_test, y_pred)\n",
    "    mae = mean_absolute_error(y_test, y_pred)\n",
    "    rmse = root_mean_squared_error(y_test, y_pred)\n",
    "    mape = mean_absolute_percentage_error(y_test, y_pred) # (multiplicar mentalmente por 100)\n",
    "\n",
    "    df_resultados.loc[len(df_resultados)] = [name, r2, mae, rmse, mape]"
   ]
  },
  {
   "cell_type": "code",
   "execution_count": 175,
   "id": "c680c875",
   "metadata": {},
   "outputs": [
    {
     "data": {
      "text/html": [
       "<div>\n",
       "<style scoped>\n",
       "    .dataframe tbody tr th:only-of-type {\n",
       "        vertical-align: middle;\n",
       "    }\n",
       "\n",
       "    .dataframe tbody tr th {\n",
       "        vertical-align: top;\n",
       "    }\n",
       "\n",
       "    .dataframe thead th {\n",
       "        text-align: right;\n",
       "    }\n",
       "</style>\n",
       "<table border=\"1\" class=\"dataframe\">\n",
       "  <thead>\n",
       "    <tr style=\"text-align: right;\">\n",
       "      <th></th>\n",
       "      <th>Modelo</th>\n",
       "      <th>R2</th>\n",
       "      <th>MAE</th>\n",
       "      <th>RMSE</th>\n",
       "      <th>MAPE</th>\n",
       "    </tr>\n",
       "  </thead>\n",
       "  <tbody>\n",
       "    <tr>\n",
       "      <th>4</th>\n",
       "      <td>KNN k = 9</td>\n",
       "      <td>0.454281</td>\n",
       "      <td>179935.855326</td>\n",
       "      <td>399343.374238</td>\n",
       "      <td>0.473336</td>\n",
       "    </tr>\n",
       "    <tr>\n",
       "      <th>5</th>\n",
       "      <td>DT depth = 5</td>\n",
       "      <td>0.440577</td>\n",
       "      <td>192292.501099</td>\n",
       "      <td>404326.345209</td>\n",
       "      <td>0.532840</td>\n",
       "    </tr>\n",
       "    <tr>\n",
       "      <th>3</th>\n",
       "      <td>KNN k = 7</td>\n",
       "      <td>0.437050</td>\n",
       "      <td>184362.175468</td>\n",
       "      <td>405598.926475</td>\n",
       "      <td>0.487137</td>\n",
       "    </tr>\n",
       "    <tr>\n",
       "      <th>2</th>\n",
       "      <td>KNN k = 5</td>\n",
       "      <td>0.413392</td>\n",
       "      <td>188376.014535</td>\n",
       "      <td>414034.162704</td>\n",
       "      <td>0.500243</td>\n",
       "    </tr>\n",
       "    <tr>\n",
       "      <th>0</th>\n",
       "      <td>RLM</td>\n",
       "      <td>0.383995</td>\n",
       "      <td>215791.129679</td>\n",
       "      <td>424281.585301</td>\n",
       "      <td>0.612604</td>\n",
       "    </tr>\n",
       "    <tr>\n",
       "      <th>1</th>\n",
       "      <td>KNN k = 3</td>\n",
       "      <td>0.347544</td>\n",
       "      <td>199232.260578</td>\n",
       "      <td>436654.307228</td>\n",
       "      <td>0.522079</td>\n",
       "    </tr>\n",
       "    <tr>\n",
       "      <th>8</th>\n",
       "      <td>RF 150</td>\n",
       "      <td>0.328566</td>\n",
       "      <td>189043.119496</td>\n",
       "      <td>442959.089638</td>\n",
       "      <td>0.500560</td>\n",
       "    </tr>\n",
       "    <tr>\n",
       "      <th>7</th>\n",
       "      <td>RF 100</td>\n",
       "      <td>0.326572</td>\n",
       "      <td>189069.499550</td>\n",
       "      <td>443616.443446</td>\n",
       "      <td>0.501637</td>\n",
       "    </tr>\n",
       "    <tr>\n",
       "      <th>6</th>\n",
       "      <td>DT depth = no</td>\n",
       "      <td>0.112865</td>\n",
       "      <td>197795.976752</td>\n",
       "      <td>509163.028950</td>\n",
       "      <td>0.511514</td>\n",
       "    </tr>\n",
       "    <tr>\n",
       "      <th>11</th>\n",
       "      <td>SVR 1000</td>\n",
       "      <td>-0.019203</td>\n",
       "      <td>233054.875296</td>\n",
       "      <td>545748.394001</td>\n",
       "      <td>0.558225</td>\n",
       "    </tr>\n",
       "    <tr>\n",
       "      <th>10</th>\n",
       "      <td>SVR 10</td>\n",
       "      <td>-0.070936</td>\n",
       "      <td>242976.390428</td>\n",
       "      <td>559427.569469</td>\n",
       "      <td>0.583133</td>\n",
       "    </tr>\n",
       "    <tr>\n",
       "      <th>9</th>\n",
       "      <td>SVR 1</td>\n",
       "      <td>-0.076832</td>\n",
       "      <td>244246.341612</td>\n",
       "      <td>560965.204746</td>\n",
       "      <td>0.585116</td>\n",
       "    </tr>\n",
       "  </tbody>\n",
       "</table>\n",
       "</div>"
      ],
      "text/plain": [
       "           Modelo        R2            MAE           RMSE      MAPE\n",
       "4       KNN k = 9  0.454281  179935.855326  399343.374238  0.473336\n",
       "5    DT depth = 5  0.440577  192292.501099  404326.345209  0.532840\n",
       "3       KNN k = 7  0.437050  184362.175468  405598.926475  0.487137\n",
       "2       KNN k = 5  0.413392  188376.014535  414034.162704  0.500243\n",
       "0             RLM  0.383995  215791.129679  424281.585301  0.612604\n",
       "1       KNN k = 3  0.347544  199232.260578  436654.307228  0.522079\n",
       "8          RF 150  0.328566  189043.119496  442959.089638  0.500560\n",
       "7          RF 100  0.326572  189069.499550  443616.443446  0.501637\n",
       "6   DT depth = no  0.112865  197795.976752  509163.028950  0.511514\n",
       "11       SVR 1000 -0.019203  233054.875296  545748.394001  0.558225\n",
       "10         SVR 10 -0.070936  242976.390428  559427.569469  0.583133\n",
       "9           SVR 1 -0.076832  244246.341612  560965.204746  0.585116"
      ]
     },
     "execution_count": 175,
     "metadata": {},
     "output_type": "execute_result"
    }
   ],
   "source": [
    "df_resultados.sort_values(\"R2\", ascending=False)"
   ]
  },
  {
   "cell_type": "markdown",
   "id": "67312f88",
   "metadata": {},
   "source": [
    "Necesitaríamos mejorar los datos para poder mejorar el modelado. Actualmente hay pocas correlaciones con el price."
   ]
  }
 ],
 "metadata": {
  "kernelspec": {
   "display_name": "Python 3",
   "language": "python",
   "name": "python3"
  },
  "language_info": {
   "codemirror_mode": {
    "name": "ipython",
    "version": 3
   },
   "file_extension": ".py",
   "mimetype": "text/x-python",
   "name": "python",
   "nbconvert_exporter": "python",
   "pygments_lexer": "ipython3",
   "version": "3.13.1"
  }
 },
 "nbformat": 4,
 "nbformat_minor": 5
}
