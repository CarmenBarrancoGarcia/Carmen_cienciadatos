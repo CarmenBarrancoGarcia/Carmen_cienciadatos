{
 "cells": [
  {
   "cell_type": "markdown",
   "metadata": {},
   "source": [
    "### DEEP Learning en Scikit Learn\n",
    "\n",
    "Scikit Learn se especializa más en el proceso de ciencia de datos y machine learning, incorpora clases para aprendizaje profundo (deep learning) pero no es una librería especializada en aprendizaje profundo o deep learning.\n",
    "\n",
    "* Perceptron: modelo más básico de una neurona artificial. Utilizado para Clasificación binaria.\n",
    "* MLPClassifier: Red neuronal para clasificación.\n",
    "* MLPRegressor: Red neuronal para regresión."
   ]
  },
  {
   "cell_type": "code",
   "execution_count": 10,
   "metadata": {},
   "outputs": [],
   "source": [
    "from sklearn.linear_model import Perceptron\n",
    "from sklearn.model_selection import train_test_split\n",
    "from sklearn.datasets import load_iris\n",
    "\n",
    "X, y = load_iris(return_X_y=True)\n",
    "# para que sea clasificación multiclase filtramos solo clases 0 y 1\n",
    "X, y = X[y < 2], y[y < 2]\n",
    "\n",
    "X_train, X_test, y_train, y_test = train_test_split(X, y, random_state=42)"
   ]
  },
  {
   "cell_type": "code",
   "execution_count": 11,
   "metadata": {},
   "outputs": [
    {
     "name": "stdout",
     "output_type": "stream",
     "text": [
      "accuracy en train 1.0\n",
      "accuracy en test 1.0\n"
     ]
    }
   ],
   "source": [
    "model = Perceptron(max_iter=50, random_state=42) # por defecto 1000 epochs\n",
    "model.fit(X_train, y_train)\n",
    "\n",
    "print(\"accuracy en train\", model.score(X_train, y_train))\n",
    "print(\"accuracy en test\", model.score(X_test, y_test))"
   ]
  },
  {
   "cell_type": "code",
   "execution_count": 12,
   "metadata": {},
   "outputs": [],
   "source": [
    "# Red neuronal clasificación: MLPClassifier\n"
   ]
  },
  {
   "cell_type": "code",
   "execution_count": 13,
   "metadata": {},
   "outputs": [
    {
     "name": "stdout",
     "output_type": "stream",
     "text": [
      "accuracy en train 1.0\n",
      "accuracy en test 1.0\n"
     ]
    }
   ],
   "source": [
    "from sklearn.neural_network import MLPClassifier\n",
    "# Clasificación binaria:\n",
    "X, y = load_iris(return_X_y=True)\n",
    "X, y = X[y < 2], y[y < 2]\n",
    "\n",
    "X_train, X_test, y_train, y_test = train_test_split(X, y, random_state=42)\n",
    "\n",
    "model = MLPClassifier(hidden_layer_sizes=(50), max_iter=1000, random_state=42)\n",
    "model.fit(X_train, y_train)\n",
    "\n",
    "print(\"accuracy en train\", model.score(X_train, y_train))\n",
    "print(\"accuracy en test\", model.score(X_test, y_test))"
   ]
  }
 ],
 "metadata": {
  "kernelspec": {
   "display_name": "Python 3",
   "language": "python",
   "name": "python3"
  },
  "language_info": {
   "codemirror_mode": {
    "name": "ipython",
    "version": 3
   },
   "file_extension": ".py",
   "mimetype": "text/x-python",
   "name": "python",
   "nbconvert_exporter": "python",
   "pygments_lexer": "ipython3",
   "version": "3.13.1"
  }
 },
 "nbformat": 4,
 "nbformat_minor": 2
}
