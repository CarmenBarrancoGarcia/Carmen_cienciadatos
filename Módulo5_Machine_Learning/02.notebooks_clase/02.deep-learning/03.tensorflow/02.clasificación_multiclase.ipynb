{
 "cells": [
  {
   "cell_type": "markdown",
   "metadata": {},
   "source": [
    "### Tensorflow keras\n",
    "\n",
    "* \"y\" es números enteros (indices de clase: 0, 1, 2, 3,...): SperseCategoricalCrossentropy\n",
    "* encoding de la salida OneHot: CategoricalCrossEntropy"
   ]
  },
  {
   "cell_type": "code",
   "execution_count": 6,
   "metadata": {},
   "outputs": [],
   "source": [
    "import tensorflow as tf\n",
    "import seaborn as sns\n",
    "import pandas as pd\n",
    "import numpy as np \n",
    "import numpy\n",
    "import random\n",
    "import matplotlib.pyplot as plt\n",
    "from sklearn.datasets import make_classification\n",
    "from sklearn.model_selection import train_test_split"
   ]
  },
  {
   "cell_type": "code",
   "execution_count": 7,
   "metadata": {},
   "outputs": [
    {
     "data": {
      "text/html": [
       "<div>\n",
       "<style scoped>\n",
       "    .dataframe tbody tr th:only-of-type {\n",
       "        vertical-align: middle;\n",
       "    }\n",
       "\n",
       "    .dataframe tbody tr th {\n",
       "        vertical-align: top;\n",
       "    }\n",
       "\n",
       "    .dataframe thead th {\n",
       "        text-align: right;\n",
       "    }\n",
       "</style>\n",
       "<table border=\"1\" class=\"dataframe\">\n",
       "  <thead>\n",
       "    <tr style=\"text-align: right;\">\n",
       "      <th></th>\n",
       "      <th>feature_1</th>\n",
       "      <th>feature_2</th>\n",
       "      <th>feature_3</th>\n",
       "      <th>feature_4</th>\n",
       "      <th>feature_5</th>\n",
       "      <th>feature_6</th>\n",
       "      <th>feature_7</th>\n",
       "      <th>feature_8</th>\n",
       "      <th>feature_9</th>\n",
       "      <th>feature_10</th>\n",
       "      <th>...</th>\n",
       "      <th>feature_12</th>\n",
       "      <th>feature_13</th>\n",
       "      <th>feature_14</th>\n",
       "      <th>feature_15</th>\n",
       "      <th>feature_16</th>\n",
       "      <th>feature_17</th>\n",
       "      <th>feature_18</th>\n",
       "      <th>feature_19</th>\n",
       "      <th>feature_20</th>\n",
       "      <th>class</th>\n",
       "    </tr>\n",
       "  </thead>\n",
       "  <tbody>\n",
       "    <tr>\n",
       "      <th>0</th>\n",
       "      <td>0.577910</td>\n",
       "      <td>-1.175159</td>\n",
       "      <td>3.182231</td>\n",
       "      <td>0.404955</td>\n",
       "      <td>-0.613865</td>\n",
       "      <td>-1.039464</td>\n",
       "      <td>-0.239075</td>\n",
       "      <td>-2.836809</td>\n",
       "      <td>-8.026848</td>\n",
       "      <td>-9.041112</td>\n",
       "      <td>...</td>\n",
       "      <td>-3.014423</td>\n",
       "      <td>-0.923978</td>\n",
       "      <td>1.094650</td>\n",
       "      <td>0.711980</td>\n",
       "      <td>1.824328</td>\n",
       "      <td>2.145572</td>\n",
       "      <td>0.051517</td>\n",
       "      <td>-3.797374</td>\n",
       "      <td>1.102314</td>\n",
       "      <td>1</td>\n",
       "    </tr>\n",
       "    <tr>\n",
       "      <th>1</th>\n",
       "      <td>-3.256100</td>\n",
       "      <td>0.919359</td>\n",
       "      <td>1.291473</td>\n",
       "      <td>0.030575</td>\n",
       "      <td>1.660010</td>\n",
       "      <td>-0.552647</td>\n",
       "      <td>0.659944</td>\n",
       "      <td>-1.471791</td>\n",
       "      <td>0.089973</td>\n",
       "      <td>-0.870679</td>\n",
       "      <td>...</td>\n",
       "      <td>-3.269361</td>\n",
       "      <td>0.624425</td>\n",
       "      <td>0.528576</td>\n",
       "      <td>-2.705067</td>\n",
       "      <td>0.700740</td>\n",
       "      <td>-2.075426</td>\n",
       "      <td>-1.278485</td>\n",
       "      <td>0.824840</td>\n",
       "      <td>-0.712165</td>\n",
       "      <td>1</td>\n",
       "    </tr>\n",
       "    <tr>\n",
       "      <th>2</th>\n",
       "      <td>0.263308</td>\n",
       "      <td>-1.464582</td>\n",
       "      <td>1.580419</td>\n",
       "      <td>0.452207</td>\n",
       "      <td>0.693424</td>\n",
       "      <td>-0.664855</td>\n",
       "      <td>-2.134743</td>\n",
       "      <td>-3.664896</td>\n",
       "      <td>-3.941314</td>\n",
       "      <td>-4.077946</td>\n",
       "      <td>...</td>\n",
       "      <td>-2.652247</td>\n",
       "      <td>0.734020</td>\n",
       "      <td>-0.504239</td>\n",
       "      <td>-1.229404</td>\n",
       "      <td>1.276939</td>\n",
       "      <td>0.018643</td>\n",
       "      <td>-1.459663</td>\n",
       "      <td>-2.030924</td>\n",
       "      <td>-2.562835</td>\n",
       "      <td>1</td>\n",
       "    </tr>\n",
       "    <tr>\n",
       "      <th>3</th>\n",
       "      <td>2.327166</td>\n",
       "      <td>2.972473</td>\n",
       "      <td>2.546896</td>\n",
       "      <td>-0.887235</td>\n",
       "      <td>0.763177</td>\n",
       "      <td>2.039143</td>\n",
       "      <td>-1.942751</td>\n",
       "      <td>-0.079054</td>\n",
       "      <td>4.994518</td>\n",
       "      <td>-3.459207</td>\n",
       "      <td>...</td>\n",
       "      <td>-4.096714</td>\n",
       "      <td>2.801948</td>\n",
       "      <td>-0.499836</td>\n",
       "      <td>0.922420</td>\n",
       "      <td>0.170235</td>\n",
       "      <td>2.051526</td>\n",
       "      <td>1.737861</td>\n",
       "      <td>1.805639</td>\n",
       "      <td>2.357027</td>\n",
       "      <td>1</td>\n",
       "    </tr>\n",
       "    <tr>\n",
       "      <th>4</th>\n",
       "      <td>0.047870</td>\n",
       "      <td>0.033218</td>\n",
       "      <td>-1.179213</td>\n",
       "      <td>0.779208</td>\n",
       "      <td>1.454919</td>\n",
       "      <td>2.839628</td>\n",
       "      <td>1.145734</td>\n",
       "      <td>2.988370</td>\n",
       "      <td>6.476426</td>\n",
       "      <td>8.485573</td>\n",
       "      <td>...</td>\n",
       "      <td>1.315190</td>\n",
       "      <td>0.065581</td>\n",
       "      <td>1.876118</td>\n",
       "      <td>-0.038665</td>\n",
       "      <td>-2.712738</td>\n",
       "      <td>0.374466</td>\n",
       "      <td>-0.720040</td>\n",
       "      <td>0.809654</td>\n",
       "      <td>-2.902803</td>\n",
       "      <td>1</td>\n",
       "    </tr>\n",
       "  </tbody>\n",
       "</table>\n",
       "<p>5 rows × 21 columns</p>\n",
       "</div>"
      ],
      "text/plain": [
       "   feature_1  feature_2  feature_3  feature_4  feature_5  feature_6  \\\n",
       "0   0.577910  -1.175159   3.182231   0.404955  -0.613865  -1.039464   \n",
       "1  -3.256100   0.919359   1.291473   0.030575   1.660010  -0.552647   \n",
       "2   0.263308  -1.464582   1.580419   0.452207   0.693424  -0.664855   \n",
       "3   2.327166   2.972473   2.546896  -0.887235   0.763177   2.039143   \n",
       "4   0.047870   0.033218  -1.179213   0.779208   1.454919   2.839628   \n",
       "\n",
       "   feature_7  feature_8  feature_9  feature_10  ...  feature_12  feature_13  \\\n",
       "0  -0.239075  -2.836809  -8.026848   -9.041112  ...   -3.014423   -0.923978   \n",
       "1   0.659944  -1.471791   0.089973   -0.870679  ...   -3.269361    0.624425   \n",
       "2  -2.134743  -3.664896  -3.941314   -4.077946  ...   -2.652247    0.734020   \n",
       "3  -1.942751  -0.079054   4.994518   -3.459207  ...   -4.096714    2.801948   \n",
       "4   1.145734   2.988370   6.476426    8.485573  ...    1.315190    0.065581   \n",
       "\n",
       "   feature_14  feature_15  feature_16  feature_17  feature_18  feature_19  \\\n",
       "0    1.094650    0.711980    1.824328    2.145572    0.051517   -3.797374   \n",
       "1    0.528576   -2.705067    0.700740   -2.075426   -1.278485    0.824840   \n",
       "2   -0.504239   -1.229404    1.276939    0.018643   -1.459663   -2.030924   \n",
       "3   -0.499836    0.922420    0.170235    2.051526    1.737861    1.805639   \n",
       "4    1.876118   -0.038665   -2.712738    0.374466   -0.720040    0.809654   \n",
       "\n",
       "   feature_20  class  \n",
       "0    1.102314      1  \n",
       "1   -0.712165      1  \n",
       "2   -2.562835      1  \n",
       "3    2.357027      1  \n",
       "4   -2.902803      1  \n",
       "\n",
       "[5 rows x 21 columns]"
      ]
     },
     "execution_count": 7,
     "metadata": {},
     "output_type": "execute_result"
    }
   ],
   "source": [
    "X, y = make_classification(\n",
    "    n_samples=5000,\n",
    "    n_features=20,\n",
    "    n_informative=10,\n",
    "    n_redundant=5,\n",
    "    n_classes=3,\n",
    "    weights=[1/3]*3, # 3 clases balanceadas\n",
    "    random_state=42\n",
    ")\n",
    "\n",
    "df = pd.DataFrame(X, columns=[f\"feature_{i}\" for i in range(1, 21)])\n",
    "df[\"class\"] = 1\n",
    "df.head()"
   ]
  },
  {
   "cell_type": "code",
   "execution_count": 8,
   "metadata": {},
   "outputs": [],
   "source": [
    "X = df.drop(\"class\", axis=1)\n",
    "y = df[\"class\"]\n",
    "X_train, X_test, y_train, y_test = train_test_split(\n",
    "    X, y, test_size=0.2, random_state=42, stratify=y\n",
    ")"
   ]
  },
  {
   "cell_type": "code",
   "execution_count": 9,
   "metadata": {},
   "outputs": [
    {
     "data": {
      "text/plain": [
       "array([[0., 1., 0.],\n",
       "       [0., 1., 0.],\n",
       "       [0., 1., 0.],\n",
       "       [0., 1., 0.],\n",
       "       [0., 1., 0.]])"
      ]
     },
     "execution_count": 9,
     "metadata": {},
     "output_type": "execute_result"
    }
   ],
   "source": [
    "# aplicar one hot encoder a las salidas \"y\" para poder calcular métricas como precision, recall, auc\n",
    "# precision, recall, auc de keras esperan valores en el formato one hot\n",
    "import keras\n",
    "\n",
    "\n",
    "y_train_encoded = keras.utils.to_categorical(y_train, num_classes=3)\n",
    "y_test_encoded = keras.utils.to_categorical(y_test, num_classes=3)\n",
    "y_train_encoded[:5]"
   ]
  },
  {
   "cell_type": "code",
   "execution_count": 10,
   "metadata": {},
   "outputs": [
    {
     "name": "stdout",
     "output_type": "stream",
     "text": [
      "WARNING:tensorflow:From C:\\Users\\carme\\AppData\\Roaming\\Python\\Python312\\site-packages\\keras\\src\\backend\\common\\global_state.py:82: The name tf.reset_default_graph is deprecated. Please use tf.compat.v1.reset_default_graph instead.\n",
      "\n",
      "Epoch 1/20\n",
      "\u001b[1m100/100\u001b[0m \u001b[32m━━━━━━━━━━━━━━━━━━━━\u001b[0m\u001b[37m\u001b[0m \u001b[1m1s\u001b[0m 5ms/step - accuracy: 0.9432 - auc: 0.9846 - loss: 0.1935 - precision: 0.9596 - recall: 0.9131 - val_accuracy: 1.0000 - val_auc: 1.0000 - val_loss: 0.0037 - val_precision: 1.0000 - val_recall: 1.0000\n",
      "Epoch 2/20\n",
      "\u001b[1m100/100\u001b[0m \u001b[32m━━━━━━━━━━━━━━━━━━━━\u001b[0m\u001b[37m\u001b[0m \u001b[1m0s\u001b[0m 2ms/step - accuracy: 1.0000 - auc: 1.0000 - loss: 0.0024 - precision: 1.0000 - recall: 1.0000 - val_accuracy: 1.0000 - val_auc: 1.0000 - val_loss: 0.0014 - val_precision: 1.0000 - val_recall: 1.0000\n",
      "Epoch 3/20\n",
      "\u001b[1m100/100\u001b[0m \u001b[32m━━━━━━━━━━━━━━━━━━━━\u001b[0m\u001b[37m\u001b[0m \u001b[1m0s\u001b[0m 2ms/step - accuracy: 1.0000 - auc: 1.0000 - loss: 9.1787e-04 - precision: 1.0000 - recall: 1.0000 - val_accuracy: 1.0000 - val_auc: 1.0000 - val_loss: 6.9345e-04 - val_precision: 1.0000 - val_recall: 1.0000\n",
      "Epoch 4/20\n",
      "\u001b[1m100/100\u001b[0m \u001b[32m━━━━━━━━━━━━━━━━━━━━\u001b[0m\u001b[37m\u001b[0m \u001b[1m0s\u001b[0m 2ms/step - accuracy: 1.0000 - auc: 1.0000 - loss: 4.4912e-04 - precision: 1.0000 - recall: 1.0000 - val_accuracy: 1.0000 - val_auc: 1.0000 - val_loss: 4.0097e-04 - val_precision: 1.0000 - val_recall: 1.0000\n",
      "Epoch 5/20\n",
      "\u001b[1m100/100\u001b[0m \u001b[32m━━━━━━━━━━━━━━━━━━━━\u001b[0m\u001b[37m\u001b[0m \u001b[1m0s\u001b[0m 2ms/step - accuracy: 1.0000 - auc: 1.0000 - loss: 2.6004e-04 - precision: 1.0000 - recall: 1.0000 - val_accuracy: 1.0000 - val_auc: 1.0000 - val_loss: 2.6039e-04 - val_precision: 1.0000 - val_recall: 1.0000\n",
      "Epoch 6/20\n",
      "\u001b[1m100/100\u001b[0m \u001b[32m━━━━━━━━━━━━━━━━━━━━\u001b[0m\u001b[37m\u001b[0m \u001b[1m0s\u001b[0m 2ms/step - accuracy: 1.0000 - auc: 1.0000 - loss: 1.6767e-04 - precision: 1.0000 - recall: 1.0000 - val_accuracy: 1.0000 - val_auc: 1.0000 - val_loss: 1.8362e-04 - val_precision: 1.0000 - val_recall: 1.0000\n",
      "Epoch 7/20\n",
      "\u001b[1m100/100\u001b[0m \u001b[32m━━━━━━━━━━━━━━━━━━━━\u001b[0m\u001b[37m\u001b[0m \u001b[1m0s\u001b[0m 2ms/step - accuracy: 1.0000 - auc: 1.0000 - loss: 1.1702e-04 - precision: 1.0000 - recall: 1.0000 - val_accuracy: 1.0000 - val_auc: 1.0000 - val_loss: 1.3678e-04 - val_precision: 1.0000 - val_recall: 1.0000\n",
      "Epoch 8/20\n",
      "\u001b[1m100/100\u001b[0m \u001b[32m━━━━━━━━━━━━━━━━━━━━\u001b[0m\u001b[37m\u001b[0m \u001b[1m0s\u001b[0m 2ms/step - accuracy: 1.0000 - auc: 1.0000 - loss: 8.6036e-05 - precision: 1.0000 - recall: 1.0000 - val_accuracy: 1.0000 - val_auc: 1.0000 - val_loss: 1.0585e-04 - val_precision: 1.0000 - val_recall: 1.0000\n",
      "Epoch 9/20\n",
      "\u001b[1m100/100\u001b[0m \u001b[32m━━━━━━━━━━━━━━━━━━━━\u001b[0m\u001b[37m\u001b[0m \u001b[1m0s\u001b[0m 2ms/step - accuracy: 1.0000 - auc: 1.0000 - loss: 6.5660e-05 - precision: 1.0000 - recall: 1.0000 - val_accuracy: 1.0000 - val_auc: 1.0000 - val_loss: 8.4390e-05 - val_precision: 1.0000 - val_recall: 1.0000\n",
      "Epoch 10/20\n",
      "\u001b[1m100/100\u001b[0m \u001b[32m━━━━━━━━━━━━━━━━━━━━\u001b[0m\u001b[37m\u001b[0m \u001b[1m0s\u001b[0m 2ms/step - accuracy: 1.0000 - auc: 1.0000 - loss: 5.1623e-05 - precision: 1.0000 - recall: 1.0000 - val_accuracy: 1.0000 - val_auc: 1.0000 - val_loss: 6.8872e-05 - val_precision: 1.0000 - val_recall: 1.0000\n",
      "Epoch 11/20\n",
      "\u001b[1m100/100\u001b[0m \u001b[32m━━━━━━━━━━━━━━━━━━━━\u001b[0m\u001b[37m\u001b[0m \u001b[1m0s\u001b[0m 2ms/step - accuracy: 1.0000 - auc: 1.0000 - loss: 4.1560e-05 - precision: 1.0000 - recall: 1.0000 - val_accuracy: 1.0000 - val_auc: 1.0000 - val_loss: 5.7266e-05 - val_precision: 1.0000 - val_recall: 1.0000\n",
      "Epoch 12/20\n",
      "\u001b[1m100/100\u001b[0m \u001b[32m━━━━━━━━━━━━━━━━━━━━\u001b[0m\u001b[37m\u001b[0m \u001b[1m0s\u001b[0m 2ms/step - accuracy: 1.0000 - auc: 1.0000 - loss: 3.4098e-05 - precision: 1.0000 - recall: 1.0000 - val_accuracy: 1.0000 - val_auc: 1.0000 - val_loss: 4.8363e-05 - val_precision: 1.0000 - val_recall: 1.0000\n",
      "Epoch 13/20\n",
      "\u001b[1m100/100\u001b[0m \u001b[32m━━━━━━━━━━━━━━━━━━━━\u001b[0m\u001b[37m\u001b[0m \u001b[1m0s\u001b[0m 2ms/step - accuracy: 1.0000 - auc: 1.0000 - loss: 2.8420e-05 - precision: 1.0000 - recall: 1.0000 - val_accuracy: 1.0000 - val_auc: 1.0000 - val_loss: 4.1364e-05 - val_precision: 1.0000 - val_recall: 1.0000\n",
      "Epoch 14/20\n",
      "\u001b[1m100/100\u001b[0m \u001b[32m━━━━━━━━━━━━━━━━━━━━\u001b[0m\u001b[37m\u001b[0m \u001b[1m0s\u001b[0m 2ms/step - accuracy: 1.0000 - auc: 1.0000 - loss: 2.3999e-05 - precision: 1.0000 - recall: 1.0000 - val_accuracy: 1.0000 - val_auc: 1.0000 - val_loss: 3.5760e-05 - val_precision: 1.0000 - val_recall: 1.0000\n",
      "Epoch 15/20\n",
      "\u001b[1m100/100\u001b[0m \u001b[32m━━━━━━━━━━━━━━━━━━━━\u001b[0m\u001b[37m\u001b[0m \u001b[1m0s\u001b[0m 2ms/step - accuracy: 1.0000 - auc: 1.0000 - loss: 2.0490e-05 - precision: 1.0000 - recall: 1.0000 - val_accuracy: 1.0000 - val_auc: 1.0000 - val_loss: 3.1203e-05 - val_precision: 1.0000 - val_recall: 1.0000\n",
      "Epoch 16/20\n",
      "\u001b[1m100/100\u001b[0m \u001b[32m━━━━━━━━━━━━━━━━━━━━\u001b[0m\u001b[37m\u001b[0m \u001b[1m0s\u001b[0m 2ms/step - accuracy: 1.0000 - auc: 1.0000 - loss: 1.7661e-05 - precision: 1.0000 - recall: 1.0000 - val_accuracy: 1.0000 - val_auc: 1.0000 - val_loss: 2.7442e-05 - val_precision: 1.0000 - val_recall: 1.0000\n",
      "Epoch 17/20\n",
      "\u001b[1m100/100\u001b[0m \u001b[32m━━━━━━━━━━━━━━━━━━━━\u001b[0m\u001b[37m\u001b[0m \u001b[1m0s\u001b[0m 2ms/step - accuracy: 1.0000 - auc: 1.0000 - loss: 1.5347e-05 - precision: 1.0000 - recall: 1.0000 - val_accuracy: 1.0000 - val_auc: 1.0000 - val_loss: 2.4298e-05 - val_precision: 1.0000 - val_recall: 1.0000\n",
      "Epoch 18/20\n",
      "\u001b[1m100/100\u001b[0m \u001b[32m━━━━━━━━━━━━━━━━━━━━\u001b[0m\u001b[37m\u001b[0m \u001b[1m0s\u001b[0m 2ms/step - accuracy: 1.0000 - auc: 1.0000 - loss: 1.3431e-05 - precision: 1.0000 - recall: 1.0000 - val_accuracy: 1.0000 - val_auc: 1.0000 - val_loss: 2.1643e-05 - val_precision: 1.0000 - val_recall: 1.0000\n",
      "Epoch 19/20\n",
      "\u001b[1m100/100\u001b[0m \u001b[32m━━━━━━━━━━━━━━━━━━━━\u001b[0m\u001b[37m\u001b[0m \u001b[1m0s\u001b[0m 2ms/step - accuracy: 1.0000 - auc: 1.0000 - loss: 1.1830e-05 - precision: 1.0000 - recall: 1.0000 - val_accuracy: 1.0000 - val_auc: 1.0000 - val_loss: 1.9382e-05 - val_precision: 1.0000 - val_recall: 1.0000\n",
      "Epoch 20/20\n",
      "\u001b[1m100/100\u001b[0m \u001b[32m━━━━━━━━━━━━━━━━━━━━\u001b[0m\u001b[37m\u001b[0m \u001b[1m0s\u001b[0m 2ms/step - accuracy: 1.0000 - auc: 1.0000 - loss: 1.0473e-05 - precision: 1.0000 - recall: 1.0000 - val_accuracy: 1.0000 - val_auc: 1.0000 - val_loss: 1.7439e-05 - val_precision: 1.0000 - val_recall: 1.0000\n"
     ]
    },
    {
     "data": {
      "text/plain": [
       "<keras.src.callbacks.history.History at 0x14659b5c050>"
      ]
     },
     "execution_count": 10,
     "metadata": {},
     "output_type": "execute_result"
    }
   ],
   "source": [
    "# 0. Random state\n",
    "keras.backend.clear_session()\n",
    "seed = 42\n",
    "tf.random.set_seed(seed)\n",
    "np.random.seed(seed)\n",
    "random.seed(seed)\n",
    "\n",
    "# 1. Arquitectura\n",
    "model = keras.Sequential([\n",
    "    keras.layers.Dense(64, activation=\"relu\"),\n",
    "    keras.layers.Dense(64, activation=\"relu\"),\n",
    "    keras.layers.Dense(3, activation=\"softmax\") # capa de salida para clasificación multiclase, mismo número de neuronas que de clases a predecir\n",
    "])\n",
    "\n",
    "# 2. Compile\n",
    "model.compile(\n",
    "    # loss= keras.losses.SparseCategoricalCrossentropy(),  # si la \"y\" no está codificada a one-hot y es enteros 0, 1, 2, 3,...\n",
    "    loss=keras.losses.CategoricalCrossentropy(), # si la \"y\" ya está codificada a one-hot [0, 0, 1]\n",
    "    optimizer=keras.optimizers.Adam(),\n",
    "    metrics=[\n",
    "        \"accuracy\", # al escribirlo como texto keras seleccionará el accuracy más idóneo dependiendo de si es clasificación binaria o multiclase\n",
    "        keras.metrics.Precision(),\n",
    "        keras.metrics.Recall(),\n",
    "        keras.metrics.AUC()\n",
    "        ]\n",
    ")\n",
    "\n",
    "# fit\n",
    "model.fit(X_train, y_train_encoded, validation_split=0.2, epochs=20, verbose=1, batch_size=32)"
   ]
  },
  {
   "cell_type": "code",
   "execution_count": 11,
   "metadata": {},
   "outputs": [
    {
     "data": {
      "text/html": [
       "<pre style=\"white-space:pre;overflow-x:auto;line-height:normal;font-family:Menlo,'DejaVu Sans Mono',consolas,'Courier New',monospace\"><span style=\"font-weight: bold\">Model: \"sequential\"</span>\n",
       "</pre>\n"
      ],
      "text/plain": [
       "\u001b[1mModel: \"sequential\"\u001b[0m\n"
      ]
     },
     "metadata": {},
     "output_type": "display_data"
    },
    {
     "data": {
      "text/html": [
       "<pre style=\"white-space:pre;overflow-x:auto;line-height:normal;font-family:Menlo,'DejaVu Sans Mono',consolas,'Courier New',monospace\">┏━━━━━━━━━━━━━━━━━━━━━━━━━━━━━━━━━┳━━━━━━━━━━━━━━━━━━━━━━━━┳━━━━━━━━━━━━━━━┓\n",
       "┃<span style=\"font-weight: bold\"> Layer (type)                    </span>┃<span style=\"font-weight: bold\"> Output Shape           </span>┃<span style=\"font-weight: bold\">       Param # </span>┃\n",
       "┡━━━━━━━━━━━━━━━━━━━━━━━━━━━━━━━━━╇━━━━━━━━━━━━━━━━━━━━━━━━╇━━━━━━━━━━━━━━━┩\n",
       "│ dense (<span style=\"color: #0087ff; text-decoration-color: #0087ff\">Dense</span>)                   │ (<span style=\"color: #00af00; text-decoration-color: #00af00\">32</span>, <span style=\"color: #00af00; text-decoration-color: #00af00\">64</span>)               │         <span style=\"color: #00af00; text-decoration-color: #00af00\">1,344</span> │\n",
       "├─────────────────────────────────┼────────────────────────┼───────────────┤\n",
       "│ dense_1 (<span style=\"color: #0087ff; text-decoration-color: #0087ff\">Dense</span>)                 │ (<span style=\"color: #00af00; text-decoration-color: #00af00\">32</span>, <span style=\"color: #00af00; text-decoration-color: #00af00\">64</span>)               │         <span style=\"color: #00af00; text-decoration-color: #00af00\">4,160</span> │\n",
       "├─────────────────────────────────┼────────────────────────┼───────────────┤\n",
       "│ dense_2 (<span style=\"color: #0087ff; text-decoration-color: #0087ff\">Dense</span>)                 │ (<span style=\"color: #00af00; text-decoration-color: #00af00\">32</span>, <span style=\"color: #00af00; text-decoration-color: #00af00\">3</span>)                │           <span style=\"color: #00af00; text-decoration-color: #00af00\">195</span> │\n",
       "└─────────────────────────────────┴────────────────────────┴───────────────┘\n",
       "</pre>\n"
      ],
      "text/plain": [
       "┏━━━━━━━━━━━━━━━━━━━━━━━━━━━━━━━━━┳━━━━━━━━━━━━━━━━━━━━━━━━┳━━━━━━━━━━━━━━━┓\n",
       "┃\u001b[1m \u001b[0m\u001b[1mLayer (type)                   \u001b[0m\u001b[1m \u001b[0m┃\u001b[1m \u001b[0m\u001b[1mOutput Shape          \u001b[0m\u001b[1m \u001b[0m┃\u001b[1m \u001b[0m\u001b[1m      Param #\u001b[0m\u001b[1m \u001b[0m┃\n",
       "┡━━━━━━━━━━━━━━━━━━━━━━━━━━━━━━━━━╇━━━━━━━━━━━━━━━━━━━━━━━━╇━━━━━━━━━━━━━━━┩\n",
       "│ dense (\u001b[38;5;33mDense\u001b[0m)                   │ (\u001b[38;5;34m32\u001b[0m, \u001b[38;5;34m64\u001b[0m)               │         \u001b[38;5;34m1,344\u001b[0m │\n",
       "├─────────────────────────────────┼────────────────────────┼───────────────┤\n",
       "│ dense_1 (\u001b[38;5;33mDense\u001b[0m)                 │ (\u001b[38;5;34m32\u001b[0m, \u001b[38;5;34m64\u001b[0m)               │         \u001b[38;5;34m4,160\u001b[0m │\n",
       "├─────────────────────────────────┼────────────────────────┼───────────────┤\n",
       "│ dense_2 (\u001b[38;5;33mDense\u001b[0m)                 │ (\u001b[38;5;34m32\u001b[0m, \u001b[38;5;34m3\u001b[0m)                │           \u001b[38;5;34m195\u001b[0m │\n",
       "└─────────────────────────────────┴────────────────────────┴───────────────┘\n"
      ]
     },
     "metadata": {},
     "output_type": "display_data"
    },
    {
     "data": {
      "text/html": [
       "<pre style=\"white-space:pre;overflow-x:auto;line-height:normal;font-family:Menlo,'DejaVu Sans Mono',consolas,'Courier New',monospace\"><span style=\"font-weight: bold\"> Total params: </span><span style=\"color: #00af00; text-decoration-color: #00af00\">17,099</span> (66.80 KB)\n",
       "</pre>\n"
      ],
      "text/plain": [
       "\u001b[1m Total params: \u001b[0m\u001b[38;5;34m17,099\u001b[0m (66.80 KB)\n"
      ]
     },
     "metadata": {},
     "output_type": "display_data"
    },
    {
     "data": {
      "text/html": [
       "<pre style=\"white-space:pre;overflow-x:auto;line-height:normal;font-family:Menlo,'DejaVu Sans Mono',consolas,'Courier New',monospace\"><span style=\"font-weight: bold\"> Trainable params: </span><span style=\"color: #00af00; text-decoration-color: #00af00\">5,699</span> (22.26 KB)\n",
       "</pre>\n"
      ],
      "text/plain": [
       "\u001b[1m Trainable params: \u001b[0m\u001b[38;5;34m5,699\u001b[0m (22.26 KB)\n"
      ]
     },
     "metadata": {},
     "output_type": "display_data"
    },
    {
     "data": {
      "text/html": [
       "<pre style=\"white-space:pre;overflow-x:auto;line-height:normal;font-family:Menlo,'DejaVu Sans Mono',consolas,'Courier New',monospace\"><span style=\"font-weight: bold\"> Non-trainable params: </span><span style=\"color: #00af00; text-decoration-color: #00af00\">0</span> (0.00 B)\n",
       "</pre>\n"
      ],
      "text/plain": [
       "\u001b[1m Non-trainable params: \u001b[0m\u001b[38;5;34m0\u001b[0m (0.00 B)\n"
      ]
     },
     "metadata": {},
     "output_type": "display_data"
    },
    {
     "data": {
      "text/html": [
       "<pre style=\"white-space:pre;overflow-x:auto;line-height:normal;font-family:Menlo,'DejaVu Sans Mono',consolas,'Courier New',monospace\"><span style=\"font-weight: bold\"> Optimizer params: </span><span style=\"color: #00af00; text-decoration-color: #00af00\">11,400</span> (44.54 KB)\n",
       "</pre>\n"
      ],
      "text/plain": [
       "\u001b[1m Optimizer params: \u001b[0m\u001b[38;5;34m11,400\u001b[0m (44.54 KB)\n"
      ]
     },
     "metadata": {},
     "output_type": "display_data"
    }
   ],
   "source": [
    "model.summary()"
   ]
  },
  {
   "cell_type": "code",
   "execution_count": 12,
   "metadata": {},
   "outputs": [
    {
     "data": {
      "text/html": [
       "<div>\n",
       "<style scoped>\n",
       "    .dataframe tbody tr th:only-of-type {\n",
       "        vertical-align: middle;\n",
       "    }\n",
       "\n",
       "    .dataframe tbody tr th {\n",
       "        vertical-align: top;\n",
       "    }\n",
       "\n",
       "    .dataframe thead th {\n",
       "        text-align: right;\n",
       "    }\n",
       "</style>\n",
       "<table border=\"1\" class=\"dataframe\">\n",
       "  <thead>\n",
       "    <tr style=\"text-align: right;\">\n",
       "      <th></th>\n",
       "      <th>accuracy</th>\n",
       "      <th>auc</th>\n",
       "      <th>loss</th>\n",
       "      <th>precision</th>\n",
       "      <th>recall</th>\n",
       "      <th>val_accuracy</th>\n",
       "      <th>val_auc</th>\n",
       "      <th>val_loss</th>\n",
       "      <th>val_precision</th>\n",
       "      <th>val_recall</th>\n",
       "    </tr>\n",
       "  </thead>\n",
       "  <tbody>\n",
       "    <tr>\n",
       "      <th>0</th>\n",
       "      <td>0.986875</td>\n",
       "      <td>0.999633</td>\n",
       "      <td>0.060597</td>\n",
       "      <td>0.992079</td>\n",
       "      <td>0.978437</td>\n",
       "      <td>1.0</td>\n",
       "      <td>1.0</td>\n",
       "      <td>0.003744</td>\n",
       "      <td>1.0</td>\n",
       "      <td>1.0</td>\n",
       "    </tr>\n",
       "    <tr>\n",
       "      <th>1</th>\n",
       "      <td>1.000000</td>\n",
       "      <td>1.000000</td>\n",
       "      <td>0.001783</td>\n",
       "      <td>1.000000</td>\n",
       "      <td>1.000000</td>\n",
       "      <td>1.0</td>\n",
       "      <td>1.0</td>\n",
       "      <td>0.001414</td>\n",
       "      <td>1.0</td>\n",
       "      <td>1.0</td>\n",
       "    </tr>\n",
       "    <tr>\n",
       "      <th>2</th>\n",
       "      <td>1.000000</td>\n",
       "      <td>1.000000</td>\n",
       "      <td>0.000710</td>\n",
       "      <td>1.000000</td>\n",
       "      <td>1.000000</td>\n",
       "      <td>1.0</td>\n",
       "      <td>1.0</td>\n",
       "      <td>0.000693</td>\n",
       "      <td>1.0</td>\n",
       "      <td>1.0</td>\n",
       "    </tr>\n",
       "    <tr>\n",
       "      <th>3</th>\n",
       "      <td>1.000000</td>\n",
       "      <td>1.000000</td>\n",
       "      <td>0.000355</td>\n",
       "      <td>1.000000</td>\n",
       "      <td>1.000000</td>\n",
       "      <td>1.0</td>\n",
       "      <td>1.0</td>\n",
       "      <td>0.000401</td>\n",
       "      <td>1.0</td>\n",
       "      <td>1.0</td>\n",
       "    </tr>\n",
       "    <tr>\n",
       "      <th>4</th>\n",
       "      <td>1.000000</td>\n",
       "      <td>1.000000</td>\n",
       "      <td>0.000207</td>\n",
       "      <td>1.000000</td>\n",
       "      <td>1.000000</td>\n",
       "      <td>1.0</td>\n",
       "      <td>1.0</td>\n",
       "      <td>0.000260</td>\n",
       "      <td>1.0</td>\n",
       "      <td>1.0</td>\n",
       "    </tr>\n",
       "  </tbody>\n",
       "</table>\n",
       "</div>"
      ],
      "text/plain": [
       "   accuracy       auc      loss  precision    recall  val_accuracy  val_auc  \\\n",
       "0  0.986875  0.999633  0.060597   0.992079  0.978437           1.0      1.0   \n",
       "1  1.000000  1.000000  0.001783   1.000000  1.000000           1.0      1.0   \n",
       "2  1.000000  1.000000  0.000710   1.000000  1.000000           1.0      1.0   \n",
       "3  1.000000  1.000000  0.000355   1.000000  1.000000           1.0      1.0   \n",
       "4  1.000000  1.000000  0.000207   1.000000  1.000000           1.0      1.0   \n",
       "\n",
       "   val_loss  val_precision  val_recall  \n",
       "0  0.003744            1.0         1.0  \n",
       "1  0.001414            1.0         1.0  \n",
       "2  0.000693            1.0         1.0  \n",
       "3  0.000401            1.0         1.0  \n",
       "4  0.000260            1.0         1.0  "
      ]
     },
     "execution_count": 12,
     "metadata": {},
     "output_type": "execute_result"
    }
   ],
   "source": [
    "df_history = pd.DataFrame(model.history.history)\n",
    "df_history.head()"
   ]
  },
  {
   "cell_type": "code",
   "execution_count": 13,
   "metadata": {},
   "outputs": [
    {
     "data": {
      "image/png": "[encoded data removed]",
      "text/plain": [
       "<Figure size 700x500 with 1 Axes>"
      ]
     },
     "metadata": {},
     "output_type": "display_data"
    },
    {
     "data": {
      "image/png": "[encoded data removed]",
      "text/plain": [
       "<Figure size 700x500 with 1 Axes>"
      ]
     },
     "metadata": {},
     "output_type": "display_data"
    },
    {
     "data": {
      "image/png": "[encoded data removed]",
      "text/plain": [
       "<Figure size 700x500 with 1 Axes>"
      ]
     },
     "metadata": {},
     "output_type": "display_data"
    },
    {
     "data": {
      "image/png": "[encoded data removed]",
      "text/plain": [
       "<Figure size 700x500 with 1 Axes>"
      ]
     },
     "metadata": {},
     "output_type": "display_data"
    },
    {
     "data": {
      "image/png": "[encoded data removed]",
      "text/plain": [
       "<Figure size 700x500 with 1 Axes>"
      ]
     },
     "metadata": {},
     "output_type": "display_data"
    }
   ],
   "source": [
    "def plot_history(df_history): # Función genérica\n",
    "    '''\n",
    "    Dado un DataFrame con el history de entrenamiendo de una red (model.history.history)\n",
    "    genera gráficas de todas las métricas disponibles. Muestra un gráfico por cada par de métricas ejemplo: \n",
    "    * loss y val_loss\n",
    "    * mean_absolute_error y val_mean_absolute_error\n",
    "    '''\n",
    "    train_metrics = [col for col in df_history.columns if not col.startswith('val_')]\n",
    "    for metric in train_metrics:\n",
    "        plt.figure(figsize=(7, 5))\n",
    "        plt.plot(df_history[metric], label=f'{metric} train')\n",
    "        \n",
    "        val_metric = f'val_{metric}'\n",
    "        if val_metric in df_history.columns:\n",
    "            plt.plot(df_history[val_metric], label=f'{metric} val test')\n",
    "            \n",
    "        plt.title(metric)\n",
    "        plt.xlabel('epochs')\n",
    "        plt.ylabel(metric)\n",
    "        plt.legend()\n",
    "        plt.show()\n",
    "        \n",
    "plot_history(df_history)"
   ]
  },
  {
   "cell_type": "markdown",
   "metadata": {},
   "source": [
    "* Disminución inicial de ambas pérdidas(loss, val_loss):\n",
    "    * El modelo está aprendiendo correctamente.\n",
    "    * Lo ideal es que vayan a la par\n",
    "\n",
    "Cosas que pueden ocurrir:\n",
    "* A partir de un epoch el loss y val_loss ya no mejoran, ya no hay más aprendizaje, no se logra mejorar más por lo que es mejor cortar ya los epochs.\n",
    "\n",
    "* El val_loss empieza a aumentar a partir de un determinado epoch. Esto sugiere overfitting el modelo está memorizando en lugar de generalizar, se aprende demasiado los datos de train, por lo que luego los datos d test no es capaz de predecirlos bien. Lo ideal es cortar en el epoch donde val_loss alcanza su mínimo.\n",
    "\n",
    "* Picos puede deberse a muchas cosas:\n",
    "    * Learning_rate alto podría ocasionar ajustes grandes generando inestabilidad\n",
    "    * Regularización: si no hay regularización puede haber overfitting e inestabilidad. Solución: capas Dropout\n",
    "    * Cambios en los datos de validación: validation_split se extrae de forma aleatoria en cada epoch, eso significa que cada epoch se toman ejemlos diferentes. Si los datos son ficticios o raros eso puede dar lugar a picos."
   ]
  },
  {
   "cell_type": "code",
   "execution_count": 14,
   "metadata": {},
   "outputs": [
    {
     "name": "stdout",
     "output_type": "stream",
     "text": [
      "\u001b[1m32/32\u001b[0m \u001b[32m━━━━━━━━━━━━━━━━━━━━\u001b[0m\u001b[37m\u001b[0m \u001b[1m0s\u001b[0m 2ms/step - accuracy: 1.0000 - auc: 1.0000 - loss: 9.8260e-06 - precision: 1.0000 - recall: 1.0000  \n",
      "test_loss_bce 1.0160290003113914e-05\n",
      "test_accuracy 1.0\n",
      "test_precision 1.0\n",
      "test_recall 1.0\n",
      "test_auc 1.0\n"
     ]
    }
   ],
   "source": [
    "test_loss_bce, test_accuracy, test_precision, test_recall, test_auc = model.evaluate(X_test, y_test_encoded)\n",
    "print(\"test_loss_bce\", test_loss_bce)\n",
    "print(\"test_accuracy\", test_accuracy)\n",
    "print(\"test_precision\", test_precision)\n",
    "print(\"test_recall\", test_recall)\n",
    "print(\"test_auc\", test_auc)"
   ]
  },
  {
   "cell_type": "code",
   "execution_count": 15,
   "metadata": {},
   "outputs": [
    {
     "name": "stdout",
     "output_type": "stream",
     "text": [
      "\u001b[1m32/32\u001b[0m \u001b[32m━━━━━━━━━━━━━━━━━━━━\u001b[0m\u001b[37m\u001b[0m \u001b[1m0s\u001b[0m 2ms/step \n"
     ]
    },
    {
     "data": {
      "text/plain": [
       "array([[6.2212569e-16, 1.0000000e+00, 1.7625365e-14],\n",
       "       [1.0615083e-11, 1.0000000e+00, 2.7794187e-11],\n",
       "       [3.9208889e-10, 1.0000000e+00, 7.8719176e-10],\n",
       "       ...,\n",
       "       [2.7938490e-11, 1.0000000e+00, 8.1625532e-13],\n",
       "       [2.9758071e-11, 1.0000000e+00, 1.8468329e-11],\n",
       "       [1.0269041e-11, 1.0000000e+00, 8.1280677e-12]], dtype=float32)"
      ]
     },
     "execution_count": 15,
     "metadata": {},
     "output_type": "execute_result"
    }
   ],
   "source": [
    "model.predict(X_test) #matriz de probabilidades [n_samples, n_classes]"
   ]
  },
  {
   "cell_type": "code",
   "execution_count": 16,
   "metadata": {},
   "outputs": [
    {
     "name": "stdout",
     "output_type": "stream",
     "text": [
      "\u001b[1m32/32\u001b[0m \u001b[32m━━━━━━━━━━━━━━━━━━━━\u001b[0m\u001b[37m\u001b[0m \u001b[1m0s\u001b[0m 928us/step\n"
     ]
    },
    {
     "data": {
      "text/plain": [
       "array([1, 1, 1, 1, 1, 1, 1, 1, 1, 1])"
      ]
     },
     "execution_count": 16,
     "metadata": {},
     "output_type": "execute_result"
    }
   ],
   "source": [
    "y_pred = model.predict(X_test)\n",
    "y_pred_labels = np.argmax(y_pred, axis=1) # Devuelve la clase que teine la probabilidad más alta: 0, 1, 2,...\n",
    "y_pred_labels[:10]"
   ]
  },
  {
   "cell_type": "code",
   "execution_count": 17,
   "metadata": {},
   "outputs": [
    {
     "data": {
      "text/html": [
       "<div>\n",
       "<style scoped>\n",
       "    .dataframe tbody tr th:only-of-type {\n",
       "        vertical-align: middle;\n",
       "    }\n",
       "\n",
       "    .dataframe tbody tr th {\n",
       "        vertical-align: top;\n",
       "    }\n",
       "\n",
       "    .dataframe thead th {\n",
       "        text-align: right;\n",
       "    }\n",
       "</style>\n",
       "<table border=\"1\" class=\"dataframe\">\n",
       "  <thead>\n",
       "    <tr style=\"text-align: right;\">\n",
       "      <th></th>\n",
       "      <th>real</th>\n",
       "      <th>prediccion</th>\n",
       "    </tr>\n",
       "  </thead>\n",
       "  <tbody>\n",
       "    <tr>\n",
       "      <th>987</th>\n",
       "      <td>1</td>\n",
       "      <td>1</td>\n",
       "    </tr>\n",
       "    <tr>\n",
       "      <th>3175</th>\n",
       "      <td>1</td>\n",
       "      <td>1</td>\n",
       "    </tr>\n",
       "    <tr>\n",
       "      <th>2709</th>\n",
       "      <td>1</td>\n",
       "      <td>1</td>\n",
       "    </tr>\n",
       "    <tr>\n",
       "      <th>1931</th>\n",
       "      <td>1</td>\n",
       "      <td>1</td>\n",
       "    </tr>\n",
       "    <tr>\n",
       "      <th>1899</th>\n",
       "      <td>1</td>\n",
       "      <td>1</td>\n",
       "    </tr>\n",
       "  </tbody>\n",
       "</table>\n",
       "</div>"
      ],
      "text/plain": [
       "      real  prediccion\n",
       "987      1           1\n",
       "3175     1           1\n",
       "2709     1           1\n",
       "1931     1           1\n",
       "1899     1           1"
      ]
     },
     "execution_count": 17,
     "metadata": {},
     "output_type": "execute_result"
    }
   ],
   "source": [
    "df_comparision = pd.DataFrame({\"real\": y_test, \"prediccion\": y_pred_labels})\n",
    "df_comparision.head()"
   ]
  }
 ],
 "metadata": {
  "kernelspec": {
   "display_name": "Python 3",
   "language": "python",
   "name": "python3"
  },
  "language_info": {
   "codemirror_mode": {
    "name": "ipython",
    "version": 3
   },
   "file_extension": ".py",
   "mimetype": "text/x-python",
   "name": "python",
   "nbconvert_exporter": "python",
   "pygments_lexer": "ipython3",
   "version": "3.12.6"
  }
 },
 "nbformat": 4,
 "nbformat_minor": 2
}
