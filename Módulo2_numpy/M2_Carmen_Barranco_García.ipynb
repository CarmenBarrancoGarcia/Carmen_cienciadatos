{
 "cells": [
  {
   "cell_type": "markdown",
   "metadata": {},
   "source": [
    "### EJERCICIO DATASET MADRID IDEALISTA"
   ]
  },
  {
   "cell_type": "code",
   "execution_count": 1,
   "metadata": {},
   "outputs": [],
   "source": [
    "import numpy as np\n",
    "import matplotlib.pyplot as plt\n",
    "from scipy import stats\n",
    "\n",
    "import pickle as pkl\n",
    "\n",
    "from collections import Counter\n",
    "\n",
    "import seaborn as sns"
   ]
  },
  {
   "cell_type": "code",
   "execution_count": 2,
   "metadata": {},
   "outputs": [
    {
     "data": {
      "text/plain": [
       "<function unique at 0x77e8b444c5f0>"
      ]
     },
     "execution_count": 2,
     "metadata": {},
     "output_type": "execute_result"
    }
   ],
   "source": [
    "np.unique"
   ]
  },
  {
   "cell_type": "code",
   "execution_count": 62,
   "metadata": {},
   "outputs": [
    {
     "data": {
      "text/plain": [
       "array(['Recoletos', 'Castellana', 'Hortaleza', 'Chamartín', 'Recoletos',\n",
       "       'Cuatro Caminos', 'Recoletos', 'Goya', 'Goya', 'Aravaca',\n",
       "       'Recoletos', 'Sol', 'Bernabéu-Hispanoamérica', 'Vallehermoso',\n",
       "       'Castellana', 'Huertas-Cortes', 'Chamberí',\n",
       "       'Bernabéu-Hispanoamérica', 'Nueva España', 'Huertas-Cortes',\n",
       "       'Aravaca', 'Conde Orgaz-Piovera', 'Castellana', 'Chueca-Justicia',\n",
       "       'Argüelles', 'Nuevos Ministerios-Ríos Rosas', 'Hortaleza',\n",
       "       'Centro', 'Moncloa', 'Retiro', 'Moncloa', 'Barrio de Salamanca',\n",
       "       'Barrio de Salamanca', 'Peñagrande', 'Mirasierra', 'Fuencarral',\n",
       "       'Comillas', 'Centro', 'Chamartín', 'Argüelles', 'Chamartín',\n",
       "       'Chamartín', 'Hortaleza', 'Moncloa', 'Malasaña-Universidad',\n",
       "       'Nueva España', 'Recoletos', 'Palos de Moguer', 'Hortaleza',\n",
       "       'San Blas', 'Prosperidad', 'Bernabéu-Hispanoamérica', 'Moncloa',\n",
       "       'Bernabéu-Hispanoamérica', 'Chamartín', 'Retiro', 'Moncloa',\n",
       "       'Bellas Vistas', 'Bernabéu-Hispanoamérica', 'Niño Jesús',\n",
       "       'El Viso', 'Barrio de Salamanca', 'Conde Orgaz-Piovera',\n",
       "       'Recoletos', 'Palacio', 'Palos de Moguer', 'Palacio', 'Lista',\n",
       "       'Ciudad Lineal', 'Lavapiés-Embajadores', 'Retiro', 'El Viso',\n",
       "       'Salvador', 'El Viso', 'Castellana', 'Barrio de Salamanca',\n",
       "       'San Blas', 'Almagro', 'Fuente del Berro', 'Centro', 'Gaztambide',\n",
       "       'Acacias', 'Palacio', 'Malasaña-Universidad', 'Ciudad Lineal',\n",
       "       'Fuente del Berro', 'Arapiles', 'Hortaleza', 'Guindalera',\n",
       "       'Chamberí', 'Moncloa', 'Chueca-Justicia', 'Fuencarral', 'Centro',\n",
       "       'Moncloa', 'Fuencarral', 'Moncloa', 'Centro', 'Hortaleza',\n",
       "       'Moncloa', 'Moncloa', 'Ciudad Universitaria', 'Centro',\n",
       "       'Lavapiés-Embajadores', 'Hortaleza', 'Puerta del Ángel',\n",
       "       'Ventilla-Almenara', 'Huertas-Cortes', 'Mirasierra', 'Almagro',\n",
       "       'Cuatro Caminos', 'Hortaleza', 'Ciudad Lineal', 'Moncloa',\n",
       "       'Almagro', 'Moncloa', 'Nuevos Ministerios-Ríos Rosas',\n",
       "       'Lavapiés-Embajadores', 'Peñagrande', 'Acacias', 'Moncloa',\n",
       "       'Chamartín', 'Hortaleza', 'Barrio de Salamanca', 'Moncloa',\n",
       "       'Barrio de Salamanca', 'Hortaleza', 'Chamartín', 'Rejas',\n",
       "       'Fuencarral', 'Hortaleza', 'Centro', 'Centro', 'Centro',\n",
       "       'Chamberí', 'Nuevos Ministerios-Ríos Rosas', 'Almagro',\n",
       "       'Pau de Carabanchel', 'Moncloa', 'Zofío', 'Castellana',\n",
       "       'Chamartín', 'Guindalera', 'Chueca-Justicia',\n",
       "       'Barrio de Salamanca', 'Hortaleza', 'Recoletos',\n",
       "       'Malasaña-Universidad', 'Malasaña-Universidad', 'La Paz',\n",
       "       'Valdezarza', 'Fuencarral', 'Argüelles', 'Fuente del Berro',\n",
       "       'Lista', 'La Paz', 'Prosperidad', 'Pacífico',\n",
       "       'Ciudad Universitaria', 'Costillares', 'Trafalgar', 'Simancas',\n",
       "       'Ibiza', 'Jerónimos', 'La Paz', 'Retiro', 'Trafalgar',\n",
       "       'Nueva España', 'Guindalera', 'Legazpi', 'Palomas', 'Goya',\n",
       "       'Jerónimos', 'Goya', 'Castilla', 'Castellana',\n",
       "       'Ciudad Universitaria', 'Chamartín', 'Pinar del Rey', 'Acacias',\n",
       "       'Barrio de Salamanca', 'Chamartín', 'Lavapiés-Embajadores',\n",
       "       'Chueca-Justicia', 'Hortaleza', 'Goya', 'Hortaleza', 'Lista',\n",
       "       'Barrio de Salamanca', 'Argüelles',\n",
       "       'Nuevos Ministerios-Ríos Rosas', 'Acacias', 'Recoletos',\n",
       "       'Chamartín', 'Vallehermoso', 'Pacífico', 'Cuzco-Castillejos',\n",
       "       'Lista', 'Valdezarza', 'Ciudad Universitaria',\n",
       "       'Bernabéu-Hispanoamérica', 'Barrio de Salamanca',\n",
       "       'Barrio de Salamanca', 'Chamberí', 'Malasaña-Universidad', 'Ibiza',\n",
       "       'Malasaña-Universidad', 'Castellana', 'Palos de Moguer',\n",
       "       'Fuente del Berro', 'Centro', 'Hortaleza', 'Centro',\n",
       "       'Cuzco-Castillejos', 'Cuzco-Castillejos', 'San Isidro',\n",
       "       'Barrio de Salamanca', 'Barrio de Salamanca', 'Opañel',\n",
       "       'Trafalgar', 'Chamberí', 'Barrio de Salamanca',\n",
       "       'Malasaña-Universidad', 'Barrio de Salamanca', 'Lista',\n",
       "       'Barrio de Salamanca', 'Colina', 'Hortaleza', 'San Blas',\n",
       "       'Guindalera', 'Hortaleza', 'El Cañaveral', 'Centro', 'Centro',\n",
       "       'Malasaña-Universidad', 'Puerta del Ángel', 'Chueca-Justicia',\n",
       "       'Fuencarral', 'Moncloa', 'Lista', 'Nueva España', 'Trafalgar',\n",
       "       'Recoletos', 'Goya', 'Almagro', 'Nuevos Ministerios-Ríos Rosas',\n",
       "       'Goya', 'Conde Orgaz-Piovera', 'Lavapiés-Embajadores',\n",
       "       'Barrio de Salamanca', 'Valdemarín', 'Barrio de Salamanca',\n",
       "       'Centro', 'Castellana', 'Aravaca', 'Tetuán', 'Palacio',\n",
       "       'Chueca-Justicia', 'Castellana', 'Trafalgar', 'Valdeacederas',\n",
       "       'Barrio de Salamanca', 'Barrio de Salamanca', 'Hortaleza',\n",
       "       'Arapiles', 'Almagro', 'Huertas-Cortes', 'Recoletos', 'Recoletos',\n",
       "       'Recoletos', 'Gaztambide', 'Recoletos', 'Chamartín', 'Guindalera',\n",
       "       'Chamartín', 'Jerónimos', 'Chamberí', 'Prosperidad',\n",
       "       'Nueva España', 'Palacio', 'Valdebebas - Valdefuentes',\n",
       "       'Ciudad Universitaria', 'Ibiza', 'Malasaña-Universidad',\n",
       "       'Cuatro Caminos', 'Chueca-Justicia', 'Tetuán', 'Lista',\n",
       "       'Malasaña-Universidad', 'Almendrales', 'Chueca-Justicia',\n",
       "       'Canillas', 'Puerta del Ángel', 'Palacio', 'Lista', 'Chamberí',\n",
       "       'Palacio', 'Imperial', 'Malasaña-Universidad', 'Centro', 'Almagro',\n",
       "       'Moncloa', 'Sanchinarro', 'Hortaleza', 'Retiro', 'Jerónimos',\n",
       "       'Lavapiés-Embajadores', 'Ciudad Lineal', 'Centro', 'Chamberí',\n",
       "       'Palacio', 'Chamartín', 'Chueca-Justicia', 'Fuencarral',\n",
       "       'Barrio de Salamanca', 'Centro', 'Arapiles', 'Barrio de Salamanca',\n",
       "       'Valdeacederas', 'Barrio de Salamanca', 'Imperial', 'Chamartín',\n",
       "       'Fuente del Berro', 'Barrio de Salamanca', 'Centro', 'Retiro',\n",
       "       'Chamberí', 'Centro', 'Barrio de Salamanca', 'Berruguete',\n",
       "       'Concepción', 'Quintana', 'Chamberí', 'Simancas',\n",
       "       'Lavapiés-Embajadores', 'Pueblo Nuevo', 'Valdeacederas', 'Centro',\n",
       "       'Simancas', 'Peñagrande', 'Chamberí', 'San Isidro', 'Costillares',\n",
       "       'Fuencarral', 'Centro', 'Malasaña-Universidad', 'Fuencarral',\n",
       "       'Los Ángeles', 'Barrio de Salamanca', 'Berruguete', 'Moncloa',\n",
       "       'Malasaña-Universidad', 'Barrio de Salamanca',\n",
       "       'Ensanche de Vallecas - La Gavia', 'Chueca-Justicia', 'Berruguete',\n",
       "       'Chueca-Justicia', 'San Isidro', 'Conde Orgaz-Piovera', 'Pacífico',\n",
       "       'Lavapiés-Embajadores', 'Valdeacederas', 'San Diego',\n",
       "       'Valdeacederas', 'Butarque', 'Hortaleza', 'Fuencarral', 'Centro',\n",
       "       'El Viso', 'Campamento', 'Ciudad Lineal', 'Palacio', 'Lista',\n",
       "       'Retiro', 'Recoletos', 'Recoletos', 'Castellana', 'Chamartín',\n",
       "       'Hortaleza', 'Castellana', 'Chamartín', 'Moncloa', 'El Viso',\n",
       "       'Hortaleza', 'Centro', 'Fuencarral', 'Barrio de Salamanca',\n",
       "       'Fuencarral', 'Rejas', 'Fuencarral', 'Fuencarral', 'Ciudad Lineal',\n",
       "       'Fuencarral', 'San Blas', 'Fuencarral', 'Barrio de Salamanca',\n",
       "       'Almendrales', 'Moncloa', 'Chamartín', 'Fuencarral', 'Fuencarral',\n",
       "       'San Blas', 'Fuencarral', 'San Blas', 'Fuencarral',\n",
       "       'Ciudad Lineal', 'Hortaleza', 'Retiro', 'Chamberí', 'Retiro',\n",
       "       'Hortaleza', 'Chamartín', 'Goya', 'Centro', 'Barrio de Salamanca',\n",
       "       'Colina', 'Centro', 'Hortaleza', 'Valdemarín', 'Lista',\n",
       "       'Fuencarral', 'Fuente del Berro', 'Goya', 'Ciudad Jardín', 'Lista',\n",
       "       'Guindalera', 'Huertas-Cortes', 'Huertas-Cortes', 'Argüelles',\n",
       "       'Los Ángeles', 'Moncloa', 'Simancas', 'Chamberí',\n",
       "       'Ventilla-Almenara', 'Lavapiés-Embajadores', 'Simancas',\n",
       "       'Valdebebas - Valdefuentes', 'Lavapiés-Embajadores', 'Ibiza',\n",
       "       'Argüelles', 'Berruguete', 'Argüelles', 'Lavapiés-Embajadores',\n",
       "       'Costillares', 'Ibiza', 'Centro', 'Lista', 'Simancas',\n",
       "       'Cuatro Caminos', 'Lavapiés-Embajadores', 'Chamberí', 'Chamberí',\n",
       "       'Castilla', 'Nueva España', 'Castellana', 'Chamberí', 'Almagro',\n",
       "       'Palacio', 'Conde Orgaz-Piovera', 'Almagro', 'Castellana',\n",
       "       'Argüelles', 'Malasaña-Universidad', 'Recoletos', 'Estrella',\n",
       "       'Sol', 'Vista Alegre', 'Palacio', 'Malasaña-Universidad',\n",
       "       'Malasaña-Universidad', 'Palomas', 'Castilla', 'Fuencarral',\n",
       "       'Pacífico', 'Retiro', 'Almagro', 'Centro', 'Colina', 'San Diego',\n",
       "       'Centro', 'Vallehermoso', 'Vista Alegre', 'Imperial', 'Moncloa',\n",
       "       'Hortaleza', 'Hortaleza', 'Chamberí', 'Guindalera', 'Chamberí',\n",
       "       'San Isidro', 'Barrio de Salamanca', 'Ciudad Universitaria',\n",
       "       'Barrio de Salamanca', 'Barajas', 'Recoletos', 'Chamberí',\n",
       "       'Barrio de Salamanca', 'Ciudad Lineal', 'Conde Orgaz-Piovera',\n",
       "       'Conde Orgaz-Piovera', 'Barrio de Salamanca', 'Chamartín',\n",
       "       'Fuencarral', 'El Viso', 'Chamartín', 'Moncloa', 'Barajas',\n",
       "       'Hortaleza', 'Ciudad Lineal', 'Barajas', 'Retiro', 'Ibiza',\n",
       "       'Ventas', 'Timón', 'Virgen del Cortijo - Manoteras', 'Sol',\n",
       "       'Pueblo Nuevo', 'Cuzco-Castillejos', '12 de Octubre-Orcasur',\n",
       "       'San Blas', 'Quintana', 'Goya', 'Cuzco-Castillejos', 'Arapiles',\n",
       "       'Hortaleza', 'Fuencarral', 'Cuatro Caminos', 'Nueva España',\n",
       "       'Gaztambide', 'Ciudad Lineal', 'Chamartín', 'Chamberí', 'Sol',\n",
       "       'Hortaleza', 'Chamberí', 'Barrio de Salamanca',\n",
       "       'Barrio de Salamanca', 'Goya', 'Conde Orgaz-Piovera', 'Hortaleza',\n",
       "       'Hortaleza', 'Chamartín', 'Barrio de Salamanca',\n",
       "       'Puente de Vallecas', 'Moratalaz', 'Barrio de Salamanca',\n",
       "       'Chamartín', 'Chamartín', 'Retiro', 'Goya', 'Barrio de Salamanca',\n",
       "       'Chamberí', 'Barrio de Salamanca', 'Hortaleza', 'Retiro', 'Centro',\n",
       "       'Retiro', 'Barrio de Salamanca', 'Palacio', 'Centro', 'Argüelles',\n",
       "       'Fuencarral', 'Ciudad Jardín', 'Aravaca', 'El Viso', 'Argüelles',\n",
       "       'Moncloa', 'Almagro', 'Barrio de Salamanca', 'Almagro',\n",
       "       'Hortaleza', 'Almagro', 'Almagro', 'Almagro', 'Nueva España',\n",
       "       'Chamartín', 'Fuentelarreina', 'Bernabéu-Hispanoamérica',\n",
       "       'Chamartín', 'Goya', 'Castellana', 'Chueca-Justicia',\n",
       "       'Cuzco-Castillejos', 'Moncloa', 'Prosperidad', 'Chamberí', 'Goya',\n",
       "       'Fuencarral', 'Centro', 'Chamartín', 'Centro', 'Centro', 'Centro',\n",
       "       'Chamberí', 'Centro', 'Barrio de Salamanca', 'Moncloa',\n",
       "       'Hortaleza', 'Castilla', 'Fuencarral', 'Moncloa', 'Cuatro Caminos',\n",
       "       'Moncloa', 'Moncloa', 'Chamartín', 'Amposta', 'Goya', 'Recoletos',\n",
       "       'Hortaleza', 'Hortaleza', 'Hortaleza', 'Chamartín',\n",
       "       'Barrio de Salamanca', 'San Blas', 'Hortaleza', 'Chamberí',\n",
       "       'Fuencarral', 'Chamartín', 'Valdeacederas', 'Valdeacederas',\n",
       "       'Niño Jesús', 'Bernabéu-Hispanoamérica', 'Acacias', 'Guindalera',\n",
       "       'Moncloa', 'Ciudad Lineal', 'Pueblo Nuevo', 'Argüelles',\n",
       "       'Chamartín', 'Latina', 'Guindalera', 'Fuencarral', 'Lista',\n",
       "       'Ibiza', 'Barrio de Salamanca', 'Guindalera',\n",
       "       'Nuevos Ministerios-Ríos Rosas', 'Malasaña-Universidad', 'Palomas',\n",
       "       'Ciudad Lineal', 'Lavapiés-Embajadores', 'Ciudad Lineal', 'Retiro',\n",
       "       'Prosperidad', 'Moncloa', 'Ciudad Lineal', 'Retiro', 'Tetuán',\n",
       "       'Hortaleza', 'Recoletos', 'Retiro', 'Retiro', 'Goya',\n",
       "       'Barrio de Salamanca', 'Tetuán', 'Chamartín', 'Chamberí',\n",
       "       'Vallehermoso', 'Ciudad Lineal', 'Barrio de Salamanca', 'Chamberí',\n",
       "       'Retiro', 'Barrio de Salamanca', 'Chamartín', 'Chamartín',\n",
       "       'San Blas', 'Valdebebas - Valdefuentes', 'Chamartín', 'Moncloa',\n",
       "       'Chueca-Justicia', 'Almendrales', 'Sol', 'Tetuán', 'Moncloa',\n",
       "       'Barrio de Salamanca', 'Lavapiés-Embajadores', 'Canillas',\n",
       "       'Ciudad Universitaria', 'Aravaca', 'Barrio de Salamanca',\n",
       "       'Barrio de Salamanca', 'Sol', 'Malasaña-Universidad', 'Moncloa',\n",
       "       'Malasaña-Universidad', 'Moncloa', 'Hortaleza', 'Chamartín',\n",
       "       'Fuencarral', 'Moncloa', 'Fuencarral', 'Chamartín', 'Centro',\n",
       "       'Chamartín', 'Hortaleza', 'Ciudad Lineal', 'Centro',\n",
       "       'Barrio de Salamanca', 'Chamberí', 'Ciudad Lineal', 'Chamartín',\n",
       "       'Chamberí', 'Moncloa', 'Centro', 'Moncloa', 'Moncloa',\n",
       "       'Lavapiés-Embajadores', 'Ciudad Lineal', 'Hortaleza', 'Hortaleza',\n",
       "       'Moncloa', 'Moncloa', 'Delicias', 'El Viso', 'Chamberí', 'Goya',\n",
       "       'San Fermín', 'Estrella', 'Fuencarral', 'Fuencarral', 'Chamartín',\n",
       "       'Chamartín', 'Chamartín', 'Chamartín', 'Chamartín', 'Chamberí',\n",
       "       'Fuencarral', 'Fuencarral', 'Retiro', 'Barrio de Salamanca',\n",
       "       'Chamberí', 'Hortaleza', 'Chamartín', 'Chamartín', 'Chamartín',\n",
       "       'Chamartín', 'Centro', 'Moncloa', 'Huertas-Cortes', 'Chamartín',\n",
       "       'Sol', 'Simancas', 'Hortaleza', 'Retiro', 'Chamberí', 'Tetuán',\n",
       "       'Hortaleza', 'Goya', 'Castellana', 'Buena Vista', 'Trafalgar',\n",
       "       'Prosperidad', 'Ibiza', 'Hortaleza', 'Barrio de Salamanca',\n",
       "       'Gaztambide', 'Trafalgar', 'Canillas',\n",
       "       'Casco Histórico de Barajas', 'Goya', 'Cuatro Caminos', 'Timón',\n",
       "       'Hortaleza', 'Lista', 'Sol', 'Lista', 'Almagro', 'Colina', 'Goya',\n",
       "       'Gaztambide', 'Goya', 'Chopera', 'Sol', 'Valdeacederas',\n",
       "       'Chamartín', 'Ventas', 'Valdeacederas', 'Trafalgar', 'El Plantío',\n",
       "       'Hortaleza', 'Castellana', 'Trafalgar', 'Imperial', 'Argüelles',\n",
       "       'Arapiles', 'Gaztambide', 'Barrio de Salamanca', 'Almagro',\n",
       "       'Moncloa', 'Ciudad Jardín', 'Chamartín', 'Malasaña-Universidad',\n",
       "       'Valdeacederas', 'Ciudad Universitaria', 'Imperial', 'Tetuán',\n",
       "       'Hortaleza', 'Nuevos Ministerios-Ríos Rosas', 'Hortaleza',\n",
       "       'Mirasierra', 'Moncloa', 'Gaztambide', 'Colina',\n",
       "       'Valdebebas - Valdefuentes', 'Centro', 'Malasaña-Universidad',\n",
       "       'Lista', 'Salvador', 'Chueca-Justicia', 'Chueca-Justicia',\n",
       "       'Cuzco-Castillejos', 'Barrio de Salamanca', 'Chueca-Justicia',\n",
       "       'Malasaña-Universidad', 'Castellana', 'Ventas', 'Chueca-Justicia',\n",
       "       'Lista', 'Estrella', 'Lavapiés-Embajadores', 'Valdemarín', 'Sol',\n",
       "       'Lista', 'Huertas-Cortes', 'Prosperidad', 'Moncloa',\n",
       "       'Vallehermoso', 'Centro', 'Nuevos Ministerios-Ríos Rosas',\n",
       "       'Hortaleza', 'Mirasierra', 'Centro', 'Huertas-Cortes', 'Almagro',\n",
       "       'Hortaleza', 'Centro', 'Centro', 'Barrio de Salamanca',\n",
       "       'Chueca-Justicia', 'Conde Orgaz-Piovera',\n",
       "       'Nuevos Ministerios-Ríos Rosas', 'Moncloa', 'Trafalgar',\n",
       "       'Barrio de Salamanca', 'Canillas', 'Moncloa', 'Centro',\n",
       "       'Malasaña-Universidad', 'Recoletos', 'Valdebebas - Valdefuentes',\n",
       "       'Arganzuela', 'Centro', 'Gaztambide', 'Chopera', 'Gaztambide',\n",
       "       'Lista', 'Canillejas', 'Trafalgar', 'Vallehermoso', 'El Viso',\n",
       "       'Hortaleza', 'Ciudad Lineal', 'Hortaleza', 'Pacífico', 'Chamartín',\n",
       "       'Chueca-Justicia', 'San Juan Bautista', 'Chamartín', 'Valdezarza',\n",
       "       'Barrio de Salamanca', 'Lavapiés-Embajadores', 'Goya', 'Hortaleza',\n",
       "       'Nuevos Ministerios-Ríos Rosas', 'Malasaña-Universidad', 'Lista',\n",
       "       'Moncloa', 'Almagro', 'Gaztambide', 'Quintana', 'Ventas', 'Lista',\n",
       "       'Puerta del Ángel', 'Ibiza', 'Cuatro Caminos', 'Trafalgar',\n",
       "       'Lavapiés-Embajadores', 'Conde Orgaz-Piovera',\n",
       "       'Barrio de Salamanca', 'Hortaleza', 'Arapiles', 'Fuentelarreina',\n",
       "       'Costillares', 'Chamberí', 'Ciudad Lineal', 'Guindalera',\n",
       "       'El Viso', 'Lista', 'Barrio de Salamanca', 'Hortaleza',\n",
       "       'Barrio de Salamanca', 'Castellana', 'Valdeacederas', 'Tetuán',\n",
       "       'Malasaña-Universidad', 'Ciudad Lineal', 'Puente de Vallecas',\n",
       "       'Palomas', 'Hortaleza', 'Centro', 'Cuzco-Castillejos', 'Trafalgar',\n",
       "       'Barrio de Salamanca', 'Ciudad Lineal', 'Tetuán'], dtype='<U31')"
      ]
     },
     "execution_count": 62,
     "metadata": {},
     "output_type": "execute_result"
    }
   ],
   "source": [
    "# Cargar el dataset Madrid Idealista\n",
    "precio = np.genfromtxt(\"../Data/idealista_madrid.csv\", usecols=(0), delimiter= \",\", skip_header=1)\n",
    "baños = np.genfromtxt(\"../Data/idealista_madrid.csv\", usecols=(1), delimiter= \",\", skip_header=1)\n",
    "dormitorios = np.genfromtxt(\"../Data/idealista_madrid.csv\", usecols=(2), delimiter= \",\", skip_header=1)\n",
    "metros_cuadrados = np.genfromtxt(\"../Data/idealista_madrid.csv\", usecols=(3), delimiter= \",\", skip_header=1)\n",
    "barrio = np.genfromtxt(\"../Data/idealista_madrid.csv\", usecols=(4), delimiter= \",\", skip_header=1, dtype=str)\n",
    "\n",
    "precio\n",
    "baños\n",
    "dormitorios\n",
    "metros_cuadrados\n",
    "barrio"
   ]
  },
  {
   "cell_type": "markdown",
   "metadata": {},
   "source": [
    "# Media y Mediana"
   ]
  },
  {
   "cell_type": "code",
   "execution_count": 3,
   "metadata": {},
   "outputs": [
    {
     "ename": "NameError",
     "evalue": "name 'precio' is not defined",
     "output_type": "error",
     "traceback": [
      "\u001b[0;31m---------------------------------------------------------------------------\u001b[0m",
      "\u001b[0;31mNameError\u001b[0m                                 Traceback (most recent call last)",
      "Cell \u001b[0;32mIn[3], line 3\u001b[0m\n\u001b[1;32m      1\u001b[0m \u001b[38;5;66;03m#Columna precio\u001b[39;00m\n\u001b[0;32m----> 3\u001b[0m \u001b[38;5;28mprint\u001b[39m(\u001b[38;5;124mf\u001b[39m\u001b[38;5;124m\"\u001b[39m\u001b[38;5;124mPrecio medio: \u001b[39m\u001b[38;5;132;01m{\u001b[39;00mnp\u001b[38;5;241m.\u001b[39mmean(\u001b[43mprecio\u001b[49m)\u001b[38;5;132;01m}\u001b[39;00m\u001b[38;5;124m\"\u001b[39m)\n\u001b[1;32m      4\u001b[0m \u001b[38;5;28mprint\u001b[39m(\u001b[38;5;124mf\u001b[39m\u001b[38;5;124m\"\u001b[39m\u001b[38;5;124mMediana de precio: \u001b[39m\u001b[38;5;132;01m{\u001b[39;00mnp\u001b[38;5;241m.\u001b[39mmedian(precio)\u001b[38;5;132;01m}\u001b[39;00m\u001b[38;5;124m\"\u001b[39m)\n",
      "\u001b[0;31mNameError\u001b[0m: name 'precio' is not defined"
     ]
    }
   ],
   "source": [
    "#Columna precio\n",
    "\n",
    "print(f\"Precio medio: {np.mean(precio)}\")\n",
    "print(f\"Mediana de precio: {np.median(precio)}\")"
   ]
  },
  {
   "cell_type": "code",
   "execution_count": 5,
   "metadata": {},
   "outputs": [
    {
     "name": "stdout",
     "output_type": "stream",
     "text": [
      "Número medio de baños: 2.900546448087432\n",
      "Mediana de baños: 3.0\n"
     ]
    }
   ],
   "source": [
    "#Columna baños\n",
    "\n",
    "print(f\"Número medio de baños: {np.mean(baños)}\")\n",
    "print(f\"Mediana de baños: {np.median(baños)}\")"
   ]
  },
  {
   "cell_type": "code",
   "execution_count": 6,
   "metadata": {},
   "outputs": [
    {
     "name": "stdout",
     "output_type": "stream",
     "text": [
      "Número medio de dormitorios: 3.4743169398907106\n",
      "Mediana de dormitorios: 3.0\n"
     ]
    }
   ],
   "source": [
    "#Columna dormitorios\n",
    "\n",
    "print(f\"Número medio de dormitorios: {np.mean(dormitorios)}\")\n",
    "print(f\"Mediana de dormitorios: {np.median(dormitorios)}\")"
   ]
  },
  {
   "cell_type": "code",
   "execution_count": 7,
   "metadata": {},
   "outputs": [
    {
     "name": "stdout",
     "output_type": "stream",
     "text": [
      "Número medio de metros cuadrados: 217.2382513661202\n",
      "Mediana de metros cuadrados: 158.0\n"
     ]
    }
   ],
   "source": [
    "#Columna metros_cuadrados\n",
    "\n",
    "print(f\"Número medio de metros cuadrados: {np.mean(metros_cuadrados)}\")\n",
    "print(f\"Mediana de metros cuadrados: {np.median(metros_cuadrados)}\")"
   ]
  },
  {
   "cell_type": "markdown",
   "metadata": {},
   "source": [
    "## Máximo y Mínimo"
   ]
  },
  {
   "cell_type": "code",
   "execution_count": 8,
   "metadata": {},
   "outputs": [
    {
     "name": "stdout",
     "output_type": "stream",
     "text": [
      "Precio máximo de vivienda: 8900000.0\n",
      "Precio mínimo de vivienda: 122000.0\n"
     ]
    }
   ],
   "source": [
    "# Columna precio\n",
    "\n",
    "print(f\"Precio máximo de vivienda: {np.max(precio)}\")\n",
    "print(f\"Precio mínimo de vivienda: {np.min(precio)}\")"
   ]
  },
  {
   "cell_type": "code",
   "execution_count": 9,
   "metadata": {},
   "outputs": [
    {
     "name": "stdout",
     "output_type": "stream",
     "text": [
      "Número máximo de baños: 12.0\n",
      "Número mínimo de baños: 1.0\n"
     ]
    }
   ],
   "source": [
    "# Columna baños\n",
    "\n",
    "print(f\"Número máximo de baños: {np.max(baños)}\")\n",
    "print(f\"Número mínimo de baños: {np.min(baños)}\")"
   ]
  },
  {
   "cell_type": "code",
   "execution_count": 10,
   "metadata": {},
   "outputs": [
    {
     "name": "stdout",
     "output_type": "stream",
     "text": [
      "Número máximo de dormitorios: 12.0\n",
      "Número mínimo de dormitorios: 0.0\n"
     ]
    }
   ],
   "source": [
    "# Columna dormitorios\n",
    "\n",
    "print(f\"Número máximo de dormitorios: {np.max(dormitorios)}\")\n",
    "print(f\"Número mínimo de dormitorios: {np.min(dormitorios)}\")"
   ]
  },
  {
   "cell_type": "code",
   "execution_count": 11,
   "metadata": {},
   "outputs": [
    {
     "name": "stdout",
     "output_type": "stream",
     "text": [
      "Número máximo de metros cuadrados: 1768.0\n",
      "Número mínimo de metros cuadradso: 14.0\n"
     ]
    }
   ],
   "source": [
    "# Columna metros_cuadrados\n",
    "\n",
    "print(f\"Número máximo de metros cuadrados: {np.max(metros_cuadrados)}\")\n",
    "print(f\"Número mínimo de metros cuadradso: {np.min(metros_cuadrados)}\")"
   ]
  },
  {
   "cell_type": "markdown",
   "metadata": {},
   "source": [
    "## Histograma y Curva de Densidad"
   ]
  },
  {
   "cell_type": "code",
   "execution_count": null,
   "metadata": {},
   "outputs": [
    {
     "data": {
      "text/plain": [
       "(array([ 82., 122., 124., 146.,  82.,  74.,  62.,  46.,  31.,  27.,  24.,\n",
       "         17.,  14.,   9.,  10.,  15.,   3.,   9.,   3.,   2.,   0.,   1.,\n",
       "          2.,   0.,   4.,   1.,   2.,   0.,   0.,   0.,   0.,   0.,   0.,\n",
       "          0.,   0.,   2.,   0.,   0.,   0.,   1.]),\n",
       " array([ 122000.,  341450.,  560900.,  780350.,  999800., 1219250.,\n",
       "        1438700., 1658150., 1877600., 2097050., 2316500., 2535950.,\n",
       "        2755400., 2974850., 3194300., 3413750., 3633200., 3852650.,\n",
       "        4072100., 4291550., 4511000., 4730450., 4949900., 5169350.,\n",
       "        5388800., 5608250., 5827700., 6047150., 6266600., 6486050.,\n",
       "        6705500., 6924950., 7144400., 7363850., 7583300., 7802750.,\n",
       "        8022200., 8241650., 8461100., 8680550., 8900000.]),\n",
       " <BarContainer object of 40 artists>)"
      ]
     },
     "execution_count": 12,
     "metadata": {},
     "output_type": "execute_result"
    },
    {
     "data": {
      "image/png": "[encoded data removed]",
      "text/plain": [
       "<Figure size 640x480 with 1 Axes>"
      ]
     },
     "metadata": {},
     "output_type": "display_data"
    }
   ],
   "source": [
    "# Columna precio\n",
    "plt.hist(precio, bins=40)\n",
    "\n"
   ]
  },
  {
   "cell_type": "code",
   "execution_count": 13,
   "metadata": {},
   "outputs": [
    {
     "data": {
      "text/plain": [
       "(array([152.,   0.,   0., 301.,   0.,   0.,   0., 207.,   0.,   0., 120.,\n",
       "          0.,   0.,   0.,  71.,   0.,   0.,   0.,  35.,   0.,   0.,  14.,\n",
       "          0.,   0.,   0.,   7.,   0.,   0.,   0.,   3.,   0.,   0.,   3.,\n",
       "          0.,   0.,   0.,   1.,   0.,   0.,   1.]),\n",
       " array([ 1.   ,  1.275,  1.55 ,  1.825,  2.1  ,  2.375,  2.65 ,  2.925,\n",
       "         3.2  ,  3.475,  3.75 ,  4.025,  4.3  ,  4.575,  4.85 ,  5.125,\n",
       "         5.4  ,  5.675,  5.95 ,  6.225,  6.5  ,  6.775,  7.05 ,  7.325,\n",
       "         7.6  ,  7.875,  8.15 ,  8.425,  8.7  ,  8.975,  9.25 ,  9.525,\n",
       "         9.8  , 10.075, 10.35 , 10.625, 10.9  , 11.175, 11.45 , 11.725,\n",
       "        12.   ]),\n",
       " <BarContainer object of 40 artists>)"
      ]
     },
     "execution_count": 13,
     "metadata": {},
     "output_type": "execute_result"
    },
    {
     "data": {
      "image/png": "[encoded data removed]",
      "text/plain": [
       "<Figure size 640x480 with 1 Axes>"
      ]
     },
     "metadata": {},
     "output_type": "display_data"
    }
   ],
   "source": [
    "# Columna baños\n",
    "\n",
    "plt.hist(baños, bins=40)"
   ]
  },
  {
   "cell_type": "code",
   "execution_count": 14,
   "metadata": {},
   "outputs": [
    {
     "data": {
      "text/plain": [
       "(array([  8.,   0.,   0.,  54.,   0.,   0., 200.,   0.,   0.,   0., 254.,\n",
       "          0.,   0., 184.,   0.,   0., 128.,   0.,   0.,   0.,  50.,   0.,\n",
       "          0.,  22.,   0.,   0.,  10.,   0.,   0.,   0.,   1.,   0.,   0.,\n",
       "          1.,   0.,   0.,   2.,   0.,   0.,   1.]),\n",
       " array([ 0. ,  0.3,  0.6,  0.9,  1.2,  1.5,  1.8,  2.1,  2.4,  2.7,  3. ,\n",
       "         3.3,  3.6,  3.9,  4.2,  4.5,  4.8,  5.1,  5.4,  5.7,  6. ,  6.3,\n",
       "         6.6,  6.9,  7.2,  7.5,  7.8,  8.1,  8.4,  8.7,  9. ,  9.3,  9.6,\n",
       "         9.9, 10.2, 10.5, 10.8, 11.1, 11.4, 11.7, 12. ]),\n",
       " <BarContainer object of 40 artists>)"
      ]
     },
     "execution_count": 14,
     "metadata": {},
     "output_type": "execute_result"
    },
    {
     "data": {
      "image/png": "[encoded data removed]",
      "text/plain": [
       "<Figure size 640x480 with 1 Axes>"
      ]
     },
     "metadata": {},
     "output_type": "display_data"
    }
   ],
   "source": [
    "# Columna dormitorios\n",
    "\n",
    "plt.hist(dormitorios, bins=40)"
   ]
  },
  {
   "cell_type": "code",
   "execution_count": 15,
   "metadata": {},
   "outputs": [
    {
     "data": {
      "text/plain": [
       "(array([ 38., 171., 203., 131.,  84.,  87.,  53.,  23.,  32.,  23.,  13.,\n",
       "         11.,   5.,   6.,   2.,   4.,   9.,   5.,   0.,   6.,   0.,   1.,\n",
       "          0.,   0.,   0.,   2.,   0.,   1.,   0.,   0.,   0.,   1.,   0.,\n",
       "          1.,   1.,   0.,   0.,   0.,   0.,   2.]),\n",
       " array([  14.  ,   57.85,  101.7 ,  145.55,  189.4 ,  233.25,  277.1 ,\n",
       "         320.95,  364.8 ,  408.65,  452.5 ,  496.35,  540.2 ,  584.05,\n",
       "         627.9 ,  671.75,  715.6 ,  759.45,  803.3 ,  847.15,  891.  ,\n",
       "         934.85,  978.7 , 1022.55, 1066.4 , 1110.25, 1154.1 , 1197.95,\n",
       "        1241.8 , 1285.65, 1329.5 , 1373.35, 1417.2 , 1461.05, 1504.9 ,\n",
       "        1548.75, 1592.6 , 1636.45, 1680.3 , 1724.15, 1768.  ]),\n",
       " <BarContainer object of 40 artists>)"
      ]
     },
     "execution_count": 15,
     "metadata": {},
     "output_type": "execute_result"
    },
    {
     "data": {
      "image/png": "[encoded data removed]",
      "text/plain": [
       "<Figure size 640x480 with 1 Axes>"
      ]
     },
     "metadata": {},
     "output_type": "display_data"
    }
   ],
   "source": [
    "# Columna metros_cuadrados\n",
    "\n",
    "plt.hist(metros_cuadrados, bins=40)"
   ]
  },
  {
   "cell_type": "code",
   "execution_count": null,
   "metadata": {},
   "outputs": [
    {
     "data": {
      "image/png": "[encoded data removed]",
      "text/plain": [
       "<Figure size 640x480 with 1 Axes>"
      ]
     },
     "metadata": {},
     "output_type": "display_data"
    }
   ],
   "source": [
    "# Curva de densidad precio\n",
    "\n",
    "sns.kdeplot(precio, label= \"Precio\")\n",
    "plt.legend();"
   ]
  },
  {
   "cell_type": "code",
   "execution_count": 54,
   "metadata": {},
   "outputs": [
    {
     "data": {
      "image/png": "[encoded data removed]",
      "text/plain": [
       "<Figure size 640x480 with 1 Axes>"
      ]
     },
     "metadata": {},
     "output_type": "display_data"
    }
   ],
   "source": [
    "#Curva densidad baños\n",
    "\n",
    "sns.kdeplot(baños, label= \"Baños\")\n",
    "plt.legend();"
   ]
  },
  {
   "cell_type": "code",
   "execution_count": 55,
   "metadata": {},
   "outputs": [
    {
     "data": {
      "image/png": "[encoded data removed]",
      "text/plain": [
       "<Figure size 640x480 with 1 Axes>"
      ]
     },
     "metadata": {},
     "output_type": "display_data"
    }
   ],
   "source": [
    "# Curva densidad dormitorios\n",
    "\n",
    "sns.kdeplot(dormitorios, label= \"Metros Cuadrados\")\n",
    "plt.legend();"
   ]
  },
  {
   "cell_type": "code",
   "execution_count": 56,
   "metadata": {},
   "outputs": [
    {
     "data": {
      "image/png": "[encoded data removed]",
      "text/plain": [
       "<Figure size 640x480 with 1 Axes>"
      ]
     },
     "metadata": {},
     "output_type": "display_data"
    }
   ],
   "source": [
    "# Curva densidad Metros Cuadrados\n",
    "\n",
    "sns.kdeplot(metros_cuadrados, label= \"Metros Cuadrados\")\n",
    "plt.legend();"
   ]
  },
  {
   "cell_type": "markdown",
   "metadata": {},
   "source": [
    "## Cuartiles\n",
    "- Q1 25%\n",
    "- Q2 50%\n",
    "- Q3 75%"
   ]
  },
  {
   "cell_type": "code",
   "execution_count": 16,
   "metadata": {},
   "outputs": [
    {
     "name": "stdout",
     "output_type": "stream",
     "text": [
      "[ 625000.  990000. 1650000.]\n",
      "990000.0\n"
     ]
    }
   ],
   "source": [
    "# Columna precio\n",
    "\n",
    "print(np.quantile(a = precio, q= [0.25, 0.50, 0.75], interpolation = \"lower\"))\n",
    "print(np.median(precio))"
   ]
  },
  {
   "cell_type": "code",
   "execution_count": 17,
   "metadata": {},
   "outputs": [
    {
     "name": "stdout",
     "output_type": "stream",
     "text": [
      "[2. 3. 4.]\n",
      "3.0\n"
     ]
    }
   ],
   "source": [
    "# Columna baños\n",
    "\n",
    "print(np.quantile(a = baños, q= [0.25, 0.50, 0.75], interpolation = \"lower\"))\n",
    "print(np.median(baños))"
   ]
  },
  {
   "cell_type": "code",
   "execution_count": 18,
   "metadata": {},
   "outputs": [
    {
     "name": "stdout",
     "output_type": "stream",
     "text": [
      "[2. 3. 4.]\n",
      "3.0\n"
     ]
    }
   ],
   "source": [
    "# Columna dormitorios\n",
    "\n",
    "print(np.quantile(a = dormitorios , q= [0.25, 0.50, 0.75], interpolation = \"lower\"))\n",
    "print(np.median(dormitorios))"
   ]
  },
  {
   "cell_type": "code",
   "execution_count": 19,
   "metadata": {},
   "outputs": [
    {
     "name": "stdout",
     "output_type": "stream",
     "text": [
      "[104. 158. 264.]\n",
      "158.0\n"
     ]
    }
   ],
   "source": [
    "# Columna metros cuadrados\n",
    "\n",
    "print(np.quantile(a = metros_cuadrados, q= [0.25, 0.50, 0.75], interpolation = \"lower\"))\n",
    "print(np.median(metros_cuadrados))"
   ]
  },
  {
   "cell_type": "markdown",
   "metadata": {},
   "source": [
    "## IQR"
   ]
  },
  {
   "cell_type": "code",
   "execution_count": 20,
   "metadata": {},
   "outputs": [
    {
     "name": "stdout",
     "output_type": "stream",
     "text": [
      "1025000.0\n"
     ]
    }
   ],
   "source": [
    "# Columna precio\n",
    "\n",
    "Q1 = np.quantile(a = precio, q = 0.25, interpolation = \"lower\")\n",
    "Q3 = np.quantile(a = precio, q = 0.75, interpolation= \"lower\")\n",
    "\n",
    "IQR = Q3 - Q1\n",
    "print(IQR)"
   ]
  },
  {
   "cell_type": "code",
   "execution_count": 21,
   "metadata": {},
   "outputs": [
    {
     "name": "stdout",
     "output_type": "stream",
     "text": [
      "2.0\n"
     ]
    }
   ],
   "source": [
    "# Columna baños\n",
    "\n",
    "Q1 = np.quantile(a = baños, q = 0.25, interpolation = \"lower\")\n",
    "Q3 = np.quantile(a = baños, q = 0.75, interpolation= \"lower\")\n",
    "\n",
    "IQR = Q3 - Q1\n",
    "print(IQR)"
   ]
  },
  {
   "cell_type": "code",
   "execution_count": 22,
   "metadata": {},
   "outputs": [
    {
     "name": "stdout",
     "output_type": "stream",
     "text": [
      "2.0\n"
     ]
    }
   ],
   "source": [
    "# Columna dormitorios\n",
    "\n",
    "Q1 = np.quantile(a = dormitorios, q = 0.25, interpolation = \"lower\")\n",
    "Q3 = np.quantile(a = dormitorios, q = 0.75, interpolation= \"lower\")\n",
    "\n",
    "IQR = Q3 - Q1\n",
    "print(IQR)"
   ]
  },
  {
   "cell_type": "code",
   "execution_count": 23,
   "metadata": {},
   "outputs": [
    {
     "name": "stdout",
     "output_type": "stream",
     "text": [
      "160.0\n"
     ]
    }
   ],
   "source": [
    "# Columna metros cuadrados\n",
    "\n",
    "Q1 = np.quantile(a = metros_cuadrados, q = 0.25, interpolation = \"lower\")\n",
    "Q3 = np.quantile(a = metros_cuadrados, q = 0.75, interpolation= \"lower\")\n",
    "\n",
    "IQR = Q3 - Q1\n",
    "print(IQR)"
   ]
  },
  {
   "cell_type": "markdown",
   "metadata": {},
   "source": [
    "### Filtrar Datos"
   ]
  },
  {
   "cell_type": "code",
   "execution_count": 24,
   "metadata": {},
   "outputs": [
    {
     "name": "stdout",
     "output_type": "stream",
     "text": [
      "percentil 20: 529900.0\n",
      "percentil 80: 1850000.0\n",
      "20% casas más baratas\n",
      "media: 350706.88586956525\n",
      "20% casas más caras\n",
      "media: 2915162.1621621624\n"
     ]
    }
   ],
   "source": [
    "percentil_20 = np.percentile(precio, 20)\n",
    "percentil_80 = np.percentile(precio, 80)\n",
    "print(f\"percentil 20: {percentil_20}\")\n",
    "print(f\"percentil 80: {percentil_80}\")\n",
    "\n",
    "# Casas en el 20% más baratas\n",
    "casas_mas_baratas = precio[precio <= percentil_20]\n",
    "\n",
    "# Casas en el 20% más caras\n",
    "casas_mas_caras = precio[precio >= percentil_80]\n",
    "\n",
    "print(\"20% casas más baratas\")\n",
    "print(f\"media: {np.mean(casas_mas_baratas)}\")\n",
    "print(\"20% casas más caras\" )\n",
    "print(f\"media: {np.mean(casas_mas_caras)}\")"
   ]
  },
  {
   "cell_type": "markdown",
   "metadata": {},
   "source": [
    "### Moda"
   ]
  },
  {
   "cell_type": "code",
   "execution_count": 25,
   "metadata": {},
   "outputs": [
    {
     "name": "stdout",
     "output_type": "stream",
     "text": [
      "Moda del precio: ModeResult(mode=np.float64(850000.0), count=np.int64(15))\n",
      "El valor de la moda es 850000.0 y se repite 15 veces\n"
     ]
    }
   ],
   "source": [
    "# Columna precio\n",
    "\n",
    "x = stats.mode(precio)\n",
    "print(f\"Moda del precio: {x}\")\n",
    "print(f\"El valor de la moda es {x[0]} y se repite {x [1]} veces\")\n"
   ]
  },
  {
   "cell_type": "code",
   "execution_count": 26,
   "metadata": {},
   "outputs": [
    {
     "name": "stdout",
     "output_type": "stream",
     "text": [
      "Moda de los baños: ModeResult(mode=np.float64(2.0), count=np.int64(301))\n",
      "El valor de la moda es 2.0 y se repite 301 veces\n"
     ]
    }
   ],
   "source": [
    "# Columna baños\n",
    "\n",
    "x = stats.mode(baños)\n",
    "print(f\"Moda de los baños: {x}\")\n",
    "print(f\"El valor de la moda es {x[0]} y se repite {x [1]} veces\")"
   ]
  },
  {
   "cell_type": "code",
   "execution_count": 27,
   "metadata": {},
   "outputs": [
    {
     "name": "stdout",
     "output_type": "stream",
     "text": [
      "Moda de los dormitorios: ModeResult(mode=np.float64(3.0), count=np.int64(254))\n",
      "El valor de la moda es 3.0 y se repite 254 veces\n"
     ]
    }
   ],
   "source": [
    "# Columna dormitorios\n",
    "\n",
    "x = stats.mode(dormitorios)\n",
    "print(f\"Moda de los dormitorios: {x}\")\n",
    "print(f\"El valor de la moda es {x[0]} y se repite {x [1]} veces\")"
   ]
  },
  {
   "cell_type": "code",
   "execution_count": 28,
   "metadata": {},
   "outputs": [
    {
     "name": "stdout",
     "output_type": "stream",
     "text": [
      "Moda de los metros cuadrados: ModeResult(mode=np.float64(133.0), count=np.int64(12))\n",
      "El valor de la moda es 133.0 y se repite 12 veces\n"
     ]
    }
   ],
   "source": [
    "# Columna metros cuadrados\n",
    "\n",
    "x = stats.mode(metros_cuadrados)\n",
    "print(f\"Moda de los metros cuadrados: {x}\")\n",
    "print(f\"El valor de la moda es {x[0]} y se repite {x [1]} veces\")"
   ]
  },
  {
   "cell_type": "code",
   "execution_count": 29,
   "metadata": {},
   "outputs": [
    {
     "data": {
      "text/plain": [
       "[(np.str_('Barrio de Salamanca'), 63),\n",
       " (np.str_('Hortaleza'), 60),\n",
       " (np.str_('Chamartín'), 54),\n",
       " (np.str_('Moncloa'), 48),\n",
       " (np.str_('Centro'), 47),\n",
       " (np.str_('Fuencarral'), 35),\n",
       " (np.str_('Chamberí'), 34),\n",
       " (np.str_('Malasaña-Universidad'), 25),\n",
       " (np.str_('Goya'), 22),\n",
       " (np.str_('Lista'), 22)]"
      ]
     },
     "execution_count": 29,
     "metadata": {},
     "output_type": "execute_result"
    }
   ],
   "source": [
    "# Columna barrio\n",
    "contador = Counter(barrio)\n",
    "contador.items()\n",
    "\n",
    "# El barrio más frecuente\n",
    "contador.most_common(1)\n",
    "\n",
    "# Los 10 barrios más frecuentes\n",
    "contador.most_common(10)"
   ]
  },
  {
   "cell_type": "markdown",
   "metadata": {},
   "source": [
    "### Dispersión: variación y desviación estándar"
   ]
  },
  {
   "cell_type": "code",
   "execution_count": 30,
   "metadata": {},
   "outputs": [
    {
     "data": {
      "text/plain": [
       "np.float64(1073448095137.2623)"
      ]
     },
     "execution_count": 30,
     "metadata": {},
     "output_type": "execute_result"
    }
   ],
   "source": [
    "# Columna precio/ variación\n",
    "\n",
    "np.var(precio)\n"
   ]
  },
  {
   "cell_type": "code",
   "execution_count": 31,
   "metadata": {},
   "outputs": [
    {
     "data": {
      "text/plain": [
       "np.float64(2.6425680074054165)"
      ]
     },
     "execution_count": 31,
     "metadata": {},
     "output_type": "execute_result"
    }
   ],
   "source": [
    "# Columna baños/ variación estándar\n",
    "\n",
    "np.var(baños)"
   ]
  },
  {
   "cell_type": "code",
   "execution_count": 32,
   "metadata": {},
   "outputs": [
    {
     "data": {
      "text/plain": [
       "np.float64(2.540050762937084)"
      ]
     },
     "execution_count": 32,
     "metadata": {},
     "output_type": "execute_result"
    }
   ],
   "source": [
    "# Columna dormitorios/ variación estándar\n",
    "\n",
    "np.var(dormitorios)"
   ]
  },
  {
   "cell_type": "code",
   "execution_count": 33,
   "metadata": {},
   "outputs": [
    {
     "data": {
      "text/plain": [
       "np.float64(36726.2798483084)"
      ]
     },
     "execution_count": 33,
     "metadata": {},
     "output_type": "execute_result"
    }
   ],
   "source": [
    "# Columna metros cuadrados/ variación estándar\n",
    "\n",
    "np.var(metros_cuadrados)"
   ]
  },
  {
   "cell_type": "code",
   "execution_count": 34,
   "metadata": {},
   "outputs": [
    {
     "data": {
      "text/plain": [
       "np.float64(1036073.4023886833)"
      ]
     },
     "execution_count": 34,
     "metadata": {},
     "output_type": "execute_result"
    }
   ],
   "source": [
    "# Columna precio/ desviación estándar\n",
    "\n",
    "np.std(precio)"
   ]
  },
  {
   "cell_type": "code",
   "execution_count": 35,
   "metadata": {},
   "outputs": [
    {
     "data": {
      "text/plain": [
       "np.float64(1.625597738496648)"
      ]
     },
     "execution_count": 35,
     "metadata": {},
     "output_type": "execute_result"
    }
   ],
   "source": [
    "# Columna baños/ desviación estándar\n",
    "\n",
    "np.std(baños)"
   ]
  },
  {
   "cell_type": "code",
   "execution_count": 36,
   "metadata": {},
   "outputs": [
    {
     "data": {
      "text/plain": [
       "np.float64(1.5937536707211326)"
      ]
     },
     "execution_count": 36,
     "metadata": {},
     "output_type": "execute_result"
    }
   ],
   "source": [
    "# Columna dormitorios/ desviación estándar\n",
    "\n",
    "np.std(dormitorios)"
   ]
  },
  {
   "cell_type": "code",
   "execution_count": 37,
   "metadata": {},
   "outputs": [
    {
     "data": {
      "text/plain": [
       "np.float64(191.64101817802054)"
      ]
     },
     "execution_count": 37,
     "metadata": {},
     "output_type": "execute_result"
    }
   ],
   "source": [
    "# Columna metros cuadrados/ desviación estándar\n",
    "\n",
    "np.std(metros_cuadrados)"
   ]
  },
  {
   "cell_type": "markdown",
   "metadata": {},
   "source": [
    "### Filtro de Valores Atípicos"
   ]
  },
  {
   "cell_type": "code",
   "execution_count": 38,
   "metadata": {},
   "outputs": [],
   "source": [
    "def filtrar_outliers(array, k=1.5):\n",
    "    Q1 = np.percentile(array, 25)\n",
    "    Q3 = np.percentile(array, 75)\n",
    "    IQR = Q3 - Q1 * k\n",
    "    \n",
    "    limite_inferior = Q1 - IQR * k\n",
    "    print(f\"limite inferior {limite_inferior}\")\n",
    "    \n",
    "    limite_superior = Q3 - IQR * k\n",
    "    print(f\"limite superior {limite_superior}\")\n",
    "    \n",
    "    array_sin_outliers = array[(array >= limite_inferior) & (array <= limite_superior)]\n",
    "    return array_sin_outliers"
   ]
  },
  {
   "cell_type": "code",
   "execution_count": 39,
   "metadata": {},
   "outputs": [
    {
     "name": "stdout",
     "output_type": "stream",
     "text": [
      "limite inferior -443750.0\n",
      "limite superior 581250.0\n",
      "(915,)\n",
      "(214,)\n"
     ]
    }
   ],
   "source": [
    "# Columna precio\n",
    "\n",
    "precio_no_outliers = filtrar_outliers(precio, k=1.5)\n",
    "print(precio.shape)\n",
    "print(precio_no_outliers.shape)\n",
    "\n"
   ]
  },
  {
   "cell_type": "code",
   "execution_count": 40,
   "metadata": {},
   "outputs": [
    {
     "data": {
      "text/plain": [
       "(array([11., 11., 17., 24., 30., 25., 22., 25., 21., 28.]),\n",
       " array([122000., 167800., 213600., 259400., 305200., 351000., 396800.,\n",
       "        442600., 488400., 534200., 580000.]),\n",
       " <BarContainer object of 10 artists>)"
      ]
     },
     "execution_count": 40,
     "metadata": {},
     "output_type": "execute_result"
    },
    {
     "data": {
      "image/png": "[encoded data removed]",
      "text/plain": [
       "<Figure size 640x480 with 1 Axes>"
      ]
     },
     "metadata": {},
     "output_type": "display_data"
    }
   ],
   "source": [
    "plt.hist(precio, bins =  10, color = \"skyblue\", alpha=0.5)\n",
    "plt.hist(precio_no_outliers, bins = 10, color = \"red\")"
   ]
  },
  {
   "cell_type": "code",
   "execution_count": 41,
   "metadata": {},
   "outputs": [
    {
     "name": "stdout",
     "output_type": "stream",
     "text": [
      "limite inferior 0.5\n",
      "limite superior 2.5\n",
      "(915,)\n",
      "(453,)\n"
     ]
    }
   ],
   "source": [
    "# Columna baños\n",
    "\n",
    "baños_no_outliers = filtrar_outliers(baños, k=1.5)\n",
    "print(baños.shape)\n",
    "print(baños_no_outliers.shape)"
   ]
  },
  {
   "cell_type": "code",
   "execution_count": 42,
   "metadata": {},
   "outputs": [
    {
     "data": {
      "text/plain": [
       "(array([152.,   0.,   0.,   0.,   0.,   0.,   0.,   0.,   0., 301.]),\n",
       " array([1. , 1.1, 1.2, 1.3, 1.4, 1.5, 1.6, 1.7, 1.8, 1.9, 2. ]),\n",
       " <BarContainer object of 10 artists>)"
      ]
     },
     "execution_count": 42,
     "metadata": {},
     "output_type": "execute_result"
    },
    {
     "data": {
      "image/png": "[encoded data removed]",
      "text/plain": [
       "<Figure size 640x480 with 1 Axes>"
      ]
     },
     "metadata": {},
     "output_type": "display_data"
    }
   ],
   "source": [
    "plt.hist(baños, bins =  10, color = \"skyblue\", alpha=0.5)\n",
    "plt.hist(baños_no_outliers, bins = 10, color = \"red\")"
   ]
  },
  {
   "cell_type": "code",
   "execution_count": 43,
   "metadata": {},
   "outputs": [
    {
     "name": "stdout",
     "output_type": "stream",
     "text": [
      "limite inferior 0.5\n",
      "limite superior 2.5\n",
      "(915,)\n",
      "(254,)\n"
     ]
    }
   ],
   "source": [
    "# Columna dormitorios\n",
    "\n",
    "dormitorios_no_outliers = filtrar_outliers(dormitorios, k=1.5)\n",
    "print(dormitorios.shape)\n",
    "print(dormitorios_no_outliers.shape)"
   ]
  },
  {
   "cell_type": "code",
   "execution_count": 44,
   "metadata": {},
   "outputs": [
    {
     "data": {
      "text/plain": [
       "(array([ 54.,   0.,   0.,   0.,   0.,   0.,   0.,   0.,   0., 200.]),\n",
       " array([1. , 1.1, 1.2, 1.3, 1.4, 1.5, 1.6, 1.7, 1.8, 1.9, 2. ]),\n",
       " <BarContainer object of 10 artists>)"
      ]
     },
     "execution_count": 44,
     "metadata": {},
     "output_type": "execute_result"
    },
    {
     "data": {
      "image/png": "[encoded data removed]",
      "text/plain": [
       "<Figure size 640x480 with 1 Axes>"
      ]
     },
     "metadata": {},
     "output_type": "display_data"
    }
   ],
   "source": [
    "plt.hist(dormitorios, bins =  10, color = \"skyblue\", alpha=0.5)\n",
    "plt.hist(dormitorios_no_outliers, bins = 10, color = \"red\")"
   ]
  },
  {
   "cell_type": "code",
   "execution_count": 45,
   "metadata": {},
   "outputs": [
    {
     "name": "stdout",
     "output_type": "stream",
     "text": [
      "limite inferior -58.0\n",
      "limite superior 102.0\n",
      "(915,)\n",
      "(217,)\n"
     ]
    }
   ],
   "source": [
    "# Columna metros cuadrados\n",
    "\n",
    "metros_cuadrados_no_outliers = filtrar_outliers(metros_cuadrados, k=1.5)\n",
    "print(metros_cuadrados.shape)\n",
    "print(metros_cuadrados_no_outliers.shape)"
   ]
  },
  {
   "cell_type": "code",
   "execution_count": 46,
   "metadata": {},
   "outputs": [
    {
     "data": {
      "text/plain": [
       "(array([ 1.,  2.,  5., 11., 19., 28., 42., 32., 34., 43.]),\n",
       " array([ 14. ,  22.8,  31.6,  40.4,  49.2,  58. ,  66.8,  75.6,  84.4,\n",
       "         93.2, 102. ]),\n",
       " <BarContainer object of 10 artists>)"
      ]
     },
     "execution_count": 46,
     "metadata": {},
     "output_type": "execute_result"
    },
    {
     "data": {
      "image/png": "[encoded data removed]",
      "text/plain": [
       "<Figure size 640x480 with 1 Axes>"
      ]
     },
     "metadata": {},
     "output_type": "display_data"
    }
   ],
   "source": [
    "plt.hist(metros_cuadrados, bins =  10, color = \"skyblue\", alpha=0.5)\n",
    "plt.hist(metros_cuadrados_no_outliers, bins = 10, color = \"red\")"
   ]
  },
  {
   "cell_type": "markdown",
   "metadata": {},
   "source": [
    "### Correlación"
   ]
  },
  {
   "cell_type": "code",
   "execution_count": 47,
   "metadata": {},
   "outputs": [
    {
     "name": "stdout",
     "output_type": "stream",
     "text": [
      "[[1.         0.69162529 0.55718932 0.68176241]\n",
      " [0.69162529 1.         0.77076481 0.81873292]\n",
      " [0.55718932 0.77076481 1.         0.71265478]\n",
      " [0.68176241 0.81873292 0.71265478 1.        ]]\n"
     ]
    }
   ],
   "source": [
    "columnas = [precio, baños, dormitorios, metros_cuadrados]\n",
    "\n",
    "matriz_lista = list()\n",
    "\n",
    "for columna1 in columnas:\n",
    "    fila = list()\n",
    "    for columna2 in columnas:\n",
    "        fila.append(stats.pearsonr(columna1, columna2)[0])\n",
    "        \n",
    "    matriz_lista.append(fila)\n",
    "    \n",
    "matriz = np.array(matriz_lista)\n",
    "print(matriz)"
   ]
  },
  {
   "cell_type": "code",
   "execution_count": 63,
   "metadata": {},
   "outputs": [
    {
     "data": {
      "image/png": "[encoded data removed]",
      "text/plain": [
       "<Figure size 640x480 with 2 Axes>"
      ]
     },
     "metadata": {},
     "output_type": "display_data"
    }
   ],
   "source": [
    "column_names = [\"precio\", \"baños\", \"dormitorios\", \"metros_cuadrados\"]\n",
    "plt.imshow(matriz, cmap=\"viridis\")\n",
    "plt.colorbar(label= \"Correlación\")\n",
    "plt.xticks(range(len(column_names)), column_names, rotation=45)\n",
    "plt.yticks(range(len(column_names)), column_names)\n",
    "plt.gca().xaxis.set_ticks_position(\"top\")"
   ]
  },
  {
   "cell_type": "markdown",
   "metadata": {},
   "source": [
    "### Estandarización"
   ]
  },
  {
   "cell_type": "code",
   "execution_count": 48,
   "metadata": {},
   "outputs": [
    {
     "name": "stdout",
     "output_type": "stream",
     "text": [
      "Media original precio: 1290575.262295082\n",
      "Mediana original precio: 990000.0\n",
      "Desviación estándar original precio: 1036073.4023886833\n",
      "Media original baños: 2.900546448087432\n",
      "Mediana original baños: 3.0\n",
      "Desviación original estándar: 1.625597738496648\n",
      "Media original dormitorios: 3.4743169398907106\n",
      "Mediana original dormitorios: 3.0\n",
      "Desviación estándar original dormitorios: 1.5937536707211326\n",
      "Media original metros cuadrados: 217.2382513661202\n",
      "Mediana original metros cuadrados: 158.0\n",
      "Desviación estándar original metros cuadrados: 191.64101817802054\n"
     ]
    }
   ],
   "source": [
    "mean_precio = np.mean(precio)\n",
    "mean_baños = np.mean(baños)\n",
    "mean_dormitorios = np.mean(dormitorios)\n",
    "mean_metros_cuadrados = np.mean(metros_cuadrados)\n",
    "\n",
    "median_precio = np.median(precio)\n",
    "median_baños = np.median(baños)\n",
    "median_dormitorios = np.median(dormitorios)\n",
    "median_metros_cuadrados = np.median(metros_cuadrados)\n",
    "\n",
    "std_precio = np.std(precio)\n",
    "std_baños = np.std(baños)\n",
    "std_dormitorios = np.std(dormitorios)\n",
    "std_metros_cuadrados = np.std(metros_cuadrados)\n",
    "\n",
    "print(f\"Media original precio: {mean_precio}\")\n",
    "print(f\"Mediana original precio: {median_precio}\")\n",
    "print(f\"Desviación estándar original precio: {std_precio}\")\n",
    "\n",
    "print(f\"Media original baños: {mean_baños}\")\n",
    "print(f\"Mediana original baños: {median_baños}\")\n",
    "print(f\"Desviación original estándar: {std_baños}\")\n",
    "\n",
    "print(f\"Media original dormitorios: {mean_dormitorios}\")\n",
    "print(f\"Mediana original dormitorios: {median_dormitorios}\")\n",
    "print(f\"Desviación estándar original dormitorios: {std_dormitorios}\")\n",
    "\n",
    "print(f\"Media original metros cuadrados: {mean_metros_cuadrados}\")\n",
    "print(f\"Mediana original metros cuadrados: {median_metros_cuadrados}\")\n",
    "print(f\"Desviación estándar original metros cuadrados: {std_metros_cuadrados}\")"
   ]
  },
  {
   "cell_type": "code",
   "execution_count": 49,
   "metadata": {},
   "outputs": [
    {
     "name": "stdout",
     "output_type": "stream",
     "text": [
      "[0.60750979 0.67989849 0.00909659 0.3469105  0.28972343]\n",
      "[0.06117968 0.06117968 0.06117968 0.06117968 0.06117968]\n",
      "[-0.29760994 -0.29760994  0.32983959 -0.29760994 -0.29760994]\n",
      "[-0.17865826 -0.24649343  0.27531553  0.16051756 -0.52827026]\n"
     ]
    }
   ],
   "source": [
    "precio_standar = (precio - mean_precio) / std_precio\n",
    "baños_standar = (baños - mean_baños) / std_baños\n",
    "dormitorios_standar = (dormitorios - mean_dormitorios) / std_dormitorios\n",
    "metros_cuadrados_standar = (metros_cuadrados - mean_metros_cuadrados) / std_metros_cuadrados\n",
    "\n",
    "print(precio_standar[:5])\n",
    "print(baños_standar[:5])\n",
    "print(dormitorios_standar[:5])\n",
    "print(metros_cuadrados_standar[:5])"
   ]
  },
  {
   "cell_type": "code",
   "execution_count": 50,
   "metadata": {},
   "outputs": [
    {
     "name": "stdout",
     "output_type": "stream",
     "text": [
      "Media estandarizado precio : -1.9413735949729513e-17\n",
      "Mediana estandarizado precio : -0.290110007265992\n",
      "Desviación estandar estandarizado precio : 0.9999999999999999\n",
      "Media estandarizado baños: -1.397788988380525e-16\n",
      "Mediana estandarizado baños: 0.06117968151490091\n",
      "Desviación estandar estandarizado baños: 1.0\n",
      "Media estandarizado dormitorios: -1.2424791007826888e-16\n",
      "Mediana estandarizado dormitorios: -0.2976099434965344\n",
      "Desviación estandar estandarizado dormitoios: 0.9999999999999999\n",
      "Media estandarizado metros cuadrados: 4.271021908940493e-17\n",
      "Mediana estandarizado metros cuadrados: -0.30911050217387276\n",
      "Desviación estandar estandarizado metros cuadrados: 1.0\n"
     ]
    }
   ],
   "source": [
    "mean_precio = np.mean(precio_standar)\n",
    "mean_baños = np.mean(baños_standar)\n",
    "mean_dormitorios = np.mean(dormitorios_standar)\n",
    "mean_metros_cuadrados = np.mean(metros_cuadrados_standar)\n",
    "\n",
    "median_precio = np.median(precio_standar)\n",
    "median_baños = np.median(baños_standar)\n",
    "median_dormitorios = np.median(dormitorios_standar)\n",
    "median_metros_cuadrados = np.median(metros_cuadrados_standar)\n",
    "\n",
    "std_precio = np.std(precio_standar)\n",
    "std_baños = np.std(baños_standar)\n",
    "std_dormitorios = np.std(dormitorios_standar)\n",
    "std_metros_cuadrados = np.std(metros_cuadrados_standar)\n",
    "\n",
    "print(f\"Media estandarizado precio : {mean_precio}\")\n",
    "print(f\"Mediana estandarizado precio : {median_precio}\")\n",
    "print(f\"Desviación estandar estandarizado precio : {std_precio}\")\n",
    "\n",
    "\n",
    "print(f\"Media estandarizado baños: {mean_baños}\")\n",
    "print(f\"Mediana estandarizado baños: {median_baños}\")\n",
    "print(f\"Desviación estandar estandarizado baños: {std_baños}\")\n",
    "\n",
    "print(f\"Media estandarizado dormitorios: {mean_dormitorios}\")\n",
    "print(f\"Mediana estandarizado dormitorios: {median_dormitorios}\")\n",
    "print(f\"Desviación estandar estandarizado dormitoios: {std_dormitorios}\")\n",
    "\n",
    "print(f\"Media estandarizado metros cuadrados: {mean_metros_cuadrados}\")\n",
    "print(f\"Mediana estandarizado metros cuadrados: {median_metros_cuadrados}\")\n",
    "print(f\"Desviación estandar estandarizado metros cuadrados: {std_metros_cuadrados}\")"
   ]
  },
  {
   "cell_type": "code",
   "execution_count": 51,
   "metadata": {},
   "outputs": [
    {
     "data": {
      "image/png": "[encoded data removed]",
      "text/plain": [
       "<Figure size 640x480 with 1 Axes>"
      ]
     },
     "metadata": {},
     "output_type": "display_data"
    }
   ],
   "source": [
    "plt.hist(precio_standar, bins=10, color=\"skyblue\", alpha=0.7, label=\"Precio estándar\")\n",
    "plt.hist(baños_standar, bins=10, color=\"red\", alpha=0.7, label=\"Baños estándar\")\n",
    "plt.hist(dormitorios_standar, bins=10, color=\"black\", alpha=0.7, label=\"Dormitorios estándar\")\n",
    "plt.hist(metros_cuadrados_standar, bins=10, color=\"green\", alpha=0.7, label=\"Metros cuadrados estándar\")\n",
    "plt.legend();"
   ]
  },
  {
   "cell_type": "markdown",
   "metadata": {},
   "source": [
    "### Asimetría y Curvatura"
   ]
  },
  {
   "cell_type": "code",
   "execution_count": 57,
   "metadata": {},
   "outputs": [
    {
     "name": "stdout",
     "output_type": "stream",
     "text": [
      "Coeficiente de asimetría del precio: 2.299673447902698\n",
      "Coeficiente de asimetría de los baños: 1.406223480498869\n",
      "Coeficiente de asimetría de los dormitorios: 0.8842091486712003\n",
      "Coeficiente de asimetría de los metros cuadrados: 3.358506945156488\n"
     ]
    }
   ],
   "source": [
    "# Coeficiente de asimetría\n",
    "\n",
    "print(f\"Coeficiente de asimetría del precio: {stats.skew(precio)}\")\n",
    "print(f\"Coeficiente de asimetría de los baños: {stats.skew(baños)}\")\n",
    "print(f\"Coeficiente de asimetría de los dormitorios: {stats.skew(dormitorios)}\")\n",
    "print(f\"Coeficiente de asimetría de los metros cuadrados: {stats.skew(metros_cuadrados)}\")"
   ]
  },
  {
   "cell_type": "code",
   "execution_count": 58,
   "metadata": {},
   "outputs": [
    {
     "name": "stdout",
     "output_type": "stream",
     "text": [
      "Curtosis del precio: 8.547211919938682\n",
      "Curtosis del baños: 3.038919834628685\n",
      "Curtosis del dormitorios: 1.9002632477464054\n",
      "Curtosis del metros cuadrados: 17.229111152834456\n"
     ]
    }
   ],
   "source": [
    "# Curtosis\n",
    "\n",
    "print(f\"Curtosis del precio: {stats.kurtosis(precio)}\")\n",
    "print(f\"Curtosis del baños: {stats.kurtosis(baños)}\")\n",
    "print(f\"Curtosis del dormitorios: {stats.kurtosis(dormitorios)}\")\n",
    "print(f\"Curtosis del metros cuadrados: {stats.kurtosis(metros_cuadrados)}\")"
   ]
  },
  {
   "cell_type": "markdown",
   "metadata": {},
   "source": [
    "### Transformar distribuciones e interpretar resultados"
   ]
  },
  {
   "cell_type": "code",
   "execution_count": 69,
   "metadata": {},
   "outputs": [],
   "source": [
    "# Transformación de datos con la función raíz\n",
    "precio_sqrt = np.sqrt(precio)\n",
    "baños_sqrt = np.sqrt(baños)\n",
    "dormitorios_sqrt = np.sqrt(dormitorios)\n",
    "metros_cuadrados_sqrt = np.sqrt(metros_cuadrados)\n"
   ]
  },
  {
   "cell_type": "code",
   "execution_count": null,
   "metadata": {},
   "outputs": [],
   "source": [
    "sns.kdeplot(co2_emissions_standard, label=\"distribución original\") # tienen la distribución original\n",
    "sns.kdeplot(co2_emissions_sqrt, label=\"distribución transformada sqrt\") # se corrige el impacto de los outliers\n",
    "sns.kdeplot(co2_emissions_log, label=\"distribución transformada log\") # se corrige el impacto de los outliers\n",
    "plt.legend();"
   ]
  },
  {
   "cell_type": "code",
   "execution_count": 70,
   "metadata": {},
   "outputs": [
    {
     "name": "stderr",
     "output_type": "stream",
     "text": [
      "/tmp/ipykernel_2014/2704983416.py:4: RuntimeWarning: divide by zero encountered in log\n",
      "  dormitorios_log = np.log(dormitorios)\n"
     ]
    }
   ],
   "source": [
    "# Transformación de datos con la función logaritmo\n",
    "precio_log = np.log(precio)\n",
    "baños_log = np.log(baños)\n",
    "dormitorios_log = np.log(dormitorios)\n",
    "metros_cuadrados_log = np.log(metros_cuadrados)\n"
   ]
  },
  {
   "cell_type": "markdown",
   "metadata": {},
   "source": [
    "### Contraste de Hipótesis"
   ]
  },
  {
   "cell_type": "code",
   "execution_count": null,
   "metadata": {},
   "outputs": [],
   "source": []
  },
  {
   "cell_type": "code",
   "execution_count": null,
   "metadata": {},
   "outputs": [],
   "source": []
  }
 ],
 "metadata": {
  "kernelspec": {
   "display_name": "Python 3",
   "language": "python",
   "name": "python3"
  },
  "language_info": {
   "codemirror_mode": {
    "name": "ipython",
    "version": 3
   },
   "file_extension": ".py",
   "mimetype": "text/x-python",
   "name": "python",
   "nbconvert_exporter": "python",
   "pygments_lexer": "ipython3",
   "version": "3.12.1"
  }
 },
 "nbformat": 4,
 "nbformat_minor": 2
}
