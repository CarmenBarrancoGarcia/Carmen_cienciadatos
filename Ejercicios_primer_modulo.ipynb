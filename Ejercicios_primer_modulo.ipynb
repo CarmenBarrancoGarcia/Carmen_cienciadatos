{
 "cells": [
  {
   "cell_type": "markdown",
   "metadata": {},
   "source": [
    "### Clase Usuario"
   ]
  },
  {
   "cell_type": "code",
   "execution_count": 18,
   "metadata": {},
   "outputs": [
    {
     "name": "stdout",
     "output_type": "stream",
     "text": [
      "Cliente\n",
      "1234\n",
      "35\n",
      "informatico\n",
      "profesional\n"
     ]
    }
   ],
   "source": [
    "class Usuario:\n",
    "    title = \"Cliente\"\n",
    "    ID = 1234\n",
    "    Edad = 35   \n",
    "    Tipo_producto = \"informatico\"\n",
    "    Uso = \"profesional\"\n",
    "    \n",
    "    def __init__(self, title, ID, Edad, Tipo_producto, Uso):\n",
    "        self.title = title\n",
    "        self.ID = ID\n",
    "        self.Edad = Edad\n",
    "        self.Tipo_producto = Tipo_producto\n",
    "        self.Uso = Uso\n",
    "        \n",
    "    def __str__(self):\n",
    "        return f\"Usuario: title={self.title}, ID={self.ID}, Edad={self.edad}, Tipo_producto={self.Tipo_producto}, Uso={self.Uso}\"\n",
    "\n",
    "cliente = Usuario\n",
    "print(cliente.title)\n",
    "print(cliente.ID)\n",
    "print(cliente.Edad)\n",
    "print(cliente.Tipo_producto)\n",
    "print(cliente.Uso) "
   ]
  },
  {
   "cell_type": "code",
   "execution_count": 22,
   "metadata": {},
   "outputs": [
    {
     "name": "stdout",
     "output_type": "stream",
     "text": [
      "<class '__main__.Usuario'>\n",
      "<class '__main__.Usuario'>\n"
     ]
    }
   ],
   "source": [
    "print(cliente)\n",
    "print(cliente)"
   ]
  }
 ],
 "metadata": {
  "kernelspec": {
   "display_name": "Python 3",
   "language": "python",
   "name": "python3"
  },
  "language_info": {
   "name": "python",
   "version": "3.undefined.undefined"
  }
 },
 "nbformat": 4,
 "nbformat_minor": 2
}
