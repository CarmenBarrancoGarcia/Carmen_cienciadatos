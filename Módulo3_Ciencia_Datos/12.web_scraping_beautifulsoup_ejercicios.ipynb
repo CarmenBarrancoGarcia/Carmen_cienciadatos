{
 "cells": [
  {
   "cell_type": "markdown",
   "id": "5988379a",
   "metadata": {},
   "source": [
    "## Ejercicios Web Scraping BeautifulSoup"
   ]
  },
  {
   "cell_type": "code",
   "execution_count": 2,
   "id": "029889fe",
   "metadata": {},
   "outputs": [],
   "source": [
    "import numpy as np\n",
    "import pandas as pd\n",
    "\n",
    "import requests\n",
    "import bs4 # Para ver la versión\n",
    "from bs4 import BeautifulSoup\n",
    "\n",
    "from time import sleep"
   ]
  },
  {
   "cell_type": "code",
   "execution_count": 3,
   "id": "b812295c-5cf5-41a8-a5a3-8b52544d29f8",
   "metadata": {},
   "outputs": [
    {
     "name": "stdout",
     "output_type": "stream",
     "text": [
      "numpy==2.0.2\n",
      "pandas==2.2.3\n",
      "requests==2.32.3\n",
      "bs4==4.12.3\n"
     ]
    }
   ],
   "source": [
    "# Versiones\n",
    "\n",
    "print(f\"numpy=={np.__version__}\")\n",
    "print(f\"pandas=={pd.__version__}\")\n",
    "print(f\"requests=={requests.__version__}\")\n",
    "print(f\"bs4=={bs4.__version__}\")"
   ]
  },
  {
   "cell_type": "markdown",
   "id": "22f45faa",
   "metadata": {},
   "source": [
    "De la pagina:\n",
    "\n",
    "https://www.recetasgratis.net/Recetas-de-Ensaladas-listado_receta-4_1.html\n",
    "\n",
    "- Sacar la siguiente información de las recetas de la primera página:\n",
    "\n",
    "1. **Nombre**\n",
    "2. **Descripcion**\n",
    "3. **Comensales**\n",
    "4. **Tiempo**\n",
    "5. **Categoria**\n",
    "6. **Dificultad**\n",
    "7. **Ingredientes**\n",
    "8. **Instrucciones**\n",
    "\n",
    "Guardalo en un DataFrame y luego en un **`.csv`**."
   ]
  },
  {
   "cell_type": "code",
   "execution_count": 4,
   "id": "e4086db9",
   "metadata": {},
   "outputs": [
    {
     "ename": "SyntaxError",
     "evalue": "invalid syntax (3718506904.py, line 1)",
     "output_type": "error",
     "traceback": [
      "\u001b[0;36m  Cell \u001b[0;32mIn[4], line 1\u001b[0;36m\u001b[0m\n\u001b[0;31m    https://stackoverflow.com/questions/38489386/how-to-fix-403-forbidden-errors-when-calling-apis-using-python-requests\u001b[0m\n\u001b[0m          ^\u001b[0m\n\u001b[0;31mSyntaxError\u001b[0m\u001b[0;31m:\u001b[0m invalid syntax\n"
     ]
    }
   ],
   "source": [
    "https://stackoverflow.com/questions/38489386/how-to-fix-403-forbidden-errors-when-calling-apis-using-python-requests"
   ]
  },
  {
   "cell_type": "code",
   "execution_count": 13,
   "id": "8d93872b",
   "metadata": {},
   "outputs": [
    {
     "name": "stdout",
     "output_type": "stream",
     "text": [
      "<!doctype html>\n",
      "<html data-adblockkey=\"MFwwDQYJKoZIhvcNAQEBBQADSwAwSAJBANDrp2lz7AOmADaN8tA50LsWcjLFyQFcb/P2Txc58oYOeILb3vBw7J6f4pamkAQVSQuqYsKx3YzdUHCvbVZvFUsCAwEAAQ==_afS1d5m92ob6bZSxqd0TXZpPc+gHrBHbjsJO0p7/eTGkKOzsqqrVOnplcZgmfm3CT6U9fVCAdN1BsWy59/hnkg==\" lang=\"en\" style=\"background: #2B2B2B;\">\n",
      "<head>\n",
      "    <meta charset=\"utf-8\">\n",
      "    <meta name=\"viewport\" content=\"width=device-width, initial-scale=1\">\n",
      "    <link rel=\"icon\" href=\"data:image/png;base64,iVBORw0KGgoAAAANSUhEUgAAAAEAAAABCAIAAACQd1PeAAAADElEQVQI12P4//8/AAX+Av7czFnnAAAAAElFTkSuQmCC\">\n",
      "    <link rel=\"preconnect\" href=\"https://www.google.com\" crossorigin>\n",
      "</head>\n",
      "<body>\n",
      "<div id=\"target\" style=\"opacity: 0\"></div>\n",
      "<script>window.park = \"eyJ1dWlkIjoiZWE0ZjE5MmEtNmFmNy00MDcyLWI0MzMtOTBlYTFkYzQ4MjM3IiwicGFnZV90aW1lIjoxNzM2NTMzMTg2LCJwYWdlX3VybCI6Imh0dHA6Ly93dzI1LndvcmxkYWduZXR3b3JrLmNvbS8/c3ViaWQxPTIwMjUwMTExLTA1MTktNDZhMS05YTlmLTZmZWI5OGM3YmQwYyIsInBhZ2VfbWV0aG9kIjoiR0VUIiwicGFnZV9yZXF1ZXN0Ijp7InN1YmlkMSI6IjIwMjUwMTExLTA1MTktNDZhMS05YTlmLTZmZWI5OGM3YmQwYyJ9LCJwYWdlX2hlYWRlcnMiOnt9LCJob3N0Ijoid3cyNS53b3JsZGFnbmV0d29yay5jb20iLCJpcCI6IjE3Mi4xNjYuMTUxLjExNyJ9Cg==\";</script>\n",
      "<script src=\"/bljNBctMD.js\"></script>\n",
      "</body>\n",
      "</html>\n",
      "\n"
     ]
    }
   ],
   "source": [
    "import requests\n",
    "url = 'http://worldagnetwork.com/'\n",
    "headers = {'User-Agent': 'Mozilla/5.0 (Macintosh; Intel Mac OS X 10_11_5) AppleWebKit/537.36 (KHTML, like Gecko) Chrome/50.0.2661.102 Safari/537.36'}\n",
    "result = requests.get(url, headers=headers)\n",
    "print(result.content.decode())\n"
   ]
  },
  {
   "cell_type": "code",
   "execution_count": 12,
   "id": "f92d7232",
   "metadata": {},
   "outputs": [
    {
     "data": {
      "text/plain": [
       "<body class=\"no-js\"><div class=\"main-wrapper\" role=\"main\"><div class=\"main-content\"><noscript><div class=\"h2\"><span id=\"challenge-error-text\">Enable JavaScript and cookies to continue</span></div></noscript></div></div><script>(function(){window._cf_chl_opt={cvId: '3',cZone: \"www.recetasgratis.net\",cType: 'managed',cRay: '8ffead448c11949b',cH: 'Z4fQXsmCnc9cRcOAPXXI8.GBgceY2AJW2rNWWmlc6cU-1736533182-1.2.1.1-WiWM.3Dgu01KAnJ4eXueBi1pbYv5KksWQ19zciqhTUJJZnvbWsJsKD2qju_xmv8m',cUPMDTk: \"\\/Recetas-de-Ensaladas-listado_receta-4_1.html?__cf_chl_tk=s8jJNmfBACkWi6cRub0ierTRdt1_jKRR_ufwgFaZofU-1736533182-1.0.1.1-vPkZXgHsjXUxXwNrEHMhbcwecWZZazZPqv6wZ9HHLqI\",cFPWv: 'b',cITimeS: '1736533182',cTTimeMs: '1000',cMTimeMs: '390000',cTplC: 0,cTplV: 5,cTplB: 'cf',cK: \"\",fa: \"\\/Recetas-de-Ensaladas-listado_receta-4_1.html?__cf_chl_f_tk=s8jJNmfBACkWi6cRub0ierTRdt1_jKRR_ufwgFaZofU-1736533182-1.0.1.1-vPkZXgHsjXUxXwNrEHMhbcwecWZZazZPqv6wZ9HHLqI\",md: \"BPCZQdYiM3PzEO002vWfYzb10s_0L_sffCCArUf6vmI-1736533182-1.2.1.1-Ke485vkdzcQDGf7j0eI4ez7TCjm01LBND0YgeX1ybOyhu3elGnhmKdJOZsmZhKuV3ZqVOj.1ISGJfrebZctfu3cTHIIDWQgkRkZ6P8Kg4iDUn5eZWNSj0.GkdvaQIZCphbMmGVe32iUGeMCGaOyKkRUHVGlBpK7qEpW6_i.9FaLHS0DumjXILxRoimMGARls8Kssde4PMTmglJyIJ1OkkFHnnME7gAqMoS4L2wJBYNq7D5RSLj6RoDpe8foQwfqV2u.rf35xmS1ZH8n2BP5FPMoCBu06QOUIdlGr.UbNDpTVM1JjGovyfCEuO7ZPiJ5hq83wsUKKcHPFQSF6eWmwRTNRRGVUd3RSQCkgI3ofmyMlqm6lSf0Q90PHNbYY2Ida3uL8qN5cPGooC5kwTZZCHEAWqinX3zq9S9tcYTTmKQSW8PdGaXGwCEpsnPX4Khme8aF30tWRlAghYXZzVx_yCswmWVtqcUS8u7BJS.rM5JjisulW8fKcxwiMxivVDiPpI6XDvVMfU0fAQICc8CPNKD0jcdR0gLWMk1YJqVttrFEQEZ86gG8JPrLV41oV.enHEZTbGUhxdgXfJ8qkj.yDEB717pzTZxFafWClGE0xBp_aQJ_EcHV1W2UGoVhXAovvZn6Dmdx7MyfZRiMpYSoMifj3CO_qdQQUJaWpJbMbuk.N7kU7sVtAUW8KWZgoV5KR79L8uiZeZbN7pHL362QYTr2z.oEDgZdkGmIhiKN5hpaZqJZ3y8XMTgkTnRZS44wNB5MPMuaD4Qc4Nje1jnP7HfKz0xScorQcCN4bgVMaXcCVjK5S8Mmg0G1dmj_BRMicrsIvgsorH37K6MYSOssYssQuHZNQKISraY2buAWxs5pgJ5Kpk17xYJ3PYVYE3tW5C_FGaGmRWN0_80V_GXmeLUkYngC5DlqisZkgXQPwjWpSqpEH8Wc5_bcG5m3ZLAokH6ab8tEIbPziLjt2ImB27SGhujT6vFviWf.lOlGY5J3ANjCGRBqx4PCZFcMMG6mt2DRj4BsTlZgH2OAO8nSGahXg_qkbfBJzIgv9TKuiWBgySc.Elt7l6BpnUgDAQf7OyMWxrY13TLEyCqigijcF2KogbXgobCkRHfOZ.WHIozN1DBjLi2Vx6mEpD_1S023.Geon9Q34jgT2NeUxAoTElo0KUqqh4FTg4XXuy60W4lfux64vXAtx8WI8.F52060g0XX7Pah6FLiyu.MAe6eZkVKwkF1KP.RaThq36I_K7AXWV8BDLPdGxpeVzvSCfyHb8qXQkmYl551kckbEfGH28bBoSDuTAPPbYJbKsJT87IiNQCD.UX4oXc4m0PStpM67pzifOM6WTHSXNcevewpiPgULKvWM5ms1pDwgJYJb9Ad5LkiBw9J6ffLOWJbs1EC8PylDz7RI_ebB4x8EByYgpFJ6n2YpHcSlyiOKjW_vVImvU5v4WUZyedgIgrrA4Ld.ZGalwm8.mQMLsqiMe5NCKm1g06w7ND_fQf3mrN9vWu4SJAP0yBUX5bBSzcVC5S4CYcDN_Rsb1k7Y2qmyyNz9BBo4GUI0rbKe7lCA8vDqIrmtvPHt1btPp2ZGfn19gz4CEoGoNAkm_9BKVGL6mfv47f7Ps6ELel7gPsx0qJnP07OSu3iOfWXRhIPYIPY4j9IMGDnfKk4l3FYyJwNcU3O8llY1MVxbA2B.MnLnvOtPuhYv0Qa09AdkomWZD4ljsWil0uuUtdxMGdVuR2IMhB3o4IeuOsZI5vu_l_yUeRjQ7JvbtbjnKAp4BGL7M3LInogvb.vS5LgIXNqv.4DsOGslIXXK7._JOiDHxaUKQa9SuA9ZKTvkEORIkJvxQ4ilsXxPUQtaImpt5n.owX6lE.WBs0DCdNYSPFDHi_FznEpWWRjCgpBYyZNvu.esf1pbsfyjniTEDVqSoJbLNqc_avmMp0oZWwVxIvEtTJVMrLA4VKYk1Sy_hlaLY_STczMEipVAAvgca65eHs7xz0h3erkzg9DbyeWGAKt3AEXj1UbwzJclei0PXhzZ8lUfZJE.SV1iWn4QOPOu3W_FD6RaNJXfP8s0mfCLs0Xunhmyrl_O0cyKXDO.VCcBwSV7NgesHVxUUSo5yxP.GUJ0V7Sy7.tnr_b17U85A8SWjWalT1JNfgjgBrJezGPy6Qg7LQgh9h9XINEKViR4hnSzpbio0sGtDoxJGEc81XgoeoM7Q3RTbtgJFDvvUTikRqVAhFIteInxoTYffYq.YMhC2pktP739gg\",mdrd: \"t.oBMAOxAA4vx07LCW3Legcjb0eIIud7UUTOpQiKlnc-1736533182-1.2.1.1-taq5qV1adyMIppo1nKkmM0uh1HQDBBUhq9QtpHCEV8_nm8R.xWbOk3blRgoLUnVLLEg3QTF0I.l0n517RfwL90_CCp6y7NEh4C3Bf_qHCoXU1kAht5amngifcJPF_MM9oWUPpkJ_E5KKUWVZDqwq.WCKgLis2EvuAAsab_NPwoqyAOphpM2T6QSTFxEiFROBmN2zTKHkHFv6ENR_ZR_F0ZvnWdAxQNlht5dnp7g39Skq9CN1Aj30a1cS7pORo6K9rY7S2ZMZXmMovxa02goXswbkO_pIRXMy_u5EEz62ZZKnLIZmDBf3_aLnVMbrcmWcd35L2A90mODoWcvjpTv5Jyr589kFkftFH3DKdhcdEzlfsdHo6fQJpOb2lZKkdQz11dH88LNQ8oksOjfoEFYoKXmsNbN1yWEuLXst9o2vYuWeziOgzSw0zeSxevKxTqrv2e.vZI33HgCnAWvIV8Iy6r9zz3nkaos2obRpCS0Dws75Q9Umh0aS.ls98CzUkKbwHjfgFCwxkSM2iNdrOJ5eVT8WnRPfaMJqgzvEJ5EqhvgBQNstXfxZPS04xsF1axbdSPzh76hQC3kN4_qkHC8vRnpm1.6sHIb7LsQmXm9Bo8JAMZ_yDKDgOnZ2lN3lqZT0Ljd0Ng3bw8.EQYHMhcxwG9mxuyAqGKMaKdLrsM9h6.6wx4z4Iqygnv4tpuQJo3QKDUVwF7BG7iF_PT.0gcqfnS8QK8ESVYXu13SpKfl9kuozU6nrwyxoFjvg5PBl_I9pqo2gvedtrKuYyjPr4KnBfgfXo9LKOBkLXh8L4g2IVeYb0CkgC.GNtsPn9ySZgADmwYbO5l4u8HvV1jhGLwba0qyS8Z6nk22XaJTSGIUTcnbzlnna6Id5m7XR11qgC3fJNr7AqrxoxqL9ouSJ6gpSAv.lHnXSUTOC72NTckfE2cy0Lq9Yxb3wBZAWKi2Ms_zpfdheUyHObM_LAY3F0RVTgYvgaezKiluBPNH2Y1aqge60hhOSV89Vt1Ci4rjE9KFpH02ChUMZHn12WZXDQvNlLLeHM4f13fOMKd70l_gJCbttv24xLMl8vaORzioWADjkYj4u4fG4redAeiREOj_kmIK5Yp0q9azf4J7DE2E1hpWJhVrWJXTtJnFX2chY0o1Tw.Lfln8SqbG57deq.oqH3Dn7y7PcPz8alKFO4kDRw2py_W5tDx7_Ch2NO.sSXStb_xuijNNdxx6isD5DtID7nVfgsCvdQwjOIoZRNc4MBHeQrFJ020MAdIwlZLGvxXs6e23nCoVhSXGgcH2G1wiKzI9V6vYh9R_ZhqUqC1RTSlY8CNhP4yFUKutporIjxm5UUIhgylDbMvVUcdffESib3AYXzFaJ8m0_Ju8SNaTb5FOmqVODg93.PKq5f.7_R4qYXaQAUargAseA77oIZX.fIwJ.VX_I2h1YIc.Bc14Xqy1O6zbpfoCKU9KQZFmStltXuT3BWcj8lDd.aa8QYNgF9EQ2rVHQ5NFF8o2iMagthJ5ibipE4QOKBCoEC0dhSbzZg9bBU8X9PU31a._rChZnQaPjhWLeHxp.28Fefdfa3heduTuCIudmFQDg5AbOELb87Ekx0MEigbTw0DxhYT58k_y6nPEFU1yx9i1emsbiIN1C9dwBt7nOxqyDLh77EWXAOjvt48Z7XHBUaOvt5u7WBbvwhVpAI1DftrTcYbbVxotqy3m8jOwq6DtRqSb7O.8OEliJjdAQJRTvL0.BMgMeGNRUdauXqdQmg11cAtQ1oxg5jdpb81tTJO4R6w8dUZX4qO8N7DsBZEOZuuIHjbXIcu6MgsJuSj6IHfbdqYAqARb8AoI5q4nLQcgYta9oLbWunyBHPLj_UoLLtk0yPggS15KY_l_dg2gMCAcXrqJW_MH0Qp6ulqpc.5iuMf1Oi.EaJi0atcy8S5FkSjEIudiH7tM4Bkm3k4C_3FQFMUvu8FSxs5x95QOCA4co6BbTFHzAPC56tISVG7CsNObpxW_jzljazTkqCa8L6hSj8jTBxzdbTIq5O2bEHCif5t7Ay8Gk9qUWgfsNCqsqMRqMUPAh9bxI0qXuHFLJNmLVA4a1U53BS6_yjg1zGP2lUbr8MRP13LjAm9Rr0sD5RJR92c0vq4ueVR8WLTOgQaVoutf04vyPDMaKZkpSOvgPegiynA835cqNlW3UNSXXaUyw1cSZOA\"};var cpo = document.createElement('script');cpo.src = '/cdn-cgi/challenge-platform/h/b/orchestrate/chl_page/v1?ray=8ffead448c11949b';window._cf_chl_opt.cOgUHash = location.hash === '' && location.href.indexOf('#') !== -1 ? '#' : location.hash;window._cf_chl_opt.cOgUQuery = location.search === '' && location.href.slice(0, location.href.length - window._cf_chl_opt.cOgUHash.length).indexOf('?') !== -1 ? '?' : location.search;if (window.history && window.history.replaceState) {var ogU = location.pathname + window._cf_chl_opt.cOgUQuery + window._cf_chl_opt.cOgUHash;history.replaceState(null, null, \"\\/Recetas-de-Ensaladas-listado_receta-4_1.html?__cf_chl_rt_tk=s8jJNmfBACkWi6cRub0ierTRdt1_jKRR_ufwgFaZofU-1736533182-1.0.1.1-vPkZXgHsjXUxXwNrEHMhbcwecWZZazZPqv6wZ9HHLqI\" + window._cf_chl_opt.cOgUHash);cpo.onload = function() {history.replaceState(null, null, ogU);}}document.getElementsByTagName('head')[0].appendChild(cpo);}());</script></body>"
      ]
     },
     "execution_count": 12,
     "metadata": {},
     "output_type": "execute_result"
    }
   ],
   "source": [
    "response = requests.get(\"https://www.recetasgratis.net/Recetas-de-Ensaladas-listado_receta-4_1.html\")\n",
    "soup = BeautifulSoup(response.text, \"html.parser\")\n",
    "soup.body"
   ]
  },
  {
   "cell_type": "code",
   "execution_count": 11,
   "id": "6feb378f",
   "metadata": {},
   "outputs": [
    {
     "ename": "TypeError",
     "evalue": "'NoneType' object is not subscriptable",
     "output_type": "error",
     "traceback": [
      "\u001b[0;31m---------------------------------------------------------------------------\u001b[0m",
      "\u001b[0;31mTypeError\u001b[0m                                 Traceback (most recent call last)",
      "Cell \u001b[0;32mIn[11], line 1\u001b[0m\n\u001b[0;32m----> 1\u001b[0m primera_receta_url \u001b[38;5;241m=\u001b[39m \u001b[43msoup\u001b[49m\u001b[38;5;241;43m.\u001b[39;49m\u001b[43mfind\u001b[49m\u001b[43m(\u001b[49m\u001b[38;5;124;43m\"\u001b[39;49m\u001b[38;5;124;43ma\u001b[39;49m\u001b[38;5;124;43m\"\u001b[39;49m\u001b[43m,\u001b[49m\u001b[43m \u001b[49m\u001b[43mclass_\u001b[49m\u001b[38;5;241;43m=\u001b[39;49m\u001b[38;5;124;43m\"\u001b[39;49m\u001b[38;5;124;43mtitulo titulo--resultado\u001b[39;49m\u001b[38;5;124;43m\"\u001b[39;49m\u001b[43m)\u001b[49m\u001b[43m[\u001b[49m\u001b[38;5;124;43m\"\u001b[39;49m\u001b[38;5;124;43mhref\u001b[39;49m\u001b[38;5;124;43m\"\u001b[39;49m\u001b[43m]\u001b[49m\n\u001b[1;32m      2\u001b[0m primera_receta_url\n",
      "\u001b[0;31mTypeError\u001b[0m: 'NoneType' object is not subscriptable"
     ]
    }
   ],
   "source": [
    "primera_receta_url = soup.find(\"a\", class_=\"titulo titulo--resultado\")[\"href\"]\n",
    "primera_receta_url"
   ]
  },
  {
   "cell_type": "code",
   "execution_count": null,
   "id": "efc8b375",
   "metadata": {},
   "outputs": [],
   "source": [
    "response = requests.get(primera_receta_url)\n",
    "soup = BeautifulSoup(response, \"html.parser\")\n",
    "soup.body"
   ]
  },
  {
   "cell_type": "code",
   "execution_count": 21,
   "id": "d56de4b2",
   "metadata": {},
   "outputs": [
    {
     "ename": "AttributeError",
     "evalue": "'NoneType' object has no attribute 'text'",
     "output_type": "error",
     "traceback": [
      "\u001b[0;31m---------------------------------------------------------------------------\u001b[0m",
      "\u001b[0;31mAttributeError\u001b[0m                            Traceback (most recent call last)",
      "Cell \u001b[0;32mIn[21], line 3\u001b[0m\n\u001b[1;32m      1\u001b[0m \u001b[38;5;66;03m# Nombre\u001b[39;00m\n\u001b[0;32m----> 3\u001b[0m titulo \u001b[38;5;241m=\u001b[39m \u001b[43msoup\u001b[49m\u001b[38;5;241;43m.\u001b[39;49m\u001b[43mfind\u001b[49m\u001b[43m(\u001b[49m\u001b[38;5;124;43m\"\u001b[39;49m\u001b[38;5;124;43ma\u001b[39;49m\u001b[38;5;124;43m\"\u001b[39;49m\u001b[43m,\u001b[49m\u001b[43m \u001b[49m\u001b[43mclass_\u001b[49m\u001b[38;5;241;43m=\u001b[39;49m\u001b[38;5;124;43m\"\u001b[39;49m\u001b[38;5;124;43mtitulo titulo--articulo\u001b[39;49m\u001b[38;5;124;43m\"\u001b[39;49m\u001b[43m)\u001b[49m\u001b[38;5;241;43m.\u001b[39;49m\u001b[43mtext\u001b[49m\n",
      "\u001b[0;31mAttributeError\u001b[0m: 'NoneType' object has no attribute 'text'"
     ]
    }
   ],
   "source": [
    "# Nombre\n",
    "\n",
    "titulo = soup.find(\"a\", class_=\"titulo titulo--articulo\").text\n",
    "titulo\n"
   ]
  },
  {
   "cell_type": "code",
   "execution_count": null,
   "id": "fcb815e5",
   "metadata": {},
   "outputs": [],
   "source": [
    "soup.find(\"p\").text"
   ]
  },
  {
   "cell_type": "code",
   "execution_count": null,
   "id": "cc2c7065",
   "metadata": {},
   "outputs": [],
   "source": [
    "descripcion = soup.find(\"div\", class_ = \"intro\")find(\"p\").text\n",
    "descripcion"
   ]
  },
  {
   "cell_type": "code",
   "execution_count": null,
   "id": "23b78f05",
   "metadata": {},
   "outputs": [],
   "source": [
    "comensales = soup.find(\"span\" class_=\"property comensales\").text\n",
    "comensales"
   ]
  },
  {
   "cell_type": "code",
   "execution_count": null,
   "id": "58fa3cf8",
   "metadata": {},
   "outputs": [],
   "source": [
    "comensales_num = int(comensales.split(\"\")[0])\n",
    "comensales_num"
   ]
  },
  {
   "cell_type": "code",
   "execution_count": null,
   "id": "30cff6fe",
   "metadata": {},
   "outputs": [],
   "source": [
    "def obtener_minutos(tiempo):\n",
    "    if not tiempo:\n",
    "        return 0\n",
    "\n",
    "    total_minutos = 0\n",
    "    \n",
    "    # hay h y hay m\n",
    "    if \"h\" in tiempo:\n",
    "        horas = int(tiempo.split(\"\")[0].replace(\"h\",\"\"))\n",
    "        minutos = int(tiempo.split(\"\")[0].replace(\"h\",\"\"))\n",
    "        return horas * 60 + minutos\n",
    "    \n",
    "    # Hay solo h    \n",
    "    if \"m\" in tiempo:\n",
    "        horas = int(tiempo.replace(\"h\", \"\"))\n",
    "        return horas * 60\n",
    "    # Hay solo m\n",
    "    if \"m\" in tiempo:\n",
    "        return int(tiempo.replace(\"m\", \"\"))\n",
    "        "
   ]
  },
  {
   "cell_type": "code",
   "execution_count": null,
   "id": "26db8902",
   "metadata": {},
   "outputs": [],
   "source": [
    "tiempo = soup.find(\"span\", class_=\"property duracion\").text\n",
    "tiempo"
   ]
  },
  {
   "cell_type": "code",
   "execution_count": null,
   "id": "80e6ec74",
   "metadata": {},
   "outputs": [],
   "source": [
    "tiempo_minutos = obtener_minutos(tiempo)\n",
    "tiempo_minutos"
   ]
  },
  {
   "cell_type": "code",
   "execution_count": null,
   "id": "c47c157e",
   "metadata": {},
   "outputs": [],
   "source": [
    "categoria = soup.find(\"span\", class_=\"property para\").text\n",
    "categoria"
   ]
  },
  {
   "cell_type": "code",
   "execution_count": null,
   "id": "3e4e7acd",
   "metadata": {},
   "outputs": [],
   "source": [
    "dificultad = soup.find(\"span\", class_=\"property dificultad\").text.replace(\"Dificultad\", \"\")\n",
    "dificultad"
   ]
  },
  {
   "cell_type": "code",
   "execution_count": null,
   "id": "a89874f8",
   "metadata": {},
   "outputs": [],
   "source": [
    "ingredientes = [ingrediente.text.strip for ingrediente in soup.find(\"div\", class_=\"ingredientes\").find_all(\"label\")]\n",
    "ingredientes"
   ]
  },
  {
   "cell_type": "code",
   "execution_count": null,
   "id": "ea3d6947",
   "metadata": {},
   "outputs": [],
   "source": [
    "# De esta forma, incluye apartados que quizás no sean pasos como tal\n",
    "[paso.text for paso in soup.find(\"div\", class_=\"apartado\").find(\"p\")]"
   ]
  },
  {
   "cell_type": "code",
   "execution_count": null,
   "id": "ab074e27",
   "metadata": {},
   "outputs": [],
   "source": [
    "pasos = [paso.text for paso in soup.select(\".apartado .orden + p\")]"
   ]
  },
  {
   "cell_type": "code",
   "execution_count": null,
   "id": "9ee929af",
   "metadata": {},
   "outputs": [],
   "source": [
    "df = pd.DataFrame()\n",
    "df[\"titulo\"] = [titulo]\n",
    "df[\"descripcion\"] = [descripcion]\n",
    "df[\"comensales\"] = [comensales_num]\n",
    "df[\"tiempo_minutos\"] = [tiempo_minutos]\n",
    "df[\"categoria\"] = [categoria]\n",
    "df[\"ingredientes\"] = [ingredientes]\n",
    "df[\"pasos\"] = [pasos]\n",
    "df.head()\n"
   ]
  },
  {
   "cell_type": "code",
   "execution_count": null,
   "id": "d0604150",
   "metadata": {},
   "outputs": [],
   "source": [
    "df.info()"
   ]
  },
  {
   "cell_type": "code",
   "execution_count": null,
   "id": "eb00cea4",
   "metadata": {},
   "outputs": [],
   "source": [
    "df.to_csv(\"recetas.csv\", sep=\";\", index=False)"
   ]
  },
  {
   "cell_type": "code",
   "execution_count": 18,
   "id": "cd1eda24",
   "metadata": {},
   "outputs": [
    {
     "ename": "TypeError",
     "evalue": "'int' object is not iterable",
     "output_type": "error",
     "traceback": [
      "\u001b[0;31m---------------------------------------------------------------------------\u001b[0m",
      "\u001b[0;31mTypeError\u001b[0m                                 Traceback (most recent call last)",
      "Cell \u001b[0;32mIn[18], line 7\u001b[0m\n\u001b[1;32m      3\u001b[0m num_paginas \u001b[38;5;241m=\u001b[39m \u001b[38;5;241m2\u001b[39m\n\u001b[1;32m      5\u001b[0m recetas_urls \u001b[38;5;241m=\u001b[39m []\n\u001b[0;32m----> 7\u001b[0m \u001b[38;5;28;43;01mfor\u001b[39;49;00m\u001b[43m \u001b[49m\u001b[43mnum_pagina\u001b[49m\u001b[43m \u001b[49m\u001b[38;5;129;43;01min\u001b[39;49;00m\u001b[43m \u001b[49m\u001b[43mnum_paginas\u001b[49m\u001b[43m:\u001b[49m\n\u001b[1;32m      9\u001b[0m \u001b[43m    \u001b[49m\u001b[43mresponse\u001b[49m\u001b[43m \u001b[49m\u001b[38;5;241;43m=\u001b[39;49m\u001b[43m \u001b[49m\u001b[43mrequests\u001b[49m\u001b[38;5;241;43m.\u001b[39;49m\u001b[43mget\u001b[49m\u001b[43m(\u001b[49m\u001b[38;5;124;43mf\u001b[39;49m\u001b[38;5;124;43m\"\u001b[39;49m\u001b[38;5;124;43mhttps://www.recetasgratis.net/Recetas-de-Ensaladas-listado_receta-4_1.html\u001b[39;49m\u001b[38;5;124;43m\"\u001b[39;49m\u001b[43m)\u001b[49m\n\u001b[1;32m     10\u001b[0m \u001b[43m    \u001b[49m\u001b[43msoup\u001b[49m\u001b[43m \u001b[49m\u001b[38;5;241;43m=\u001b[39;49m\u001b[43m \u001b[49m\u001b[43mBeautifulSoup\u001b[49m\u001b[43m(\u001b[49m\u001b[43mresponse\u001b[49m\u001b[38;5;241;43m.\u001b[39;49m\u001b[43mtext\u001b[49m\u001b[43m,\u001b[49m\u001b[43m \u001b[49m\u001b[38;5;124;43m\"\u001b[39;49m\u001b[38;5;124;43mhtml.parser\u001b[39;49m\u001b[38;5;124;43m\"\u001b[39;49m\u001b[43m)\u001b[49m\n",
      "\u001b[0;31mTypeError\u001b[0m: 'int' object is not iterable"
     ]
    }
   ],
   "source": [
    "# Todas las recetas de la primera página\n",
    "\n",
    "num_paginas = 2\n",
    "\n",
    "recetas_urls = []\n",
    "\n",
    "for num_pagina in num_paginas:\n",
    "    \n",
    "    response = requests.get(f\"https://www.recetasgratis.net/Recetas-de-Ensaladas-listado_receta-4_1.html\")\n",
    "    soup = BeautifulSoup(response.text, \"html.parser\")\n",
    "    \n",
    "    recetas_urls.extend([receta[\"href\"] for receta in soup.find_all(\"a\", class_=\"titulo titulo--resultado\")])\n",
    "    \n",
    "print(f\"recetas_urls{len(recetas_urls)}\")\n",
    "\n",
    "recetas_ok_urls = [url for url in recetas_urls if \"receta-\" in url]"
   ]
  },
  {
   "cell_type": "code",
   "execution_count": null,
   "id": "742bb6a6",
   "metadata": {},
   "outputs": [],
   "source": [
    "titulos, descripciones, comensales, tiempos = list(), list(), list(), list()\n",
    "categorias, dificultades, ingredientes, pasos = list(), list(), list(), list()\n",
    "for url in recetas_ok_urls:\n",
    "    response = requests.get(url)\n",
    "    print(url)\n",
    "    soup = BeautifulSoup(response.text, \"html.parser\")\n",
    "    \n",
    "    titulos.append(soup.find(\"h1\", class_=\"titulo titulo--articulo\").text)\n",
    "    descripciones.append(soup.find('div', class_='intro').find('p').text)\n",
    "    comensales.append(int(soup.find(\"span\", class_=\"property comensales\").text.split(' ')[0]))\n",
    "    tiempos.append(obtener_minutos(soup.find(\"span\", class_=\"property duracion\").text))\n",
    "    try:\n",
    "        categorias.append(soup.find(\"span\", class_=\"property para\").text)\n",
    "    except:\n",
    "        categorias.append(np.nan)\n",
    "    dificultades.append(soup.find(\"span\", class_=\"property dificultad\").text.lower().replace('dificultad ', ''))\n",
    "    ingredientes.append([ingrediente.text.strip() for ingrediente in soup.find('div', class_='ingredientes').find_all('label')])\n",
    "    pasos.append([paso.text for paso in soup.select('.apartado .orden + p')])\n",
    "    \n",
    "    \n",
    "df = pd.DataFrame()\n",
    "df['titulo'] = titulos\n",
    "df['descripcion'] = descripciones\n",
    "df['comensales'] = comensales\n",
    "df['tiempo_minutos'] = tiempos\n",
    "df['categoria'] = categorias\n",
    "df['dificultad'] = dificultades\n",
    "df['ingredientes'] = ingredientes\n",
    "df['pasos'] = pasos\n",
    "df.head()"
   ]
  },
  {
   "cell_type": "markdown",
   "id": "6ae0d51a",
   "metadata": {},
   "source": [
    "- Repetir el ejercicio para todas las recetas de todas las páginas."
   ]
  },
  {
   "cell_type": "code",
   "execution_count": 14,
   "id": "654a35b4",
   "metadata": {},
   "outputs": [
    {
     "name": "stdout",
     "output_type": "stream",
     "text": [
      "Collecting selenium\n",
      "  Downloading selenium-4.27.1-py3-none-any.whl.metadata (7.1 kB)\n",
      "Requirement already satisfied: urllib3<3,>=1.26 in /home/codespace/.local/lib/python3.12/site-packages (from urllib3[socks]<3,>=1.26->selenium) (2.2.3)\n",
      "Collecting trio~=0.17 (from selenium)\n",
      "  Downloading trio-0.28.0-py3-none-any.whl.metadata (8.5 kB)\n",
      "Collecting trio-websocket~=0.9 (from selenium)\n",
      "  Downloading trio_websocket-0.11.1-py3-none-any.whl.metadata (4.7 kB)\n",
      "Requirement already satisfied: certifi>=2021.10.8 in /home/codespace/.local/lib/python3.12/site-packages (from selenium) (2024.8.30)\n",
      "Requirement already satisfied: typing_extensions~=4.9 in /home/codespace/.python/current/lib/python3.12/site-packages (from selenium) (4.12.2)\n",
      "Requirement already satisfied: websocket-client~=1.8 in /home/codespace/.local/lib/python3.12/site-packages (from selenium) (1.8.0)\n",
      "Requirement already satisfied: attrs>=23.2.0 in /home/codespace/.local/lib/python3.12/site-packages (from trio~=0.17->selenium) (24.2.0)\n",
      "Collecting sortedcontainers (from trio~=0.17->selenium)\n",
      "  Downloading sortedcontainers-2.4.0-py2.py3-none-any.whl.metadata (10 kB)\n",
      "Requirement already satisfied: idna in /home/codespace/.local/lib/python3.12/site-packages (from trio~=0.17->selenium) (3.10)\n",
      "Collecting outcome (from trio~=0.17->selenium)\n",
      "  Downloading outcome-1.3.0.post0-py2.py3-none-any.whl.metadata (2.6 kB)\n",
      "Requirement already satisfied: sniffio>=1.3.0 in /home/codespace/.local/lib/python3.12/site-packages (from trio~=0.17->selenium) (1.3.1)\n",
      "Collecting wsproto>=0.14 (from trio-websocket~=0.9->selenium)\n",
      "  Downloading wsproto-1.2.0-py3-none-any.whl.metadata (5.6 kB)\n",
      "Collecting pysocks!=1.5.7,<2.0,>=1.5.6 (from urllib3[socks]<3,>=1.26->selenium)\n",
      "  Downloading PySocks-1.7.1-py3-none-any.whl.metadata (13 kB)\n",
      "Requirement already satisfied: h11<1,>=0.9.0 in /home/codespace/.local/lib/python3.12/site-packages (from wsproto>=0.14->trio-websocket~=0.9->selenium) (0.14.0)\n",
      "Downloading selenium-4.27.1-py3-none-any.whl (9.7 MB)\n",
      "\u001b[2K   \u001b[90m━━━━━━━━━━━━━━━━━━━━━━━━━━━━━━━━━━━━━━━━\u001b[0m \u001b[32m9.7/9.7 MB\u001b[0m \u001b[31m60.0 MB/s\u001b[0m eta \u001b[36m0:00:00\u001b[0m\n",
      "\u001b[?25hDownloading trio-0.28.0-py3-none-any.whl (486 kB)\n",
      "Downloading trio_websocket-0.11.1-py3-none-any.whl (17 kB)\n",
      "Downloading PySocks-1.7.1-py3-none-any.whl (16 kB)\n",
      "Downloading wsproto-1.2.0-py3-none-any.whl (24 kB)\n",
      "Downloading outcome-1.3.0.post0-py2.py3-none-any.whl (10 kB)\n",
      "Downloading sortedcontainers-2.4.0-py2.py3-none-any.whl (29 kB)\n",
      "Installing collected packages: sortedcontainers, wsproto, pysocks, outcome, trio, trio-websocket, selenium\n",
      "Successfully installed outcome-1.3.0.post0 pysocks-1.7.1 selenium-4.27.1 sortedcontainers-2.4.0 trio-0.28.0 trio-websocket-0.11.1 wsproto-1.2.0\n",
      "\n",
      "\u001b[1m[\u001b[0m\u001b[34;49mnotice\u001b[0m\u001b[1;39;49m]\u001b[0m\u001b[39;49m A new release of pip is available: \u001b[0m\u001b[31;49m24.2\u001b[0m\u001b[39;49m -> \u001b[0m\u001b[32;49m24.3.1\u001b[0m\n",
      "\u001b[1m[\u001b[0m\u001b[34;49mnotice\u001b[0m\u001b[1;39;49m]\u001b[0m\u001b[39;49m To update, run: \u001b[0m\u001b[32;49mpip install --upgrade pip\u001b[0m\n",
      "Note: you may need to restart the kernel to use updated packages.\n"
     ]
    }
   ],
   "source": [
    "pip install selenium"
   ]
  },
  {
   "cell_type": "code",
   "execution_count": null,
   "id": "0a868894",
   "metadata": {},
   "outputs": [],
   "source": []
  },
  {
   "cell_type": "code",
   "execution_count": null,
   "id": "a5d3af88",
   "metadata": {},
   "outputs": [],
   "source": []
  }
 ],
 "metadata": {
  "kernelspec": {
   "display_name": "Python 3",
   "language": "python",
   "name": "python3"
  },
  "language_info": {
   "codemirror_mode": {
    "name": "ipython",
    "version": 3
   },
   "file_extension": ".py",
   "mimetype": "text/x-python",
   "name": "python",
   "nbconvert_exporter": "python",
   "pygments_lexer": "ipython3",
   "version": "3.12.1"
  }
 },
 "nbformat": 4,
 "nbformat_minor": 5
}
