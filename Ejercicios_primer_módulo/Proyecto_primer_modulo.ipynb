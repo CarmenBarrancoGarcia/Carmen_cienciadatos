{
 "cells": [
  {
   "cell_type": "markdown",
   "metadata": {},
   "source": [
    "### Clase Usuario"
   ]
  },
  {
   "cell_type": "code",
   "execution_count": 16,
   "metadata": {},
   "outputs": [],
   "source": [
    "class Usuario:\n",
    "    \n",
    "    \n",
    "    def __init__(self, title, Nombre, ID, Edad, Tipo_producto, Uso):\n",
    "        self.title = title\n",
    "        self.Nombre = Nombre\n",
    "        self.ID = ID\n",
    "        self.Edad = Edad\n",
    "        self.Tipo_producto = Tipo_producto\n",
    "        self.Uso = Uso\n",
    "        \n",
    "    def __str__(self):\n",
    "        return f\"Usuario: title={self.title}, Nombre={self.Nombre} ID={self.ID}, Edad={self.Edad}, Tipo_producto={self.Tipo_producto}, Uso={self.Uso}\"\n",
    "\n"
   ]
  },
  {
   "cell_type": "code",
   "execution_count": 17,
   "metadata": {},
   "outputs": [
    {
     "name": "stdout",
     "output_type": "stream",
     "text": [
      "<class '__main__.Usuario'>\n",
      "<class '__main__.Usuario'>\n"
     ]
    }
   ],
   "source": [
    "print(Usuario)\n",
    "print(Usuario)"
   ]
  },
  {
   "cell_type": "code",
   "execution_count": 23,
   "metadata": {},
   "outputs": [],
   "source": [
    "usuario = Usuario('Potencial Cliente', \"Ana\", 1234, 35, \"pantalla\", \"particular\")"
   ]
  },
  {
   "cell_type": "code",
   "execution_count": 24,
   "metadata": {},
   "outputs": [],
   "source": [
    "usuario1 = Usuario(\"Potencial Cliente2\", \"Marcos\", 5678, 40, \"teclado\", \"particular\")\n",
    "usuario2 = Usuario(\"Potencial cliente3\", \"Manuel\", 9123, 20, \"camara\", \"empresa\" )\n",
    "usuario3 = Usuario(\"Potencial cliente4\", \"Teresa\", 4567, 53, \"ordenador\", \"particular\")\n",
    "usuario4 = Usuario(\"Potencial Cliente5\", \"Guille\", 8912, 43, \"conector\", \"empresa\" )\n",
    "\n",
    "usuarios = [usuario1, usuario2, usuario3, usuario4]"
   ]
  },
  {
   "cell_type": "code",
   "execution_count": 19,
   "metadata": {},
   "outputs": [],
   "source": [
    "menu = \"\"\"Indique la opcion que desea realizar\n",
    "        1. Imprimir todos los usuarios de la lista\n",
    "        2. Imprimir todos los usuarios ordenados por edad descendente\n",
    "        3. Imprimir usuario por su correo electronico\n",
    "        4. Crear un nuevo usuario\n",
    "        5. Actualizar un usuario ya existente\n",
    "        6. Borrar un usuario por su correo electrónico\n",
    "        7. Borrar todos los usuarios\n",
    "        8. Salir\n",
    "        \"\"\""
   ]
  },
  {
   "cell_type": "code",
   "execution_count": 5,
   "metadata": {},
   "outputs": [
    {
     "ename": "NameError",
     "evalue": "name 'menu' is not defined",
     "output_type": "error",
     "traceback": [
      "\u001b[0;31m---------------------------------------------------------------------------\u001b[0m",
      "\u001b[0;31mNameError\u001b[0m                                 Traceback (most recent call last)",
      "Cell \u001b[0;32mIn[5], line 2\u001b[0m\n\u001b[1;32m      1\u001b[0m \u001b[38;5;28;01mwhile\u001b[39;00m \u001b[38;5;28;01mTrue\u001b[39;00m: \n\u001b[0;32m----> 2\u001b[0m     option \u001b[38;5;241m=\u001b[39m \u001b[38;5;28mint\u001b[39m(\u001b[38;5;28minput\u001b[39m(\u001b[43mmenu\u001b[49m))\n\u001b[1;32m      3\u001b[0m     \u001b[38;5;28;01mmatch\u001b[39;00m option:\n\u001b[1;32m      4\u001b[0m         \u001b[38;5;28;01mcase\u001b[39;00m \u001b[38;5;241m1\u001b[39m: \n",
      "\u001b[0;31mNameError\u001b[0m: name 'menu' is not defined"
     ]
    }
   ],
   "source": [
    "\n",
    "while True: \n",
    "    option = int(input(menu))\n",
    "    match option:\n",
    "        case 1: \n",
    "            for usuario in usuarios:\n",
    "                print(usuarios)\n",
    "        case 2: \n",
    "            print(\"Opcion 2\")\n",
    "            input(\"Imprimiendo usuarios por ordenados por edad descendente\")\n",
    "            for usuario in usuarios:\n",
    "                print(usuarios[edad])\n",
    "        case 3: \n",
    "            print(\"Opcion 3\")\n",
    "            input(\"Imprimiendo usuario por correo electrónico\")\n",
    "            for usuario in usuarios:\n",
    "                print(usuario[correo_electronico])\n",
    "        case 4: \n",
    "            print(\"Opcion 4\")\n",
    "            input(\"Introduce nombre del nuevo usuario\")\n",
    "            correo_electronico = str(\"Introduce direccion de correo electronico\")\n",
    "            edad = int(\"Introduce edad del nuevo usuario\")\n",
    "            altura = float(\"Añadir altura del nuevo usuario\")\n",
    "            \n",
    "        case 5: \n",
    "            title = input(\"Introduce el nombre del usuario a actualizar\")\n",
    "            nuevo_ID = input(\"Introduce el nuevo ID\")\n",
    "            nuevo_Uso = input(\"Introduce el nuevo Uso\")\n",
    "            for usuario in usuarios:\n",
    "                if title.lower() == Usuario.title.lower():\n",
    "                    usuario.ID = nuevo_ID\n",
    "                    usuario.Uso = nuevo_Uso\n",
    "                    actualizado = True\n",
    "                    break\n",
    "        \n",
    "            if actualizado:\n",
    "                print(\"Usuario actualizado correctamente\")\n",
    "            else:\n",
    "                print(\"Usuario no actualizado\")\n",
    "            \n",
    "        case 6: \n",
    "            title = input(\"Introduce el correo electronico del usuario a eliminar\")\n",
    "            for usuario in usuario:\n",
    "                if title.lower() == usuario.title.lower():\n",
    "                    usuarios.remove()\n",
    "        case 7: \n",
    "            print(\"Borrando todos los usuarios\")\n",
    "            usuarios.clear()\n",
    "            print(\"Todos los usuarios han sido eliminados\")\n",
    "        case 8: \n",
    "            print(\"Salir\")\n",
    "            break\n",
    "        \n",
    "\n",
    "    \n",
    "    "
   ]
  }
 ],
 "metadata": {
  "kernelspec": {
   "display_name": "Python 3",
   "language": "python",
   "name": "python3"
  },
  "language_info": {
   "codemirror_mode": {
    "name": "ipython",
    "version": 3
   },
   "file_extension": ".py",
   "mimetype": "text/x-python",
   "name": "python",
   "nbconvert_exporter": "python",
   "pygments_lexer": "ipython3",
   "version": "3.12.1"
  }
 },
 "nbformat": 4,
 "nbformat_minor": 2
}
