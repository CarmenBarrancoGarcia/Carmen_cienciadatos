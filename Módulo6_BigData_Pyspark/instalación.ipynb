{
 "cells": [
  {
   "cell_type": "markdown",
   "metadata": {},
   "source": [
    "### Instalación Docker\n",
    "\n",
    "Docker es una herramienta de virtualización para creación de imágenes y contenedores. Un contenedor será un sistema operativo empaquetado con todas las herramientas para ejecutar algo, una aplicación, un software.\n",
    "\n",
    "Por ejemplo:\n",
    "\n",
    "* MySQL\n",
    "* Mongo DB\n",
    "* Python Jupyter\n",
    "* Python Jupyter con pyspark\n",
    "\n",
    "Instalar Docker:\n",
    "\n",
    "* Habilitar Hyper-V. A través del Panel de Control"
   ]
  },
  {
   "cell_type": "code",
   "execution_count": null,
   "metadata": {
    "vscode": {
     "languageId": "plaintext"
    }
   },
   "outputs": [],
   "source": [
    "https://www.loom.com/share/416ba4172ac04ac9b5ab047e20f594fa?t=16"
   ]
  },
  {
   "cell_type": "code",
   "execution_count": null,
   "metadata": {
    "vscode": {
     "languageId": "plaintext"
    }
   },
   "outputs": [],
   "source": [
    "docker run hello-world"
   ]
  },
  {
   "cell_type": "code",
   "execution_count": null,
   "metadata": {
    "vscode": {
     "languageId": "plaintext"
    }
   },
   "outputs": [],
   "source": [
    "docker run -it --name pyspark -p 8888:8888 jupyter/pyspark-notebook"
   ]
  },
  {
   "cell_type": "code",
   "execution_count": null,
   "metadata": {
    "vscode": {
     "languageId": "plaintext"
    }
   },
   "outputs": [],
   "source": [
    "# Para abrir en el servidor \n",
    "http://127.0.0.1:8888/lab?token=66958c2f981817852f08174ac78a2e271141e2ce1dfabc29"
   ]
  }
 ],
 "metadata": {
  "language_info": {
   "name": "python"
  }
 },
 "nbformat": 4,
 "nbformat_minor": 2
}
